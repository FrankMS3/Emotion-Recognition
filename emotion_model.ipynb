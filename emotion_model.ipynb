{
 "cells": [
  {
   "cell_type": "code",
   "execution_count": 1,
   "metadata": {},
   "outputs": [],
   "source": [
    "# importing os module\n",
    "import os\n",
    "import numpy as np\n",
    "from PIL import Image\n",
    "from numpy import asarray"
   ]
  },
  {
   "cell_type": "code",
   "execution_count": 2,
   "metadata": {},
   "outputs": [],
   "source": [
    "#Function to convert images to array\n",
    "def img_to_array(emotion):\n",
    "    #first_two = emotion[0:2]\n",
    "    x = []\n",
    "    y = []\n",
    "    #x.append([])\n",
    "    #x[0].append([])\n",
    "    folder = \"C:/Users/User/Project 4 local/archive/\"+emotion\n",
    "    for count, filename in enumerate(os.listdir(folder)):\n",
    "        # load the image\n",
    "        img = Image.open(f\"{folder}/{filename}\")\n",
    "        # asarray() class is used to convert\n",
    "        # PIL images into NumPy arrays\n",
    "        img_data = asarray(img)\n",
    "        #img_data = img_data.reshape(-1,1)\n",
    "        #np.append(X, img_data,axis=0)\n",
    "        x.append(img_data)\n",
    "        y.append(filename[0:2])\n",
    "    return x,y"
   ]
  },
  {
   "cell_type": "code",
   "execution_count": 3,
   "metadata": {},
   "outputs": [],
   "source": [
    "# Call image to array function to convert all images to array\n",
    "feature1,target1 = img_to_array(\"anger\")\n",
    "feature2,target2 = img_to_array(\"contempt\")\n",
    "feature3,target3 = img_to_array(\"disgust\")\n",
    "feature4,target4 = img_to_array(\"fear\")\n",
    "feature5,target5 = img_to_array(\"happiness\")\n",
    "feature6,target6 = img_to_array(\"neutrality\")\n",
    "feature7,target7 = img_to_array(\"sadness\")\n",
    "feature8,target8 = img_to_array(\"surprise\")\n"
   ]
  },
  {
   "cell_type": "code",
   "execution_count": 4,
   "metadata": {},
   "outputs": [
    {
     "data": {
      "text/plain": [
       "5558"
      ]
     },
     "execution_count": 4,
     "metadata": {},
     "output_type": "execute_result"
    }
   ],
   "source": [
    "# Combine all features into one list\n",
    "feature = feature1 + feature2 + feature3 + feature4 + feature5 + feature6 + feature7 + feature8\n",
    "len(feature)"
   ]
  },
  {
   "cell_type": "code",
   "execution_count": 5,
   "metadata": {},
   "outputs": [],
   "source": [
    "# Transforms the list into a numpy array\n",
    "feature_arr = np.array(feature)"
   ]
  },
  {
   "cell_type": "code",
   "execution_count": 6,
   "metadata": {},
   "outputs": [
    {
     "data": {
      "text/plain": [
       "(5558, 224, 224)"
      ]
     },
     "execution_count": 6,
     "metadata": {},
     "output_type": "execute_result"
    }
   ],
   "source": [
    "# Check the shape of the array\n",
    "feature_arr.shape"
   ]
  },
  {
   "cell_type": "code",
   "execution_count": 7,
   "metadata": {},
   "outputs": [
    {
     "data": {
      "text/plain": [
       "(5558,)"
      ]
     },
     "execution_count": 7,
     "metadata": {},
     "output_type": "execute_result"
    }
   ],
   "source": [
    "# Combine all targets into one list\n",
    "target = target1 + target2 + target3 + target4 + target5 + target6 + target7 + target8\n",
    "# Transforms the list into a numpy array\n",
    "target_arr = np.array(target)\n",
    "# Check the shape of the array\n",
    "target_arr.shape"
   ]
  },
  {
   "cell_type": "code",
   "execution_count": 8,
   "metadata": {},
   "outputs": [],
   "source": [
    "# Tranfer the arrays to coresponding variables\n",
    "X = feature_arr\n",
    "y= target_arr"
   ]
  },
  {
   "cell_type": "code",
   "execution_count": 9,
   "metadata": {},
   "outputs": [],
   "source": [
    "# Use sklearn to split dataset\n",
    "from sklearn.model_selection import train_test_split\n",
    "X_train, X_test, y_train, y_test = train_test_split(X, y, random_state=43)"
   ]
  },
  {
   "cell_type": "code",
   "execution_count": 10,
   "metadata": {},
   "outputs": [
    {
     "data": {
      "text/plain": [
       "(4168, 224, 224)"
      ]
     },
     "execution_count": 10,
     "metadata": {},
     "output_type": "execute_result"
    }
   ],
   "source": [
    "# Check the shape of traing data\n",
    "X_train.shape"
   ]
  },
  {
   "cell_type": "code",
   "execution_count": 11,
   "metadata": {},
   "outputs": [
    {
     "data": {
      "text/plain": [
       "(4168,)"
      ]
     },
     "execution_count": 11,
     "metadata": {},
     "output_type": "execute_result"
    }
   ],
   "source": [
    "# Check the shape of testing data\n",
    "y_train.shape"
   ]
  },
  {
   "cell_type": "code",
   "execution_count": 12,
   "metadata": {},
   "outputs": [
    {
     "data": {
      "text/plain": [
       "array([[ 45,  45,  45, ...,  80,  80,  80],\n",
       "       [ 45,  45,  45, ...,  80,  80,  80],\n",
       "       [ 45,  45,  45, ...,  80,  80,  80],\n",
       "       ...,\n",
       "       [204, 204, 204, ..., 151, 151, 151],\n",
       "       [204, 204, 204, ..., 151, 151, 151],\n",
       "       [204, 204, 204, ..., 151, 151, 151]], dtype=uint8)"
      ]
     },
     "execution_count": 12,
     "metadata": {},
     "output_type": "execute_result"
    }
   ],
   "source": [
    "#Check the grayscale values of the first image\n",
    "X_train[0, :, :]"
   ]
  },
  {
   "cell_type": "code",
   "execution_count": 13,
   "metadata": {},
   "outputs": [
    {
     "name": "stdout",
     "output_type": "stream",
     "text": [
      "Training Shape: (4168, 50176)\n",
      "Testing Shape: (1390, 50176)\n"
     ]
    }
   ],
   "source": [
    "# We want to flatten our image of 224x224 pixels to a 1D array of 50176 pixels\n",
    "ndims = X_train.shape[1] * X_train.shape[2]\n",
    "X_train = X_train.reshape(X_train.shape[0], ndims)\n",
    "X_test = X_test.reshape(X_test.shape[0], ndims)\n",
    "print(\"Training Shape:\", X_train.shape)\n",
    "print(\"Testing Shape:\", X_test.shape)"
   ]
  },
  {
   "cell_type": "code",
   "execution_count": 14,
   "metadata": {},
   "outputs": [],
   "source": [
    "# Dependencies to Visualise the model\n",
    "%matplotlib inline\n",
    "from IPython.display import Image, SVG\n",
    "import matplotlib.pyplot as plt\n",
    "import numpy as np\n",
    "np.random.seed(0)\n",
    "import tensorflow as tf\n",
    "# Sklearn scaling\n",
    "from sklearn.preprocessing import MinMaxScaler\n",
    "# Keras\n",
    "from tensorflow import keras\n",
    "from tensorflow.keras.models import Sequential\n",
    "from tensorflow.keras.utils import to_categorical\n",
    "from tensorflow.keras.layers import Dense\n",
    "from tensorflow.keras.datasets import mnist\n",
    "tf.config.run_functions_eagerly(True)\n",
    "tf.data.experimental.enable_debug_mode()"
   ]
  },
  {
   "cell_type": "code",
   "execution_count": 15,
   "metadata": {},
   "outputs": [],
   "source": [
    "# Next, we normalise our training data to be between 0 and 1\n",
    "scaler = MinMaxScaler().fit(X_train)\n",
    "\n",
    "X_train_scaled = scaler.transform(X_train)\n",
    "X_test_scaled = scaler.transform(X_test)"
   ]
  },
  {
   "cell_type": "code",
   "execution_count": 16,
   "metadata": {},
   "outputs": [
    {
     "data": {
      "text/plain": [
       "array(['su', 'ha', 'su', 'su', 'ha', 'di', 'ha', 'fe', 'ha', 'an', 'ne',\n",
       "       'ha', 'ne', 'ha', 'su', 'fe', 'su', 'ha', 'ha', 'ha', 'ha', 'ha',\n",
       "       'di', 'fe', 'su', 'ha', 'an', 'su', 'ha', 'sa', 'di', 'ne', 'di',\n",
       "       'ha', 'sa', 'ha', 'ha', 'di', 'ha', 'an', 'di', 'fe', 'an', 'an',\n",
       "       'an', 'su', 'co', 'ha', 'ha', 'ha', 'sa', 'ha', 'su', 'ha', 'an',\n",
       "       'di', 'su', 'ne', 'fe', 'di', 'ha', 'su', 'ha', 'sa', 'di', 'fe',\n",
       "       'ha', 'ha', 'ha', 'sa', 'su', 'an', 'sa', 'su', 'an', 'ne', 'su',\n",
       "       'sa', 'an', 'fe', 'ha', 'an', 'ha', 'an', 'su', 'ne', 'fe', 'su',\n",
       "       'ha', 'an', 'fe', 'an', 'di', 'ha', 'co', 'sa', 'ha', 'an', 'co',\n",
       "       'an', 'sa', 'fe', 'sa', 'co', 'ha', 'co', 'su', 'ha', 'fe', 'su',\n",
       "       'fe', 'ha', 'su', 'su', 'co', 'sa', 'sa', 'an', 'sa', 'ha', 'sa',\n",
       "       'su', 'ha', 'ha', 'ha', 'sa', 'an', 'an', 'sa', 'ha', 'an', 'sa',\n",
       "       'co', 'an', 'an', 'su', 'di', 'su', 'ha', 'su', 'ha', 'sa', 'an',\n",
       "       'sa', 'ha', 'ha', 'di', 'co', 'ne', 'ha', 'fe', 'an', 'ha', 'fe',\n",
       "       'ha', 'fe', 'sa', 'ha', 'fe', 'sa', 'sa', 'an', 'ha', 'an', 'su',\n",
       "       'ha', 'fe', 'ha', 'ha', 'di', 'fe', 'ha', 'an', 'sa', 'su', 'ha',\n",
       "       'an', 'an', 'ha', 'ha', 'su', 'di', 'an', 'su', 'ha', 'ha', 'an',\n",
       "       'an', 'ne', 'fe', 'ha', 'ha', 'an', 'ha', 'ne', 'sa', 'ne', 'co',\n",
       "       'di', 'ha'], dtype='<U2')"
      ]
     },
     "execution_count": 16,
     "metadata": {},
     "output_type": "execute_result"
    }
   ],
   "source": [
    "# Check the traing data\n",
    "y_train[:200]"
   ]
  },
  {
   "cell_type": "code",
   "execution_count": 17,
   "metadata": {},
   "outputs": [],
   "source": [
    "# y_train_reshaped = y_train.reshape(-1, 1) \n",
    "# y_test_reshaped = y_test.reshape(-1, 1)"
   ]
  },
  {
   "cell_type": "code",
   "execution_count": 18,
   "metadata": {},
   "outputs": [],
   "source": [
    "from sklearn.preprocessing import OneHotEncoder, LabelEncoder\n",
    "# cat = OneHotEncoder()\n",
    "# y_train_t = y_train_reshaped.T\n",
    "# y_test_t = y_test_reshaped.T\n",
    "# y_train_cat = cat.fit_transform(y_train_t).toarray()\n",
    "# y_test_cat = cat.fit_transform(y_test_t).toarray()\n"
   ]
  },
  {
   "cell_type": "code",
   "execution_count": 19,
   "metadata": {},
   "outputs": [],
   "source": [
    "le = LabelEncoder()\n",
    "y_train_encoded = le.fit_transform(y_train)\n",
    "y_test_encoded = le.fit_transform(y_test)"
   ]
  },
  {
   "cell_type": "code",
   "execution_count": 20,
   "metadata": {},
   "outputs": [
    {
     "data": {
      "text/plain": [
       "{}"
      ]
     },
     "execution_count": 20,
     "metadata": {},
     "output_type": "execute_result"
    }
   ],
   "source": [
    "z= le.get_params()\n",
    "z"
   ]
  },
  {
   "cell_type": "code",
   "execution_count": 21,
   "metadata": {},
   "outputs": [
    {
     "data": {
      "text/plain": [
       "array(['an', 'co', 'di', 'fe', 'ha', 'ne', 'sa', 'su'], dtype='<U2')"
      ]
     },
     "execution_count": 21,
     "metadata": {},
     "output_type": "execute_result"
    }
   ],
   "source": [
    "classes = le.classes_\n",
    "classes"
   ]
  },
  {
   "cell_type": "code",
   "execution_count": 22,
   "metadata": {},
   "outputs": [
    {
     "data": {
      "text/plain": [
       "array([0., 0., 0., 0., 0., 0., 0., 1.], dtype=float32)"
      ]
     },
     "execution_count": 22,
     "metadata": {},
     "output_type": "execute_result"
    }
   ],
   "source": [
    "# We need to convert our target labels (expected values) to categorical data\n",
    "num_classes = len(classes)\n",
    "y_train_cat = to_categorical(y_train_encoded, num_classes)\n",
    "y_test_cat = to_categorical(y_test_encoded, num_classes)\n",
    "# Original label of `Surprise` is one-hot encoded as `00000001`\n",
    "y_train_cat[0]"
   ]
  },
  {
   "cell_type": "code",
   "execution_count": 23,
   "metadata": {},
   "outputs": [
    {
     "data": {
      "text/plain": [
       "(4168, 50176)"
      ]
     },
     "execution_count": 23,
     "metadata": {},
     "output_type": "execute_result"
    }
   ],
   "source": [
    "X_train_scaled.shape"
   ]
  },
  {
   "cell_type": "code",
   "execution_count": 24,
   "metadata": {},
   "outputs": [
    {
     "data": {
      "text/plain": [
       "array(['su', 'ha', 'su', ..., 'ha', 'ha', 'ha'], dtype='<U2')"
      ]
     },
     "execution_count": 24,
     "metadata": {},
     "output_type": "execute_result"
    }
   ],
   "source": [
    "y_train"
   ]
  },
  {
   "cell_type": "code",
   "execution_count": 25,
   "metadata": {},
   "outputs": [],
   "source": [
    "# Create an empty sequential model\n",
    "model = Sequential()"
   ]
  },
  {
   "cell_type": "code",
   "execution_count": 26,
   "metadata": {},
   "outputs": [],
   "source": [
    "# Add the first layer where the input dimensions are the 784 pixel values\n",
    "# We can also choose our activation function. `relu` is a common\n",
    "model.add(Dense(100, activation='relu', input_dim=X_train_scaled.shape[1]))"
   ]
  },
  {
   "cell_type": "code",
   "execution_count": 27,
   "metadata": {},
   "outputs": [],
   "source": [
    "# Add a second hidden layer\n",
    "model.add(Dense(100, activation='relu'))"
   ]
  },
  {
   "cell_type": "code",
   "execution_count": 28,
   "metadata": {},
   "outputs": [],
   "source": [
    "# Add our final output layer where the number of nodes \n",
    "# corresponds to the number of y labels\n",
    "model.add(Dense(num_classes, activation='softmax'))"
   ]
  },
  {
   "cell_type": "code",
   "execution_count": 29,
   "metadata": {},
   "outputs": [
    {
     "name": "stdout",
     "output_type": "stream",
     "text": [
      "Model: \"sequential\"\n",
      "_________________________________________________________________\n",
      " Layer (type)                Output Shape              Param #   \n",
      "=================================================================\n",
      " dense (Dense)               (None, 100)               5017700   \n",
      "                                                                 \n",
      " dense_1 (Dense)             (None, 100)               10100     \n",
      "                                                                 \n",
      " dense_2 (Dense)             (None, 8)                 808       \n",
      "                                                                 \n",
      "=================================================================\n",
      "Total params: 5,028,608\n",
      "Trainable params: 5,028,608\n",
      "Non-trainable params: 0\n",
      "_________________________________________________________________\n"
     ]
    }
   ],
   "source": [
    "# We can summarise our model\n",
    "model.summary()"
   ]
  },
  {
   "cell_type": "code",
   "execution_count": 30,
   "metadata": {},
   "outputs": [],
   "source": [
    "# Use categorical crossentropy for categorical data and mean squared error for regression\n",
    "# Hint: your output layer in this example is using software for logistic regression (categorical)\n",
    "# If your output layer activation was `linear` then you may want to use `mse` for loss\n",
    "model.compile(optimizer='adam', \n",
    "              loss='categorical_crossentropy', \n",
    "              metrics=['accuracy'])"
   ]
  },
  {
   "cell_type": "code",
   "execution_count": 31,
   "metadata": {},
   "outputs": [
    {
     "name": "stdout",
     "output_type": "stream",
     "text": [
      "Epoch 1/100\n",
      "131/131 - 26s - loss: 4.0415 - accuracy: 0.2270 - 26s/epoch - 197ms/step\n",
      "Epoch 2/100\n",
      "131/131 - 28s - loss: 2.0324 - accuracy: 0.2925 - 28s/epoch - 214ms/step\n",
      "Epoch 3/100\n",
      "131/131 - 29s - loss: 1.9673 - accuracy: 0.2951 - 29s/epoch - 218ms/step\n",
      "Epoch 4/100\n",
      "131/131 - 30s - loss: 1.9889 - accuracy: 0.2416 - 30s/epoch - 231ms/step\n",
      "Epoch 5/100\n",
      "131/131 - 25s - loss: 1.9625 - accuracy: 0.2529 - 25s/epoch - 193ms/step\n",
      "Epoch 6/100\n",
      "131/131 - 24s - loss: 1.9532 - accuracy: 0.2560 - 24s/epoch - 185ms/step\n",
      "Epoch 7/100\n",
      "131/131 - 25s - loss: 1.9269 - accuracy: 0.2658 - 25s/epoch - 191ms/step\n",
      "Epoch 8/100\n",
      "131/131 - 24s - loss: 1.9163 - accuracy: 0.2639 - 24s/epoch - 183ms/step\n",
      "Epoch 9/100\n",
      "131/131 - 27s - loss: 1.8806 - accuracy: 0.2841 - 27s/epoch - 206ms/step\n",
      "Epoch 10/100\n",
      "131/131 - 27s - loss: 1.8967 - accuracy: 0.2833 - 27s/epoch - 208ms/step\n",
      "Epoch 11/100\n",
      "131/131 - 30s - loss: 1.8524 - accuracy: 0.2992 - 30s/epoch - 232ms/step\n",
      "Epoch 12/100\n",
      "131/131 - 30s - loss: 1.8583 - accuracy: 0.2992 - 30s/epoch - 228ms/step\n",
      "Epoch 13/100\n",
      "131/131 - 32s - loss: 1.8643 - accuracy: 0.2963 - 32s/epoch - 242ms/step\n",
      "Epoch 14/100\n",
      "131/131 - 32s - loss: 1.8653 - accuracy: 0.3025 - 32s/epoch - 246ms/step\n",
      "Epoch 15/100\n",
      "131/131 - 27s - loss: 1.8516 - accuracy: 0.3033 - 27s/epoch - 207ms/step\n",
      "Epoch 16/100\n",
      "131/131 - 29s - loss: 1.8896 - accuracy: 0.2934 - 29s/epoch - 220ms/step\n",
      "Epoch 17/100\n",
      "131/131 - 25s - loss: 1.8385 - accuracy: 0.3097 - 25s/epoch - 191ms/step\n",
      "Epoch 18/100\n",
      "131/131 - 25s - loss: 1.8534 - accuracy: 0.3016 - 25s/epoch - 188ms/step\n",
      "Epoch 19/100\n",
      "131/131 - 23s - loss: 1.8254 - accuracy: 0.3131 - 23s/epoch - 179ms/step\n",
      "Epoch 20/100\n",
      "131/131 - 25s - loss: 1.8436 - accuracy: 0.3105 - 25s/epoch - 187ms/step\n",
      "Epoch 21/100\n",
      "131/131 - 25s - loss: 1.8258 - accuracy: 0.3165 - 25s/epoch - 192ms/step\n",
      "Epoch 22/100\n",
      "131/131 - 25s - loss: 1.8574 - accuracy: 0.3035 - 25s/epoch - 194ms/step\n",
      "Epoch 23/100\n",
      "131/131 - 20s - loss: 1.8355 - accuracy: 0.3145 - 20s/epoch - 150ms/step\n",
      "Epoch 24/100\n",
      "131/131 - 23s - loss: 1.8279 - accuracy: 0.3145 - 23s/epoch - 176ms/step\n",
      "Epoch 25/100\n",
      "131/131 - 19s - loss: 1.8335 - accuracy: 0.3102 - 19s/epoch - 147ms/step\n",
      "Epoch 26/100\n",
      "131/131 - 26s - loss: 1.8291 - accuracy: 0.3133 - 26s/epoch - 199ms/step\n",
      "Epoch 27/100\n",
      "131/131 - 21s - loss: 1.8161 - accuracy: 0.3205 - 21s/epoch - 160ms/step\n",
      "Epoch 28/100\n",
      "131/131 - 22s - loss: 1.8100 - accuracy: 0.3181 - 22s/epoch - 169ms/step\n",
      "Epoch 29/100\n",
      "131/131 - 19s - loss: 1.8371 - accuracy: 0.3141 - 19s/epoch - 147ms/step\n",
      "Epoch 30/100\n",
      "131/131 - 18s - loss: 1.8140 - accuracy: 0.3208 - 18s/epoch - 136ms/step\n",
      "Epoch 31/100\n",
      "131/131 - 18s - loss: 1.8057 - accuracy: 0.3232 - 18s/epoch - 137ms/step\n",
      "Epoch 32/100\n",
      "131/131 - 18s - loss: 1.8095 - accuracy: 0.3201 - 18s/epoch - 135ms/step\n",
      "Epoch 33/100\n",
      "131/131 - 18s - loss: 1.8243 - accuracy: 0.3148 - 18s/epoch - 134ms/step\n",
      "Epoch 34/100\n",
      "131/131 - 22s - loss: 1.8163 - accuracy: 0.3155 - 22s/epoch - 170ms/step\n",
      "Epoch 35/100\n",
      "131/131 - 30s - loss: 1.8270 - accuracy: 0.3133 - 30s/epoch - 231ms/step\n",
      "Epoch 36/100\n",
      "131/131 - 39s - loss: 1.8333 - accuracy: 0.3107 - 39s/epoch - 297ms/step\n",
      "Epoch 37/100\n",
      "131/131 - 31s - loss: 1.8092 - accuracy: 0.3160 - 31s/epoch - 236ms/step\n",
      "Epoch 38/100\n",
      "131/131 - 29s - loss: 1.8270 - accuracy: 0.3126 - 29s/epoch - 218ms/step\n",
      "Epoch 39/100\n",
      "131/131 - 29s - loss: 1.8316 - accuracy: 0.3117 - 29s/epoch - 223ms/step\n",
      "Epoch 40/100\n",
      "131/131 - 27s - loss: 1.7947 - accuracy: 0.3258 - 27s/epoch - 204ms/step\n",
      "Epoch 41/100\n",
      "131/131 - 26s - loss: 1.7880 - accuracy: 0.3285 - 26s/epoch - 197ms/step\n",
      "Epoch 42/100\n",
      "131/131 - 33s - loss: 1.8027 - accuracy: 0.3205 - 33s/epoch - 249ms/step\n",
      "Epoch 43/100\n",
      "131/131 - 30s - loss: 1.7867 - accuracy: 0.3287 - 30s/epoch - 232ms/step\n",
      "Epoch 44/100\n",
      "131/131 - 32s - loss: 1.8134 - accuracy: 0.3165 - 32s/epoch - 244ms/step\n",
      "Epoch 45/100\n",
      "131/131 - 35s - loss: 1.7973 - accuracy: 0.3277 - 35s/epoch - 267ms/step\n",
      "Epoch 46/100\n",
      "131/131 - 32s - loss: 1.7865 - accuracy: 0.3323 - 32s/epoch - 240ms/step\n",
      "Epoch 47/100\n",
      "131/131 - 29s - loss: 1.7948 - accuracy: 0.3213 - 29s/epoch - 224ms/step\n",
      "Epoch 48/100\n",
      "131/131 - 29s - loss: 1.8083 - accuracy: 0.3227 - 29s/epoch - 221ms/step\n",
      "Epoch 49/100\n",
      "131/131 - 29s - loss: 1.7813 - accuracy: 0.3321 - 29s/epoch - 220ms/step\n",
      "Epoch 50/100\n",
      "131/131 - 30s - loss: 1.7881 - accuracy: 0.3280 - 30s/epoch - 231ms/step\n",
      "Epoch 51/100\n",
      "131/131 - 30s - loss: 1.7869 - accuracy: 0.3232 - 30s/epoch - 231ms/step\n",
      "Epoch 52/100\n",
      "131/131 - 30s - loss: 1.7886 - accuracy: 0.3289 - 30s/epoch - 232ms/step\n",
      "Epoch 53/100\n",
      "131/131 - 32s - loss: 1.7855 - accuracy: 0.3306 - 32s/epoch - 244ms/step\n",
      "Epoch 54/100\n",
      "131/131 - 30s - loss: 1.7771 - accuracy: 0.3292 - 30s/epoch - 232ms/step\n",
      "Epoch 55/100\n",
      "131/131 - 25s - loss: 1.8005 - accuracy: 0.3244 - 25s/epoch - 189ms/step\n",
      "Epoch 56/100\n",
      "131/131 - 25s - loss: 1.7778 - accuracy: 0.3321 - 25s/epoch - 188ms/step\n",
      "Epoch 57/100\n",
      "131/131 - 29s - loss: 1.7782 - accuracy: 0.3347 - 29s/epoch - 222ms/step\n",
      "Epoch 58/100\n",
      "131/131 - 24s - loss: 1.7804 - accuracy: 0.3289 - 24s/epoch - 181ms/step\n",
      "Epoch 59/100\n",
      "131/131 - 25s - loss: 1.7650 - accuracy: 0.3373 - 25s/epoch - 188ms/step\n",
      "Epoch 60/100\n",
      "131/131 - 25s - loss: 1.7752 - accuracy: 0.3359 - 25s/epoch - 189ms/step\n",
      "Epoch 61/100\n",
      "131/131 - 25s - loss: 1.7677 - accuracy: 0.3325 - 25s/epoch - 192ms/step\n",
      "Epoch 62/100\n",
      "131/131 - 25s - loss: 1.8257 - accuracy: 0.3196 - 25s/epoch - 189ms/step\n",
      "Epoch 63/100\n",
      "131/131 - 25s - loss: 1.7789 - accuracy: 0.3304 - 25s/epoch - 190ms/step\n",
      "Epoch 64/100\n",
      "131/131 - 24s - loss: 1.7761 - accuracy: 0.3275 - 24s/epoch - 186ms/step\n",
      "Epoch 65/100\n",
      "131/131 - 24s - loss: 1.7950 - accuracy: 0.3167 - 24s/epoch - 180ms/step\n",
      "Epoch 66/100\n",
      "131/131 - 24s - loss: 1.7575 - accuracy: 0.3364 - 24s/epoch - 186ms/step\n",
      "Epoch 67/100\n",
      "131/131 - 25s - loss: 1.7548 - accuracy: 0.3412 - 25s/epoch - 194ms/step\n",
      "Epoch 68/100\n",
      "131/131 - 29s - loss: 1.7868 - accuracy: 0.3301 - 29s/epoch - 222ms/step\n",
      "Epoch 69/100\n",
      "131/131 - 30s - loss: 1.7427 - accuracy: 0.3409 - 30s/epoch - 230ms/step\n",
      "Epoch 70/100\n",
      "131/131 - 28s - loss: 1.7647 - accuracy: 0.3345 - 28s/epoch - 215ms/step\n",
      "Epoch 71/100\n",
      "131/131 - 26s - loss: 1.7826 - accuracy: 0.3328 - 26s/epoch - 200ms/step\n",
      "Epoch 72/100\n",
      "131/131 - 25s - loss: 1.7813 - accuracy: 0.3299 - 25s/epoch - 193ms/step\n",
      "Epoch 73/100\n",
      "131/131 - 25s - loss: 1.7747 - accuracy: 0.3321 - 25s/epoch - 190ms/step\n",
      "Epoch 74/100\n",
      "131/131 - 25s - loss: 1.7578 - accuracy: 0.3359 - 25s/epoch - 192ms/step\n",
      "Epoch 75/100\n",
      "131/131 - 25s - loss: 1.7622 - accuracy: 0.3304 - 25s/epoch - 191ms/step\n",
      "Epoch 76/100\n",
      "131/131 - 24s - loss: 1.7464 - accuracy: 0.3383 - 24s/epoch - 179ms/step\n",
      "Epoch 77/100\n",
      "131/131 - 25s - loss: 1.7639 - accuracy: 0.3366 - 25s/epoch - 188ms/step\n",
      "Epoch 78/100\n",
      "131/131 - 28s - loss: 1.7843 - accuracy: 0.3297 - 28s/epoch - 217ms/step\n",
      "Epoch 79/100\n",
      "131/131 - 30s - loss: 1.7531 - accuracy: 0.3402 - 30s/epoch - 226ms/step\n",
      "Epoch 80/100\n",
      "131/131 - 29s - loss: 1.7538 - accuracy: 0.3347 - 29s/epoch - 220ms/step\n",
      "Epoch 81/100\n",
      "131/131 - 28s - loss: 1.7445 - accuracy: 0.3450 - 28s/epoch - 213ms/step\n",
      "Epoch 82/100\n",
      "131/131 - 24s - loss: 1.7483 - accuracy: 0.3397 - 24s/epoch - 182ms/step\n",
      "Epoch 83/100\n",
      "131/131 - 30s - loss: 1.7790 - accuracy: 0.3306 - 30s/epoch - 232ms/step\n",
      "Epoch 84/100\n",
      "131/131 - 48s - loss: 1.7553 - accuracy: 0.3383 - 48s/epoch - 367ms/step\n",
      "Epoch 85/100\n",
      "131/131 - 62s - loss: 1.7276 - accuracy: 0.3440 - 62s/epoch - 476ms/step\n",
      "Epoch 86/100\n",
      "131/131 - 51s - loss: 1.7416 - accuracy: 0.3361 - 51s/epoch - 388ms/step\n",
      "Epoch 87/100\n",
      "131/131 - 38s - loss: 1.7342 - accuracy: 0.3448 - 38s/epoch - 292ms/step\n",
      "Epoch 88/100\n",
      "131/131 - 33s - loss: 1.7434 - accuracy: 0.3357 - 33s/epoch - 251ms/step\n",
      "Epoch 89/100\n",
      "131/131 - 35s - loss: 1.7510 - accuracy: 0.3364 - 35s/epoch - 267ms/step\n",
      "Epoch 90/100\n",
      "131/131 - 33s - loss: 1.7337 - accuracy: 0.3440 - 33s/epoch - 248ms/step\n",
      "Epoch 91/100\n",
      "131/131 - 28s - loss: 1.7428 - accuracy: 0.3429 - 28s/epoch - 215ms/step\n",
      "Epoch 92/100\n",
      "131/131 - 33s - loss: 1.7568 - accuracy: 0.3402 - 33s/epoch - 249ms/step\n",
      "Epoch 93/100\n",
      "131/131 - 30s - loss: 1.7308 - accuracy: 0.3414 - 30s/epoch - 232ms/step\n",
      "Epoch 94/100\n",
      "131/131 - 34s - loss: 1.7481 - accuracy: 0.3381 - 34s/epoch - 261ms/step\n",
      "Epoch 95/100\n",
      "131/131 - 33s - loss: 1.7389 - accuracy: 0.3366 - 33s/epoch - 255ms/step\n",
      "Epoch 96/100\n",
      "131/131 - 33s - loss: 1.7267 - accuracy: 0.3520 - 33s/epoch - 254ms/step\n",
      "Epoch 97/100\n",
      "131/131 - 37s - loss: 1.7136 - accuracy: 0.3515 - 37s/epoch - 285ms/step\n",
      "Epoch 98/100\n",
      "131/131 - 32s - loss: 1.7098 - accuracy: 0.3498 - 32s/epoch - 242ms/step\n",
      "Epoch 99/100\n",
      "131/131 - 28s - loss: 1.7445 - accuracy: 0.3445 - 28s/epoch - 216ms/step\n",
      "Epoch 100/100\n",
      "131/131 - 34s - loss: 1.7388 - accuracy: 0.3395 - 34s/epoch - 256ms/step\n"
     ]
    },
    {
     "data": {
      "text/plain": [
       "<keras.callbacks.History at 0x2bd621b3f08>"
      ]
     },
     "execution_count": 31,
     "metadata": {},
     "output_type": "execute_result"
    }
   ],
   "source": [
    "# Fit (train) the model\n",
    "model.fit(\n",
    "    X_train_scaled,\n",
    "    y_train_cat,\n",
    "    epochs=100,\n",
    "    shuffle=True,\n",
    "    verbose=2\n",
    ")"
   ]
  },
  {
   "cell_type": "code",
   "execution_count": null,
   "metadata": {},
   "outputs": [],
   "source": []
  },
  {
   "cell_type": "code",
   "execution_count": null,
   "metadata": {},
   "outputs": [],
   "source": []
  },
  {
   "cell_type": "code",
   "execution_count": 36,
   "metadata": {},
   "outputs": [
    {
     "ename": "ValueError",
     "evalue": "Input 0 of layer \"conv2d_4\" is incompatible with the layer: expected min_ndim=4, found ndim=3. Full shape received: (None, 9, 50176)",
     "output_type": "error",
     "traceback": [
      "\u001b[1;31m---------------------------------------------------------------------------\u001b[0m",
      "\u001b[1;31mValueError\u001b[0m                                Traceback (most recent call last)",
      "\u001b[1;32m~\\AppData\\Local\\Temp\\ipykernel_9360\\4246045351.py\u001b[0m in \u001b[0;36m<module>\u001b[1;34m\u001b[0m\n\u001b[0;32m     11\u001b[0m     \u001b[0mkeras\u001b[0m\u001b[1;33m.\u001b[0m\u001b[0mlayers\u001b[0m\u001b[1;33m.\u001b[0m\u001b[0mFlatten\u001b[0m\u001b[1;33m(\u001b[0m\u001b[1;33m)\u001b[0m\u001b[1;33m,\u001b[0m\u001b[1;33m\u001b[0m\u001b[1;33m\u001b[0m\u001b[0m\n\u001b[0;32m     12\u001b[0m     \u001b[0mkeras\u001b[0m\u001b[1;33m.\u001b[0m\u001b[0mlayers\u001b[0m\u001b[1;33m.\u001b[0m\u001b[0mDense\u001b[0m\u001b[1;33m(\u001b[0m\u001b[1;36m128\u001b[0m\u001b[1;33m,\u001b[0m \u001b[0mactivation\u001b[0m\u001b[1;33m=\u001b[0m\u001b[1;34m'relu'\u001b[0m\u001b[1;33m)\u001b[0m\u001b[1;33m,\u001b[0m\u001b[1;33m\u001b[0m\u001b[1;33m\u001b[0m\u001b[0m\n\u001b[1;32m---> 13\u001b[1;33m     \u001b[0mkeras\u001b[0m\u001b[1;33m.\u001b[0m\u001b[0mlayers\u001b[0m\u001b[1;33m.\u001b[0m\u001b[0mDense\u001b[0m\u001b[1;33m(\u001b[0m\u001b[1;36m3\u001b[0m\u001b[1;33m,\u001b[0m \u001b[0mactivation\u001b[0m\u001b[1;33m=\u001b[0m\u001b[1;34m'softmax'\u001b[0m\u001b[1;33m)\u001b[0m\u001b[1;33m\u001b[0m\u001b[1;33m\u001b[0m\u001b[0m\n\u001b[0m\u001b[0;32m     14\u001b[0m ])\n",
      "\u001b[1;32mc:\\Users\\User\\anaconda3\\envs\\PythonData\\lib\\site-packages\\tensorflow\\python\\trackable\\base.py\u001b[0m in \u001b[0;36m_method_wrapper\u001b[1;34m(self, *args, **kwargs)\u001b[0m\n\u001b[0;32m    203\u001b[0m     \u001b[0mself\u001b[0m\u001b[1;33m.\u001b[0m\u001b[0m_self_setattr_tracking\u001b[0m \u001b[1;33m=\u001b[0m \u001b[1;32mFalse\u001b[0m  \u001b[1;31m# pylint: disable=protected-access\u001b[0m\u001b[1;33m\u001b[0m\u001b[1;33m\u001b[0m\u001b[0m\n\u001b[0;32m    204\u001b[0m     \u001b[1;32mtry\u001b[0m\u001b[1;33m:\u001b[0m\u001b[1;33m\u001b[0m\u001b[1;33m\u001b[0m\u001b[0m\n\u001b[1;32m--> 205\u001b[1;33m       \u001b[0mresult\u001b[0m \u001b[1;33m=\u001b[0m \u001b[0mmethod\u001b[0m\u001b[1;33m(\u001b[0m\u001b[0mself\u001b[0m\u001b[1;33m,\u001b[0m \u001b[1;33m*\u001b[0m\u001b[0margs\u001b[0m\u001b[1;33m,\u001b[0m \u001b[1;33m**\u001b[0m\u001b[0mkwargs\u001b[0m\u001b[1;33m)\u001b[0m\u001b[1;33m\u001b[0m\u001b[1;33m\u001b[0m\u001b[0m\n\u001b[0m\u001b[0;32m    206\u001b[0m     \u001b[1;32mfinally\u001b[0m\u001b[1;33m:\u001b[0m\u001b[1;33m\u001b[0m\u001b[1;33m\u001b[0m\u001b[0m\n\u001b[0;32m    207\u001b[0m       \u001b[0mself\u001b[0m\u001b[1;33m.\u001b[0m\u001b[0m_self_setattr_tracking\u001b[0m \u001b[1;33m=\u001b[0m \u001b[0mprevious_value\u001b[0m  \u001b[1;31m# pylint: disable=protected-access\u001b[0m\u001b[1;33m\u001b[0m\u001b[1;33m\u001b[0m\u001b[0m\n",
      "\u001b[1;32mc:\\Users\\User\\anaconda3\\envs\\PythonData\\lib\\site-packages\\keras\\utils\\traceback_utils.py\u001b[0m in \u001b[0;36merror_handler\u001b[1;34m(*args, **kwargs)\u001b[0m\n\u001b[0;32m     68\u001b[0m             \u001b[1;31m# To get the full stack trace, call:\u001b[0m\u001b[1;33m\u001b[0m\u001b[1;33m\u001b[0m\u001b[1;33m\u001b[0m\u001b[0m\n\u001b[0;32m     69\u001b[0m             \u001b[1;31m# `tf.debugging.disable_traceback_filtering()`\u001b[0m\u001b[1;33m\u001b[0m\u001b[1;33m\u001b[0m\u001b[1;33m\u001b[0m\u001b[0m\n\u001b[1;32m---> 70\u001b[1;33m             \u001b[1;32mraise\u001b[0m \u001b[0me\u001b[0m\u001b[1;33m.\u001b[0m\u001b[0mwith_traceback\u001b[0m\u001b[1;33m(\u001b[0m\u001b[0mfiltered_tb\u001b[0m\u001b[1;33m)\u001b[0m \u001b[1;32mfrom\u001b[0m \u001b[1;32mNone\u001b[0m\u001b[1;33m\u001b[0m\u001b[1;33m\u001b[0m\u001b[0m\n\u001b[0m\u001b[0;32m     71\u001b[0m         \u001b[1;32mfinally\u001b[0m\u001b[1;33m:\u001b[0m\u001b[1;33m\u001b[0m\u001b[1;33m\u001b[0m\u001b[0m\n\u001b[0;32m     72\u001b[0m             \u001b[1;32mdel\u001b[0m \u001b[0mfiltered_tb\u001b[0m\u001b[1;33m\u001b[0m\u001b[1;33m\u001b[0m\u001b[0m\n",
      "\u001b[1;32mc:\\Users\\User\\anaconda3\\envs\\PythonData\\lib\\site-packages\\keras\\engine\\input_spec.py\u001b[0m in \u001b[0;36massert_input_compatibility\u001b[1;34m(input_spec, inputs, layer_name)\u001b[0m\n\u001b[0;32m    249\u001b[0m             \u001b[1;32mif\u001b[0m \u001b[0mndim\u001b[0m \u001b[1;32mis\u001b[0m \u001b[1;32mnot\u001b[0m \u001b[1;32mNone\u001b[0m \u001b[1;32mand\u001b[0m \u001b[0mndim\u001b[0m \u001b[1;33m<\u001b[0m \u001b[0mspec\u001b[0m\u001b[1;33m.\u001b[0m\u001b[0mmin_ndim\u001b[0m\u001b[1;33m:\u001b[0m\u001b[1;33m\u001b[0m\u001b[1;33m\u001b[0m\u001b[0m\n\u001b[0;32m    250\u001b[0m                 raise ValueError(\n\u001b[1;32m--> 251\u001b[1;33m                     \u001b[1;34mf'Input {input_index} of layer \"{layer_name}\" '\u001b[0m\u001b[1;33m\u001b[0m\u001b[1;33m\u001b[0m\u001b[0m\n\u001b[0m\u001b[0;32m    252\u001b[0m                     \u001b[1;34m\"is incompatible with the layer: \"\u001b[0m\u001b[1;33m\u001b[0m\u001b[1;33m\u001b[0m\u001b[0m\n\u001b[0;32m    253\u001b[0m                     \u001b[1;34mf\"expected min_ndim={spec.min_ndim}, \"\u001b[0m\u001b[1;33m\u001b[0m\u001b[1;33m\u001b[0m\u001b[0m\n",
      "\u001b[1;31mValueError\u001b[0m: Input 0 of layer \"conv2d_4\" is incompatible with the layer: expected min_ndim=4, found ndim=3. Full shape received: (None, 9, 50176)"
     ]
    }
   ],
   "source": [
    "# A better convolutional neural network\n",
    " \n",
    "# Model defining\n",
    "model = keras.Sequential([\n",
    "    keras.layers.AveragePooling2D(6, 3,\n",
    "                                  input_shape=(32, 50176)),\n",
    "    keras.layers.Conv2D(64, 3, activation='relu'),\n",
    "    keras.layers.Conv2D(32, 3, activation='relu'),\n",
    "    keras.layers.MaxPool2D(2, 2),\n",
    "    keras.layers.Dropout(0.5),\n",
    "    keras.layers.Flatten(),\n",
    "    keras.layers.Dense(128, activation='relu'),\n",
    "    keras.layers.Dense(3, activation='softmax')\n",
    "])\n"
   ]
  },
  {
   "cell_type": "code",
   "execution_count": 33,
   "metadata": {},
   "outputs": [],
   "source": [
    " \n",
    "# Compiling a model\n",
    "model.compile(optimizer='adam',\n",
    "              loss=keras.losses.SparseCategoricalCrossentropy(),\n",
    "              metrics=['accuracy'])\n"
   ]
  },
  {
   "cell_type": "code",
   "execution_count": 34,
   "metadata": {},
   "outputs": [
    {
     "name": "stdout",
     "output_type": "stream",
     "text": [
      "Epoch 1/5\n"
     ]
    },
    {
     "ename": "ValueError",
     "evalue": "Input 0 of layer \"sequential_1\" is incompatible with the layer: expected shape=(None, 300, 300, 1), found shape=(32, 50176)",
     "output_type": "error",
     "traceback": [
      "\u001b[1;31m---------------------------------------------------------------------------\u001b[0m",
      "\u001b[1;31mValueError\u001b[0m                                Traceback (most recent call last)",
      "\u001b[1;32m~\\AppData\\Local\\Temp\\ipykernel_9360\\3027010641.py\u001b[0m in \u001b[0;36m<module>\u001b[1;34m\u001b[0m\n\u001b[0;32m      1\u001b[0m \u001b[1;31m# Fitting the model\u001b[0m\u001b[1;33m\u001b[0m\u001b[1;33m\u001b[0m\u001b[1;33m\u001b[0m\u001b[0m\n\u001b[0;32m      2\u001b[0m model.fit(X_train_scaled, y_train_cat, epochs=5,\n\u001b[1;32m----> 3\u001b[1;33m           batch_size=32)\n\u001b[0m",
      "\u001b[1;32mc:\\Users\\User\\anaconda3\\envs\\PythonData\\lib\\site-packages\\keras\\utils\\traceback_utils.py\u001b[0m in \u001b[0;36merror_handler\u001b[1;34m(*args, **kwargs)\u001b[0m\n\u001b[0;32m     68\u001b[0m             \u001b[1;31m# To get the full stack trace, call:\u001b[0m\u001b[1;33m\u001b[0m\u001b[1;33m\u001b[0m\u001b[1;33m\u001b[0m\u001b[0m\n\u001b[0;32m     69\u001b[0m             \u001b[1;31m# `tf.debugging.disable_traceback_filtering()`\u001b[0m\u001b[1;33m\u001b[0m\u001b[1;33m\u001b[0m\u001b[1;33m\u001b[0m\u001b[0m\n\u001b[1;32m---> 70\u001b[1;33m             \u001b[1;32mraise\u001b[0m \u001b[0me\u001b[0m\u001b[1;33m.\u001b[0m\u001b[0mwith_traceback\u001b[0m\u001b[1;33m(\u001b[0m\u001b[0mfiltered_tb\u001b[0m\u001b[1;33m)\u001b[0m \u001b[1;32mfrom\u001b[0m \u001b[1;32mNone\u001b[0m\u001b[1;33m\u001b[0m\u001b[1;33m\u001b[0m\u001b[0m\n\u001b[0m\u001b[0;32m     71\u001b[0m         \u001b[1;32mfinally\u001b[0m\u001b[1;33m:\u001b[0m\u001b[1;33m\u001b[0m\u001b[1;33m\u001b[0m\u001b[0m\n\u001b[0;32m     72\u001b[0m             \u001b[1;32mdel\u001b[0m \u001b[0mfiltered_tb\u001b[0m\u001b[1;33m\u001b[0m\u001b[1;33m\u001b[0m\u001b[0m\n",
      "\u001b[1;32mc:\\Users\\User\\anaconda3\\envs\\PythonData\\lib\\site-packages\\keras\\engine\\input_spec.py\u001b[0m in \u001b[0;36massert_input_compatibility\u001b[1;34m(input_spec, inputs, layer_name)\u001b[0m\n\u001b[0;32m    294\u001b[0m                     \u001b[1;32mif\u001b[0m \u001b[0mspec_dim\u001b[0m \u001b[1;33m!=\u001b[0m \u001b[0mdim\u001b[0m\u001b[1;33m:\u001b[0m\u001b[1;33m\u001b[0m\u001b[1;33m\u001b[0m\u001b[0m\n\u001b[0;32m    295\u001b[0m                         raise ValueError(\n\u001b[1;32m--> 296\u001b[1;33m                             \u001b[1;34mf'Input {input_index} of layer \"{layer_name}\" is '\u001b[0m\u001b[1;33m\u001b[0m\u001b[1;33m\u001b[0m\u001b[0m\n\u001b[0m\u001b[0;32m    297\u001b[0m                             \u001b[1;34m\"incompatible with the layer: \"\u001b[0m\u001b[1;33m\u001b[0m\u001b[1;33m\u001b[0m\u001b[0m\n\u001b[0;32m    298\u001b[0m                             \u001b[1;34mf\"expected shape={spec.shape}, \"\u001b[0m\u001b[1;33m\u001b[0m\u001b[1;33m\u001b[0m\u001b[0m\n",
      "\u001b[1;31mValueError\u001b[0m: Input 0 of layer \"sequential_1\" is incompatible with the layer: expected shape=(None, 300, 300, 1), found shape=(32, 50176)"
     ]
    }
   ],
   "source": [
    " \n",
    "# Fitting the model\n",
    "model.fit(X_train_scaled, y_train_cat, epochs=5,\n",
    "          batch_size=32)"
   ]
  },
  {
   "cell_type": "code",
   "execution_count": null,
   "metadata": {},
   "outputs": [],
   "source": []
  },
  {
   "cell_type": "code",
   "execution_count": null,
   "metadata": {},
   "outputs": [],
   "source": []
  }
 ],
 "metadata": {
  "kernelspec": {
   "display_name": "PythonData",
   "language": "python",
   "name": "python3"
  },
  "language_info": {
   "codemirror_mode": {
    "name": "ipython",
    "version": 3
   },
   "file_extension": ".py",
   "mimetype": "text/x-python",
   "name": "python",
   "nbconvert_exporter": "python",
   "pygments_lexer": "ipython3",
   "version": "3.7.13"
  },
  "orig_nbformat": 4,
  "vscode": {
   "interpreter": {
    "hash": "9da66beca27f19bdf81de16e0121a30aa04d4edd5eb88e9a5610932102b72b6f"
   }
  }
 },
 "nbformat": 4,
 "nbformat_minor": 2
}
