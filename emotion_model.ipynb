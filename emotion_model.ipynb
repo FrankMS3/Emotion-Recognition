{
  "cells": [
    {
      "cell_type": "code",
      "execution_count": 2,
      "metadata": {
        "colab": {
          "base_uri": "https://localhost:8080/"
        },
        "id": "0OTugsGG2xIS",
        "outputId": "a713acee-a370-45d7-fe74-366658b54218"
      },
      "outputs": [
        {
          "output_type": "stream",
          "name": "stdout",
          "text": [
            "Mounted at /content/drive\n"
          ]
        }
      ],
      "source": [
        "from google.colab import drive\n",
        "drive.mount('/content/drive')"
      ]
    },
    {
      "cell_type": "code",
      "execution_count": 3,
      "metadata": {
        "id": "b6fWC2L92xIY"
      },
      "outputs": [],
      "source": [
        "# importing os module\n",
        "import os\n",
        "import numpy as np\n",
        "from PIL import Image\n",
        "from numpy import asarray\n",
        "from tensorflow import keras\n",
        "from tensorflow.keras.preprocessing import image"
      ]
    },
    {
      "cell_type": "code",
      "execution_count": 4,
      "metadata": {
        "id": "0NSuL5_c2xIZ"
      },
      "outputs": [],
      "source": [
        "#Function to convert images to array\n",
        "def img_to_array(emotion, img_size):\n",
        "    #first_two = emotion[0:2]\n",
        "    x = []\n",
        "    y = []\n",
        "    #x.append([])\n",
        "    #x[0].append([])\n",
        "    folder = \"/content/drive/My Drive/archive/emotion/\"+emotion\n",
        "    for count, filename in enumerate(os.listdir(folder)):\n",
        "        # load the image\n",
        "        img = Image.open(f\"{folder}/{filename}\")\n",
        "        # Resize the image\n",
        "        img = img.resize((img_size, img_size))\n",
        "        # asarray() class is used to convert\n",
        "        # PIL images into NumPy arrays\n",
        "        img_data = image.img_to_array(img)\n",
        "        #img_data = img_data.reshape(-1,1)\n",
        "        #np.append(X, img_data,axis=0)\n",
        "        x.append(img_data)\n",
        "        y.append(emotion)\n",
        "    return x,y"
      ]
    },
    {
      "cell_type": "code",
      "execution_count": 5,
      "metadata": {
        "id": "v8-YYAKN2xIa"
      },
      "outputs": [],
      "source": [
        "img_size = 48\n",
        "# Call image to array function to convert all images to array\n",
        "feature1,target1 = img_to_array(\"anger\", img_size)\n",
        "feature2,target2 = img_to_array(\"surprise\", img_size)\n",
        "feature3,target3 = img_to_array(\"disgust\", img_size)\n",
        "feature4,target4 = img_to_array(\"fear\", img_size)\n",
        "feature5,target5 = img_to_array(\"happiness\", img_size)\n",
        "feature6,target6 = img_to_array(\"neutrality\", img_size)\n",
        "feature7,target7 = img_to_array(\"sadness\", img_size)\n",
        "\n"
      ]
    },
    {
      "cell_type": "code",
      "execution_count": 6,
      "metadata": {
        "colab": {
          "base_uri": "https://localhost:8080/"
        },
        "id": "qdUY2iNk2xIb",
        "outputId": "01e98d41-bf6a-448b-ae30-989723fc7ba4"
      },
      "outputs": [
        {
          "output_type": "stream",
          "name": "stdout",
          "text": [
            "(28784, 48, 48, 1) \n",
            " (28784,)\n"
          ]
        }
      ],
      "source": [
        "# Combine all features into one list\n",
        "feature = feature1 + feature2 + feature3 + feature4 + feature5 + feature6 + feature7\n",
        "# Transforms the list into a numpy array\n",
        "feature_arr = np.array(feature)\n",
        "\n",
        "# Combine all targets into one list\n",
        "target = target1 + target2 + target3 + target4 + target5 + target6 + target7\n",
        "# Transforms the list into a numpy array\n",
        "target_arr = np.array(target)\n",
        "# Check the shape of the array\n",
        "print(f\"{feature_arr.shape} \\n {target_arr.shape}\")"
      ]
    },
    {
      "cell_type": "code",
      "execution_count": 7,
      "metadata": {
        "id": "mVie27Mp2xIk"
      },
      "outputs": [],
      "source": [
        "# Tranfer the arrays to coresponding variables\n",
        "X = feature_arr\n",
        "y= target_arr"
      ]
    },
    {
      "cell_type": "code",
      "execution_count": 8,
      "metadata": {
        "id": "XnfLVmcCnBRd"
      },
      "outputs": [],
      "source": [
        "# Dependencies to Visualise the model\n",
        "%matplotlib inline\n",
        "from IPython.display import Image, SVG\n",
        "import matplotlib.pyplot as plt\n",
        "import numpy as np\n",
        "np.random.seed(0)\n",
        "import tensorflow as tf\n",
        "# Sklearn\n",
        "from sklearn.model_selection import train_test_split\n",
        "# Sklearn scaling\n",
        "from sklearn.preprocessing import MinMaxScaler\n",
        "from sklearn.preprocessing import OneHotEncoder, LabelEncoder\n",
        "# Keras\n",
        "from tensorflow import keras\n",
        "# import keras_tuner as kt\n",
        "from tensorflow.keras.models import Sequential\n",
        "from tensorflow.keras.utils import to_categorical\n",
        "from tensorflow.keras.layers import Dense, Dropout, Flatten, Conv2D, MaxPool2D, AveragePooling2D, BatchNormalization\n",
        "from keras.metrics import top_k_categorical_accuracy\n",
        "tf.config.run_functions_eagerly(True)\n",
        "tf.data.experimental.enable_debug_mode()"
      ]
    },
    {
      "cell_type": "code",
      "execution_count": 9,
      "metadata": {
        "id": "JJ67-CvE2xIn",
        "colab": {
          "base_uri": "https://localhost:8080/"
        },
        "outputId": "be903ecf-d1fe-47da-b692-064d46b20538"
      },
      "outputs": [
        {
          "output_type": "stream",
          "name": "stdout",
          "text": [
            "(21588, 48, 48, 1) \n",
            " (21588,)\n"
          ]
        }
      ],
      "source": [
        "# Use sklearn to split dataset\n",
        "X_train, X_test, y_train, y_test = train_test_split(X, y, random_state=43)\n",
        "\n",
        "# Check the shape of traing data\n",
        "print(f\"{X_train.shape} \\n {y_train.shape}\")"
      ]
    },
    {
      "cell_type": "code",
      "execution_count": 10,
      "metadata": {
        "id": "LHjqNMnqX8Bl",
        "colab": {
          "base_uri": "https://localhost:8080/"
        },
        "outputId": "9d920fa9-b0f7-4b50-d887-e72f1751c3dc"
      },
      "outputs": [
        {
          "output_type": "stream",
          "name": "stdout",
          "text": [
            "(21588, 48, 48, 1) \n",
            " (21588,)\n"
          ]
        },
        {
          "output_type": "execute_result",
          "data": {
            "text/plain": [
              "array(['fear', 'happiness', 'neutrality', 'happiness', 'happiness',\n",
              "       'neutrality', 'surprise', 'neutrality', 'happiness', 'happiness',\n",
              "       'fear', 'fear', 'neutrality', 'fear', 'fear', 'happiness',\n",
              "       'sadness', 'neutrality', 'neutrality', 'happiness'], dtype='<U10')"
            ]
          },
          "metadata": {},
          "execution_count": 10
        }
      ],
      "source": [
        "# building the input vector from the 28x28 pixels\n",
        "X_train = X_train.reshape(X_train.shape[0], img_size, img_size,1)\n",
        "X_test = X_test.reshape(X_test.shape[0], img_size, img_size,1)\n",
        "X_train = X_train.astype('float32')\n",
        "X_test = X_test.astype('float32')\n",
        "\n",
        "# normalizing the data to help with the training\n",
        "X_train /= 255\n",
        "X_test /= 255\n",
        "\n",
        "print(f\"{X_train.shape} \\n {y_train.shape}\")\n",
        "y_train[:20]\n"
      ]
    },
    {
      "cell_type": "code",
      "execution_count": 11,
      "metadata": {
        "id": "USAo5Bvo2xIw",
        "colab": {
          "base_uri": "https://localhost:8080/"
        },
        "outputId": "c9dcbaf2-fb51-4a9a-f3a7-77aecce0b492"
      },
      "outputs": [
        {
          "output_type": "execute_result",
          "data": {
            "text/plain": [
              "array(['anger', 'disgust', 'fear', 'happiness', 'neutrality', 'sadness',\n",
              "       'surprise'], dtype='<U10')"
            ]
          },
          "metadata": {},
          "execution_count": 11
        }
      ],
      "source": [
        "# Change target catagorieslabels to numaeric categories using LabelEncoder\n",
        "le = LabelEncoder()\n",
        "y_train_encoded = le.fit_transform(y_train)\n",
        "y_test_encoded = le.fit_transform(y_test)\n",
        "classes = le.classes_\n",
        "classes"
      ]
    },
    {
      "cell_type": "code",
      "execution_count": 12,
      "metadata": {
        "colab": {
          "base_uri": "https://localhost:8080/"
        },
        "id": "hPUW8QSn2xIw",
        "outputId": "8c0218f8-afc8-438f-b795-67ff8a178ff9"
      },
      "outputs": [
        {
          "output_type": "execute_result",
          "data": {
            "text/plain": [
              "array([0., 0., 1., 0., 0., 0., 0.], dtype=float32)"
            ]
          },
          "metadata": {},
          "execution_count": 12
        }
      ],
      "source": [
        "# We need to convert our target labels (expected values) to categorical data\n",
        "num_classes = len(classes)\n",
        "y_train = to_categorical(y_train_encoded, num_classes)\n",
        "y_test = to_categorical(y_test_encoded, num_classes)\n",
        "\n",
        "y_train[0]"
      ]
    },
    {
      "cell_type": "code",
      "execution_count": 13,
      "metadata": {
        "colab": {
          "base_uri": "https://localhost:8080/"
        },
        "id": "JrXB24Si2xIx",
        "outputId": "989cc02e-b3ca-4efe-84d4-3273a4b1e6fc"
      },
      "outputs": [
        {
          "output_type": "execute_result",
          "data": {
            "text/plain": [
              "(21588, 48, 48, 1)"
            ]
          },
          "metadata": {},
          "execution_count": 13
        }
      ],
      "source": [
        "X_train.shape"
      ]
    },
    {
      "cell_type": "code",
      "execution_count": 14,
      "metadata": {
        "colab": {
          "base_uri": "https://localhost:8080/"
        },
        "id": "htpDpK9q2xIx",
        "outputId": "a9584712-4c32-412e-e1f1-5e755bd8d451"
      },
      "outputs": [
        {
          "output_type": "execute_result",
          "data": {
            "text/plain": [
              "array([[0., 0., 1., ..., 0., 0., 0.],\n",
              "       [0., 0., 0., ..., 0., 0., 0.],\n",
              "       [0., 0., 0., ..., 1., 0., 0.],\n",
              "       ...,\n",
              "       [0., 0., 0., ..., 0., 0., 0.],\n",
              "       [0., 0., 0., ..., 1., 0., 0.],\n",
              "       [0., 0., 0., ..., 0., 0., 0.]], dtype=float32)"
            ]
          },
          "metadata": {},
          "execution_count": 14
        }
      ],
      "source": [
        "y_train"
      ]
    },
    {
      "cell_type": "code",
      "execution_count": 15,
      "metadata": {
        "id": "etU6WHXB1XfR"
      },
      "outputs": [],
      "source": [
        "from tensorflow.keras import regularizers"
      ]
    },
    {
      "cell_type": "code",
      "execution_count": 16,
      "metadata": {
        "id": "4iCZ7lM1myPy"
      },
      "outputs": [],
      "source": [
        "# Change model Compile Matrix top_k_categorical_accuracy top-5 to top-2\n",
        "inTop2 = lambda x, y: top_k_categorical_accuracy(x, y, k=2)\n",
        "\n",
        "#kernel_regularizer=regularizers.L1L2(l1=1e-5, l2=1e-4)\n",
        "input_shape = X_train[0].shape\n",
        "activ = 'swish'"
      ]
    },
    {
      "cell_type": "code",
      "execution_count": 48,
      "metadata": {
        "id": "E9XV93BD2xIx"
      },
      "outputs": [],
      "source": [
        "cnn6 = Sequential()\n",
        "cnn6.add(Conv2D(32, kernel_size=(4, 4), activation= activ, input_shape=input_shape))\n",
        "cnn6.add(BatchNormalization())\n",
        "cnn6.add(Dropout(0.25))\n",
        "\n",
        "cnn6.add(Conv2D(32, kernel_size=(4, 4), activation=activ))\n",
        "cnn6.add(BatchNormalization())\n",
        "cnn6.add(AveragePooling2D(pool_size=(2, 2)))\n",
        "cnn6.add(Dropout(0.25))\n",
        "\n",
        "cnn6.add(Conv2D(64, kernel_size=(3, 3), activation=activ))\n",
        "cnn6.add(BatchNormalization())\n",
        "cnn6.add(Dropout(0.25))\n",
        "\n",
        "cnn6.add(Conv2D(64, kernel_size=(3, 3), activation=activ))\n",
        "cnn6.add(BatchNormalization())\n",
        "cnn6.add(AveragePooling2D(pool_size=(2, 2)))\n",
        "cnn6.add(Dropout(0.25))\n",
        "\n",
        "cnn6.add(Conv2D(128, kernel_size=(2, 2), activation=activ))\n",
        "cnn6.add(BatchNormalization())\n",
        "cnn6.add(Dropout(0.25))\n",
        "\n",
        "cnn6.add(Conv2D(128, kernel_size=(2, 2), activation=activ))\n",
        "cnn6.add(BatchNormalization())\n",
        "cnn6.add(AveragePooling2D(pool_size=(2, 2)))\n",
        "cnn6.add(Dropout(0.25))\n",
        "\n",
        "cnn6.add(Flatten())\n",
        "\n",
        "cnn6.add(Dense(512, activation=activ))\n",
        "cnn6.add(BatchNormalization())\n",
        "cnn6.add(Dropout(0.5))\n",
        "\n",
        "cnn6.add(Dense(128, activation=activ))\n",
        "cnn6.add(BatchNormalization())\n",
        "cnn6.add(Dropout(0.5))\n",
        "\n",
        "cnn6.add(Dense(7, activation='softmax'))\n",
        "\n",
        "cnn6.compile(loss='categorical_crossentropy', optimizer='adam', metrics=['accuracy'])"
      ]
    },
    {
      "cell_type": "code",
      "execution_count": 49,
      "metadata": {
        "colab": {
          "base_uri": "https://localhost:8080/"
        },
        "id": "QcdFWTQHLoSD",
        "outputId": "8142d03c-d5b1-45e4-a4c3-c060608410a2"
      },
      "outputs": [
        {
          "output_type": "stream",
          "name": "stdout",
          "text": [
            "Model: \"sequential_1\"\n",
            "_________________________________________________________________\n",
            " Layer (type)                Output Shape              Param #   \n",
            "=================================================================\n",
            " conv2d_6 (Conv2D)           (None, 45, 45, 32)        544       \n",
            "                                                                 \n",
            " batch_normalization_8 (Batc  (None, 45, 45, 32)       128       \n",
            " hNormalization)                                                 \n",
            "                                                                 \n",
            " dropout_8 (Dropout)         (None, 45, 45, 32)        0         \n",
            "                                                                 \n",
            " conv2d_7 (Conv2D)           (None, 42, 42, 32)        16416     \n",
            "                                                                 \n",
            " batch_normalization_9 (Batc  (None, 42, 42, 32)       128       \n",
            " hNormalization)                                                 \n",
            "                                                                 \n",
            " average_pooling2d_3 (Averag  (None, 21, 21, 32)       0         \n",
            " ePooling2D)                                                     \n",
            "                                                                 \n",
            " dropout_9 (Dropout)         (None, 21, 21, 32)        0         \n",
            "                                                                 \n",
            " conv2d_8 (Conv2D)           (None, 19, 19, 64)        18496     \n",
            "                                                                 \n",
            " batch_normalization_10 (Bat  (None, 19, 19, 64)       256       \n",
            " chNormalization)                                                \n",
            "                                                                 \n",
            " dropout_10 (Dropout)        (None, 19, 19, 64)        0         \n",
            "                                                                 \n",
            " conv2d_9 (Conv2D)           (None, 17, 17, 64)        36928     \n",
            "                                                                 \n",
            " batch_normalization_11 (Bat  (None, 17, 17, 64)       256       \n",
            " chNormalization)                                                \n",
            "                                                                 \n",
            " average_pooling2d_4 (Averag  (None, 8, 8, 64)         0         \n",
            " ePooling2D)                                                     \n",
            "                                                                 \n",
            " dropout_11 (Dropout)        (None, 8, 8, 64)          0         \n",
            "                                                                 \n",
            " conv2d_10 (Conv2D)          (None, 7, 7, 128)         32896     \n",
            "                                                                 \n",
            " batch_normalization_12 (Bat  (None, 7, 7, 128)        512       \n",
            " chNormalization)                                                \n",
            "                                                                 \n",
            " dropout_12 (Dropout)        (None, 7, 7, 128)         0         \n",
            "                                                                 \n",
            " conv2d_11 (Conv2D)          (None, 6, 6, 128)         65664     \n",
            "                                                                 \n",
            " batch_normalization_13 (Bat  (None, 6, 6, 128)        512       \n",
            " chNormalization)                                                \n",
            "                                                                 \n",
            " average_pooling2d_5 (Averag  (None, 3, 3, 128)        0         \n",
            " ePooling2D)                                                     \n",
            "                                                                 \n",
            " dropout_13 (Dropout)        (None, 3, 3, 128)         0         \n",
            "                                                                 \n",
            " flatten_1 (Flatten)         (None, 1152)              0         \n",
            "                                                                 \n",
            " dense_3 (Dense)             (None, 512)               590336    \n",
            "                                                                 \n",
            " batch_normalization_14 (Bat  (None, 512)              2048      \n",
            " chNormalization)                                                \n",
            "                                                                 \n",
            " dropout_14 (Dropout)        (None, 512)               0         \n",
            "                                                                 \n",
            " dense_4 (Dense)             (None, 128)               65664     \n",
            "                                                                 \n",
            " batch_normalization_15 (Bat  (None, 128)              512       \n",
            " chNormalization)                                                \n",
            "                                                                 \n",
            " dropout_15 (Dropout)        (None, 128)               0         \n",
            "                                                                 \n",
            " dense_5 (Dense)             (None, 7)                 903       \n",
            "                                                                 \n",
            "=================================================================\n",
            "Total params: 832,199\n",
            "Trainable params: 830,023\n",
            "Non-trainable params: 2,176\n",
            "_________________________________________________________________\n"
          ]
        }
      ],
      "source": [
        "cnn6.summary()"
      ]
    },
    {
      "cell_type": "code",
      "execution_count": 51,
      "metadata": {
        "colab": {
          "base_uri": "https://localhost:8080/"
        },
        "id": "1-FRRuQYu3u_",
        "outputId": "d2d30e22-328e-4c4a-d74e-e15b309007c0"
      },
      "outputs": [
        {
          "output_type": "stream",
          "name": "stdout",
          "text": [
            "Epoch 1/29\n",
            "338/338 [==============================] - 249s 737ms/step - loss: 2.1211 - accuracy: 0.2692 - val_loss: 1.7968 - val_accuracy: 0.2504\n",
            "Epoch 2/29\n",
            "338/338 [==============================] - 248s 734ms/step - loss: 1.6973 - accuracy: 0.3594 - val_loss: 1.6458 - val_accuracy: 0.3645\n",
            "Epoch 3/29\n",
            "338/338 [==============================] - 247s 730ms/step - loss: 1.5278 - accuracy: 0.4164 - val_loss: 1.4331 - val_accuracy: 0.4387\n",
            "Epoch 4/29\n",
            "338/338 [==============================] - 247s 732ms/step - loss: 1.4290 - accuracy: 0.4527 - val_loss: 1.3421 - val_accuracy: 0.4807\n",
            "Epoch 5/29\n",
            "338/338 [==============================] - 250s 739ms/step - loss: 1.3524 - accuracy: 0.4815 - val_loss: 1.3209 - val_accuracy: 0.4868\n",
            "Epoch 6/29\n",
            "338/338 [==============================] - 246s 728ms/step - loss: 1.3007 - accuracy: 0.5044 - val_loss: 1.2700 - val_accuracy: 0.5122\n",
            "Epoch 7/29\n",
            "338/338 [==============================] - 247s 730ms/step - loss: 1.2583 - accuracy: 0.5208 - val_loss: 1.2378 - val_accuracy: 0.5339\n",
            "Epoch 8/29\n",
            "338/338 [==============================] - 245s 725ms/step - loss: 1.2114 - accuracy: 0.5372 - val_loss: 1.1815 - val_accuracy: 0.5516\n",
            "Epoch 9/29\n",
            "338/338 [==============================] - 245s 725ms/step - loss: 1.1845 - accuracy: 0.5535 - val_loss: 1.2121 - val_accuracy: 0.5360\n",
            "Epoch 10/29\n",
            "338/338 [==============================] - 247s 731ms/step - loss: 1.1622 - accuracy: 0.5637 - val_loss: 1.1502 - val_accuracy: 0.5607\n",
            "Epoch 11/29\n",
            "338/338 [==============================] - 246s 727ms/step - loss: 1.1400 - accuracy: 0.5713 - val_loss: 1.1660 - val_accuracy: 0.5607\n",
            "Epoch 12/29\n",
            "338/338 [==============================] - 246s 728ms/step - loss: 1.1146 - accuracy: 0.5767 - val_loss: 1.1569 - val_accuracy: 0.5630\n",
            "Epoch 13/29\n",
            "338/338 [==============================] - 246s 728ms/step - loss: 1.0928 - accuracy: 0.5873 - val_loss: 1.1232 - val_accuracy: 0.5727\n",
            "Epoch 14/29\n",
            "338/338 [==============================] - 245s 726ms/step - loss: 1.0719 - accuracy: 0.5982 - val_loss: 1.0970 - val_accuracy: 0.5869\n",
            "Epoch 15/29\n",
            "338/338 [==============================] - 247s 730ms/step - loss: 1.0521 - accuracy: 0.6031 - val_loss: 1.1121 - val_accuracy: 0.5795\n",
            "Epoch 16/29\n",
            "338/338 [==============================] - 247s 732ms/step - loss: 1.0389 - accuracy: 0.6081 - val_loss: 1.1581 - val_accuracy: 0.5660\n",
            "Epoch 17/29\n",
            "338/338 [==============================] - 247s 732ms/step - loss: 1.0167 - accuracy: 0.6178 - val_loss: 1.1281 - val_accuracy: 0.5798\n",
            "Epoch 18/29\n",
            "338/338 [==============================] - 247s 730ms/step - loss: 1.0014 - accuracy: 0.6264 - val_loss: 1.0643 - val_accuracy: 0.6001\n",
            "Epoch 19/29\n",
            "338/338 [==============================] - 245s 724ms/step - loss: 0.9920 - accuracy: 0.6326 - val_loss: 1.1050 - val_accuracy: 0.5859\n",
            "Epoch 20/29\n",
            "338/338 [==============================] - 243s 718ms/step - loss: 0.9745 - accuracy: 0.6354 - val_loss: 1.0682 - val_accuracy: 0.5967\n",
            "Epoch 21/29\n",
            "338/338 [==============================] - 246s 728ms/step - loss: 0.9503 - accuracy: 0.6423 - val_loss: 1.1233 - val_accuracy: 0.5838\n",
            "Epoch 22/29\n",
            "338/338 [==============================] - 249s 736ms/step - loss: 0.9430 - accuracy: 0.6506 - val_loss: 1.0928 - val_accuracy: 0.5956\n",
            "Epoch 23/29\n",
            "338/338 [==============================] - 248s 734ms/step - loss: 0.9275 - accuracy: 0.6535 - val_loss: 1.1605 - val_accuracy: 0.5775\n",
            "Epoch 24/29\n",
            "338/338 [==============================] - 246s 729ms/step - loss: 0.9227 - accuracy: 0.6562 - val_loss: 1.1273 - val_accuracy: 0.5863\n",
            "Epoch 25/29\n",
            "338/338 [==============================] - 244s 722ms/step - loss: 0.8959 - accuracy: 0.6618 - val_loss: 1.0833 - val_accuracy: 0.6067\n",
            "Epoch 26/29\n",
            "338/338 [==============================] - 247s 730ms/step - loss: 0.8860 - accuracy: 0.6716 - val_loss: 1.1149 - val_accuracy: 0.5998\n",
            "Epoch 27/29\n",
            "338/338 [==============================] - 248s 733ms/step - loss: 0.8858 - accuracy: 0.6719 - val_loss: 1.0533 - val_accuracy: 0.6181\n",
            "Epoch 28/29\n",
            "338/338 [==============================] - 246s 729ms/step - loss: 0.8657 - accuracy: 0.6744 - val_loss: 1.0811 - val_accuracy: 0.6137\n",
            "Epoch 29/29\n",
            "338/338 [==============================] - 248s 734ms/step - loss: 0.8557 - accuracy: 0.6802 - val_loss: 1.1026 - val_accuracy: 0.6052\n"
          ]
        },
        {
          "output_type": "execute_result",
          "data": {
            "text/plain": [
              "<keras.callbacks.History at 0x7f009ab71d60>"
            ]
          },
          "metadata": {},
          "execution_count": 51
        }
      ],
      "source": [
        "# training the model for 10 epochs\n",
        "cnn6.fit(X_train, y_train, batch_size=64, epochs=29, validation_data=(X_test, y_test))"
      ]
    },
    {
      "cell_type": "code",
      "execution_count": 20,
      "metadata": {
        "colab": {
          "base_uri": "https://localhost:8080/",
          "height": 295
        },
        "id": "cKRw-T2yvQeI",
        "outputId": "a92c524d-2934-4870-e4d4-b69a26980597"
      },
      "outputs": [
        {
          "output_type": "display_data",
          "data": {
            "text/plain": [
              "<Figure size 432x288 with 1 Axes>"
            ],
            "image/png": "[encoded data removed]"
          },
          "metadata": {
            "needs_background": "light"
          }
        }
      ],
      "source": [
        "#  \"Accuracy\"\n",
        "plt.plot(cnn6.history.history['accuracy'])\n",
        "plt.plot(cnn6.history.history['val_accuracy'])\n",
        "plt.title('model accuracy')\n",
        "plt.ylabel('accuracy')\n",
        "plt.xlabel('epoch')\n",
        "plt.legend(['train', 'validation'], loc='upper left')\n",
        "plt.show()\n"
      ]
    },
    {
      "cell_type": "code",
      "execution_count": 21,
      "metadata": {
        "id": "XY4mKd_kvQgq",
        "colab": {
          "base_uri": "https://localhost:8080/",
          "height": 295
        },
        "outputId": "c256fd5f-1ec7-459a-fd8d-7196e5e01000"
      },
      "outputs": [
        {
          "output_type": "display_data",
          "data": {
            "text/plain": [
              "<Figure size 432x288 with 1 Axes>"
            ],
            "image/png": "[encoded data removed]"
          },
          "metadata": {
            "needs_background": "light"
          }
        }
      ],
      "source": [
        "# \"Loss\"\n",
        "plt.plot(cnn6.history.history['loss'])\n",
        "plt.plot(cnn6.history.history['val_loss'])\n",
        "plt.title('model loss')\n",
        "plt.ylabel('loss')\n",
        "plt.xlabel('epoch')\n",
        "plt.legend(['train', 'validation'], loc='upper left')\n",
        "plt.show()"
      ]
    },
    {
      "cell_type": "markdown",
      "metadata": {
        "id": "-BBj2QrH2xI0"
      },
      "source": [
        "## Saving and Loading models\n",
        "\n",
        "We can save our trained models using the HDF5 binary format with the extension `.h5`"
      ]
    },
    {
      "cell_type": "code",
      "execution_count": 24,
      "metadata": {
        "id": "KRmQr7bJ2xI2"
      },
      "outputs": [],
      "source": [
        "# Save the model\n",
        "cnn6.save(\"emotion_model.h5\")"
      ]
    },
    {
      "cell_type": "code",
      "execution_count": 41,
      "metadata": {
        "id": "SN6eFVgE2xI3"
      },
      "outputs": [],
      "source": [
        "# Load the model\n",
        "from tensorflow.keras.models import load_model\n",
        "#model = load_model(\"/content/drive/My Drive/cnn2D65.h5\",  custom_objects={\"lr_track\": lr_track })\n",
        "model = load_model(\"emotion_model.h5\",  compile=False)"
      ]
    },
    {
      "cell_type": "markdown",
      "metadata": {
        "id": "xCPuXKW_2xI3"
      },
      "source": [
        "## Evaluating the Model\n",
        "\n",
        "We use our testing data to validate our model. This is how we determine the validity of our model (i.e. the ability to predict new and previously unseen data points)"
      ]
    },
    {
      "cell_type": "code",
      "execution_count": 42,
      "metadata": {
        "colab": {
          "base_uri": "https://localhost:8080/"
        },
        "id": "T8Y7mTCL2xI3",
        "outputId": "1d5dd4e1-23c4-4fd3-bd43-6b4d1a266d8b"
      },
      "outputs": [
        {
          "output_type": "stream",
          "name": "stdout",
          "text": [
            "225/225 - 19s - loss: 1.1205 - accuracy: 0.5896 - 19s/epoch - 83ms/step\n",
            "Loss: 1.120548963546753, Accuracy: 0.5896331071853638\n"
          ]
        }
      ],
      "source": [
        "# Evaluate the model using the training data \n",
        "model_loss, model_accuracy = cnn6.evaluate(X_test, y_test, verbose=2)\n",
        "print(f\"Loss: {model_loss}, Accuracy: {model_accuracy}\")"
      ]
    },
    {
      "cell_type": "markdown",
      "metadata": {
        "id": "DjvfZFqi2xI4"
      },
      "source": [
        "## Making Predictions\n",
        "\n",
        "We can use our trained model to make predictions using `model.predict`"
      ]
    },
    {
      "cell_type": "code",
      "execution_count": 43,
      "metadata": {
        "id": "YcRexD_Y2xI4"
      },
      "outputs": [],
      "source": [
        "# Define default image size for our model\n",
        "#image_path = os.path.join(\"Images\", \"happy.jpeg\")\n",
        "image_path = \"/content/drive/My Drive/happy.jpeg\"\n",
        "image_size = (img_size, img_size, 1)"
      ]
    },
    {
      "cell_type": "code",
      "execution_count": 44,
      "metadata": {
        "colab": {
          "base_uri": "https://localhost:8080/",
          "height": 65
        },
        "id": "nxXt0p5u2xI4",
        "outputId": "b1ff21ef-b1a5-4c7c-d323-a3b6e1e0f19c"
      },
      "outputs": [
        {
          "output_type": "execute_result",
          "data": {
            "text/plain": [
              "<PIL.Image.Image image mode=L size=48x48 at 0x7F009ACCEB80>"
            ],
            "image/png": "[encoded data removed]"
          },
          "metadata": {},
          "execution_count": 44
        }
      ],
      "source": [
        "from tensorflow.keras.preprocessing import image\n",
        "im = image.load_img(image_path, target_size=image_size, color_mode=\"grayscale\")\n",
        "im"
      ]
    },
    {
      "cell_type": "code",
      "execution_count": 45,
      "metadata": {
        "colab": {
          "base_uri": "https://localhost:8080/"
        },
        "id": "CmhYzSeF2xI5",
        "outputId": "81a65f4f-13e4-431c-bfb5-9c1b59aae67e"
      },
      "outputs": [
        {
          "output_type": "execute_result",
          "data": {
            "text/plain": [
              "(48, 48, 1)"
            ]
          },
          "metadata": {},
          "execution_count": 45
        }
      ],
      "source": [
        "# Convert the image to a numpy array \n",
        "from tensorflow.keras.preprocessing.image import img_to_array\n",
        "image = img_to_array(im)\n",
        "image.shape"
      ]
    },
    {
      "cell_type": "code",
      "execution_count": 46,
      "metadata": {
        "colab": {
          "base_uri": "https://localhost:8080/"
        },
        "id": "2HKOeBaj2xI5",
        "outputId": "5507718d-16d9-4f33-9edd-406cdeb9de07"
      },
      "outputs": [
        {
          "output_type": "execute_result",
          "data": {
            "text/plain": [
              "(1, 48, 48, 1)"
            ]
          },
          "metadata": {},
          "execution_count": 46
        }
      ],
      "source": [
        "# Scale the image pixels by 255 (or use a scaler from sklearn here)\n",
        "image/= 255\n",
        "\n",
        "# Reshape\n",
        "img = image.reshape(1, img_size, img_size, 1)\n",
        "img.shape"
      ]
    },
    {
      "cell_type": "code",
      "execution_count": 47,
      "metadata": {
        "colab": {
          "base_uri": "https://localhost:8080/"
        },
        "id": "09ddIPnm2xI6",
        "outputId": "7ed9c605-8741-468d-e8ff-155025048885"
      },
      "outputs": [
        {
          "output_type": "stream",
          "name": "stdout",
          "text": [
            "1/1 [==============================] - 0s 30ms/step\n"
          ]
        },
        {
          "output_type": "execute_result",
          "data": {
            "text/plain": [
              "array([[0., 0., 0., 1., 0., 0., 0.]], dtype=float32)"
            ]
          },
          "metadata": {},
          "execution_count": 47
        }
      ],
      "source": [
        "# Make a prediction. The result should be 0000010000000 for a 5\n",
        "model.predict(img).round()"
      ]
    },
    {
      "cell_type": "code",
      "execution_count": null,
      "metadata": {
        "id": "rczwJLt82xI7"
      },
      "outputs": [],
      "source": []
    },
    {
      "cell_type": "code",
      "execution_count": null,
      "metadata": {
        "id": "sHacwnQ_2xI7"
      },
      "outputs": [],
      "source": []
    },
    {
      "cell_type": "code",
      "execution_count": null,
      "metadata": {
        "id": "K0APfupa2xI7"
      },
      "outputs": [],
      "source": []
    },
    {
      "cell_type": "code",
      "execution_count": null,
      "metadata": {
        "id": "KMeKGZzY2xI7"
      },
      "outputs": [],
      "source": []
    }
  ],
  "metadata": {
    "colab": {
      "provenance": []
    },
    "kernelspec": {
      "display_name": "PythonData",
      "language": "python",
      "name": "python3"
    },
    "language_info": {
      "codemirror_mode": {
        "name": "ipython",
        "version": 3
      },
      "file_extension": ".py",
      "mimetype": "text/x-python",
      "name": "python",
      "nbconvert_exporter": "python",
      "pygments_lexer": "ipython3",
      "version": "3.7.13"
    },
    "orig_nbformat": 4,
    "vscode": {
      "interpreter": {
        "hash": "9da66beca27f19bdf81de16e0121a30aa04d4edd5eb88e9a5610932102b72b6f"
      }
    }
  },
  "nbformat": 4,
  "nbformat_minor": 0
}