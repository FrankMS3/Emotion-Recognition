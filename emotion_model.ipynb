{
 "cells": [
  {
   "cell_type": "code",
   "execution_count": 1,
   "metadata": {},
   "outputs": [],
   "source": [
    "# importing os module\n",
    "import os\n",
    "import numpy as np\n",
    "from PIL import Image\n",
    "from numpy import asarray"
   ]
  },
  {
   "cell_type": "code",
   "execution_count": 2,
   "metadata": {},
   "outputs": [],
   "source": [
    "#Function to convert images to array\n",
    "def img_to_array(emotion):\n",
    "    #first_two = emotion[0:2]\n",
    "    x = []\n",
    "    y = []\n",
    "    #x.append([])\n",
    "    #x[0].append([])\n",
    "    folder = \"C:/Users/User/Project 4 local/archive/\"+emotion\n",
    "    for count, filename in enumerate(os.listdir(folder)):\n",
    "        # load the image\n",
    "        img = Image.open(f\"{folder}/{filename}\")\n",
    "        # asarray() class is used to convert\n",
    "        # PIL images into NumPy arrays\n",
    "        img_data = asarray(img)\n",
    "        #img_data = img_data.reshape(-1,1)\n",
    "        #np.append(X, img_data,axis=0)\n",
    "        x.append(img_data)\n",
    "        y.append(filename[0:2])\n",
    "    return x,y"
   ]
  },
  {
   "cell_type": "code",
   "execution_count": 3,
   "metadata": {},
   "outputs": [],
   "source": [
    "# Call image to array function to convert all images to array\n",
    "feature1,target1 = img_to_array(\"anger\")\n",
    "feature2,target2 = img_to_array(\"contempt\")\n",
    "feature3,target3 = img_to_array(\"disgust\")\n",
    "feature4,target4 = img_to_array(\"fear\")\n",
    "feature5,target5 = img_to_array(\"happiness\")\n",
    "feature6,target6 = img_to_array(\"neutrality\")\n",
    "feature7,target7 = img_to_array(\"sadness\")\n",
    "feature8,target8 = img_to_array(\"surprise\")\n"
   ]
  },
  {
   "cell_type": "code",
   "execution_count": 4,
   "metadata": {},
   "outputs": [
    {
     "data": {
      "text/plain": [
       "5558"
      ]
     },
     "execution_count": 4,
     "metadata": {},
     "output_type": "execute_result"
    }
   ],
   "source": [
    "# Combine all features into one list\n",
    "feature = feature1 + feature2 + feature3 + feature4 + feature5 + feature6 + feature7 + feature8\n",
    "len(feature)"
   ]
  },
  {
   "cell_type": "code",
   "execution_count": 5,
   "metadata": {},
   "outputs": [],
   "source": [
    "# Transforms the list into a numpy array\n",
    "feature_arr = np.array(feature)"
   ]
  },
  {
   "cell_type": "code",
   "execution_count": 6,
   "metadata": {},
   "outputs": [
    {
     "data": {
      "text/plain": [
       "(5558, 224, 224)"
      ]
     },
     "execution_count": 6,
     "metadata": {},
     "output_type": "execute_result"
    }
   ],
   "source": [
    "# Check the shape of the array\n",
    "feature_arr.shape"
   ]
  },
  {
   "cell_type": "code",
   "execution_count": 7,
   "metadata": {},
   "outputs": [
    {
     "data": {
      "text/plain": [
       "(5558,)"
      ]
     },
     "execution_count": 7,
     "metadata": {},
     "output_type": "execute_result"
    }
   ],
   "source": [
    "# Combine all targets into one list\n",
    "target = target1 + target2 + target3 + target4 + target5 + target6 + target7 + target8\n",
    "# Transforms the list into a numpy array\n",
    "target_arr = np.array(target)\n",
    "# Check the shape of the array\n",
    "target_arr.shape"
   ]
  },
  {
   "cell_type": "code",
   "execution_count": 8,
   "metadata": {},
   "outputs": [],
   "source": [
    "# Tranfer the arrays to coresponding variables\n",
    "X = feature_arr\n",
    "y= target_arr"
   ]
  },
  {
   "cell_type": "code",
   "execution_count": 9,
   "metadata": {},
   "outputs": [],
   "source": [
    "# Use sklearn to split dataset\n",
    "from sklearn.model_selection import train_test_split\n",
    "X_train, X_test, y_train, y_test = train_test_split(X, y, random_state=42)"
   ]
  },
  {
   "cell_type": "code",
   "execution_count": 10,
   "metadata": {},
   "outputs": [
    {
     "data": {
      "text/plain": [
       "(4168, 224, 224)"
      ]
     },
     "execution_count": 10,
     "metadata": {},
     "output_type": "execute_result"
    }
   ],
   "source": [
    "# Check the shape of traing data\n",
    "X_train.shape"
   ]
  },
  {
   "cell_type": "code",
   "execution_count": 11,
   "metadata": {},
   "outputs": [
    {
     "data": {
      "text/plain": [
       "(4168,)"
      ]
     },
     "execution_count": 11,
     "metadata": {},
     "output_type": "execute_result"
    }
   ],
   "source": [
    "# Check the shape of testing data\n",
    "y_train.shape"
   ]
  },
  {
   "cell_type": "code",
   "execution_count": 12,
   "metadata": {},
   "outputs": [
    {
     "data": {
      "text/plain": [
       "array([[185, 185, 185, ..., 181, 181, 181],\n",
       "       [185, 185, 185, ..., 181, 181, 181],\n",
       "       [185, 185, 185, ..., 181, 181, 181],\n",
       "       ...,\n",
       "       [ 89,  89,  89, ...,  39,  39,  39],\n",
       "       [ 89,  89,  89, ...,  39,  39,  39],\n",
       "       [ 89,  89,  89, ...,  39,  39,  39]], dtype=uint8)"
      ]
     },
     "execution_count": 12,
     "metadata": {},
     "output_type": "execute_result"
    }
   ],
   "source": [
    "#Check the grayscale values of the first image\n",
    "X_train[0, :, :]"
   ]
  },
  {
   "cell_type": "code",
   "execution_count": 13,
   "metadata": {},
   "outputs": [
    {
     "name": "stdout",
     "output_type": "stream",
     "text": [
      "Training Shape: (4168, 50176)\n",
      "Testing Shape: (1390, 50176)\n"
     ]
    }
   ],
   "source": [
    "# We want to flatten our image of 224x224 pixels to a 1D array of 50176 pixels\n",
    "ndims = X_train.shape[1] * X_train.shape[2]\n",
    "X_train = X_train.reshape(X_train.shape[0], ndims)\n",
    "X_test = X_test.reshape(X_test.shape[0], ndims)\n",
    "print(\"Training Shape:\", X_train.shape)\n",
    "print(\"Testing Shape:\", X_test.shape)"
   ]
  },
  {
   "cell_type": "code",
   "execution_count": 14,
   "metadata": {},
   "outputs": [],
   "source": [
    "# Dependencies to Visualise the model\n",
    "%matplotlib inline\n",
    "from IPython.display import Image, SVG\n",
    "import matplotlib.pyplot as plt\n",
    "import numpy as np\n",
    "np.random.seed(0)\n",
    "import tensorflow as tf\n",
    "# Sklearn scaling\n",
    "from sklearn.preprocessing import MinMaxScaler\n",
    "# Keras\n",
    "from tensorflow import keras\n",
    "from tensorflow.keras.models import Sequential\n",
    "from tensorflow.keras.utils import to_categorical\n",
    "from tensorflow.keras.layers import Dense\n",
    "from tensorflow.keras.datasets import mnist\n",
    "tf.config.run_functions_eagerly(True)\n",
    "tf.data.experimental.enable_debug_mode()"
   ]
  },
  {
   "cell_type": "code",
   "execution_count": 15,
   "metadata": {},
   "outputs": [],
   "source": [
    "# Next, we normalise our training data to be between 0 and 1\n",
    "scaler = MinMaxScaler().fit(X_train)\n",
    "\n",
    "X_train_scaled = scaler.transform(X_train)\n",
    "X_test_scaled = scaler.transform(X_test)"
   ]
  },
  {
   "cell_type": "code",
   "execution_count": 16,
   "metadata": {},
   "outputs": [
    {
     "data": {
      "text/plain": [
       "array(['an', 'ne', 'fe', 'ne', 'an', 'ne', 'su', 'su', 'ha', 'ha', 'co',\n",
       "       'su', 'an', 'ha', 'fe', 'an', 'fe', 'ha', 'ha', 'ha', 'ha', 'ne',\n",
       "       'an', 'sa', 'ha', 'ha', 'ne', 'co', 'fe', 'an', 'fe', 'sa', 'ha',\n",
       "       'an', 'ne', 'su', 'ha', 'ha', 'an', 'sa', 'fe', 'di', 'ha', 'ha',\n",
       "       'ne', 'an', 'sa', 'ha', 'sa', 'an', 'su', 'an', 'ha', 'su', 'sa',\n",
       "       'ha', 'ha', 'fe', 'fe', 'su', 'di', 'ha', 'an', 'sa', 'ne', 'ne',\n",
       "       'su', 'ne', 'di', 'su', 'co', 'ha', 'ne', 'ha', 'an', 'sa', 'su',\n",
       "       'su', 'fe', 'sa', 'su', 'di', 'ha', 'sa', 'su', 'su', 'di', 'sa',\n",
       "       'sa', 'ha', 'sa', 'ha', 'ne', 'an', 'fe', 'di', 'ha', 'sa', 'ne',\n",
       "       'su', 'an', 'ha', 'an', 'sa', 'ha', 'su', 'di', 'ha', 'su', 'su',\n",
       "       'ha', 'su', 'ne', 'ha', 'an', 'ne', 'sa', 'ne', 'an', 'an', 'an',\n",
       "       'sa', 'ne', 'fe', 'co', 'di', 'ha', 'di', 'ha', 'su', 'fe', 'sa',\n",
       "       'fe', 'ne', 'sa', 'su', 'ha', 'fe', 'fe', 'su', 'an', 'ha', 'su',\n",
       "       'su', 'ha', 'an', 'fe', 'di', 'ne', 'ne', 'ha', 'su', 'ne', 'su',\n",
       "       'an', 'di', 'co', 'fe', 'an', 'ne', 'an', 'ha', 'su', 'ne', 'ha',\n",
       "       'ha', 'ha', 'an', 'di', 'su', 'an', 'di', 'di', 'ha', 'an', 'an',\n",
       "       'sa', 'an', 'ha', 'di', 'sa', 'sa', 'di', 'co', 'an', 'ha', 'sa',\n",
       "       'fe', 'an', 'di', 'di', 'sa', 'an', 'sa', 'ne', 'an', 'fe', 'di',\n",
       "       'sa', 'an'], dtype='<U2')"
      ]
     },
     "execution_count": 16,
     "metadata": {},
     "output_type": "execute_result"
    }
   ],
   "source": [
    "# Check the traing data\n",
    "y_train[:200]"
   ]
  },
  {
   "cell_type": "code",
   "execution_count": 17,
   "metadata": {},
   "outputs": [],
   "source": [
    "# y_train_reshaped = y_train.reshape(-1, 1) \n",
    "# y_test_reshaped = y_test.reshape(-1, 1)"
   ]
  },
  {
   "cell_type": "code",
   "execution_count": 18,
   "metadata": {},
   "outputs": [],
   "source": [
    "from sklearn.preprocessing import OneHotEncoder, LabelEncoder"
   ]
  },
  {
   "cell_type": "code",
   "execution_count": 19,
   "metadata": {},
   "outputs": [],
   "source": [
    "le = LabelEncoder()\n",
    "y_train_encoded = le.fit_transform(y_train)\n",
    "y_test_encoded = le.fit_transform(y_test)"
   ]
  },
  {
   "cell_type": "code",
   "execution_count": 20,
   "metadata": {},
   "outputs": [
    {
     "data": {
      "text/plain": [
       "array(['an', 'co', 'di', 'fe', 'ha', 'ne', 'sa', 'su'], dtype='<U2')"
      ]
     },
     "execution_count": 20,
     "metadata": {},
     "output_type": "execute_result"
    }
   ],
   "source": [
    "classes = le.classes_\n",
    "classes"
   ]
  },
  {
   "cell_type": "code",
   "execution_count": 21,
   "metadata": {},
   "outputs": [
    {
     "data": {
      "text/plain": [
       "array([1., 0., 0., 0., 0., 0., 0., 0.], dtype=float32)"
      ]
     },
     "execution_count": 21,
     "metadata": {},
     "output_type": "execute_result"
    }
   ],
   "source": [
    "# We need to convert our target labels (expected values) to categorical data\n",
    "num_classes = len(classes)\n",
    "y_train_cat = to_categorical(y_train_encoded, num_classes)\n",
    "y_test_cat = to_categorical(y_test_encoded, num_classes)\n",
    "# Original label of `Surprise` is one-hot encoded as `00000001`\n",
    "y_train_cat[0]"
   ]
  },
  {
   "cell_type": "code",
   "execution_count": 22,
   "metadata": {},
   "outputs": [
    {
     "data": {
      "text/plain": [
       "(4168, 50176)"
      ]
     },
     "execution_count": 22,
     "metadata": {},
     "output_type": "execute_result"
    }
   ],
   "source": [
    "X_train_scaled.shape"
   ]
  },
  {
   "cell_type": "code",
   "execution_count": 23,
   "metadata": {},
   "outputs": [
    {
     "data": {
      "text/plain": [
       "array(['an', 'ne', 'fe', ..., 'su', 'su', 'an'], dtype='<U2')"
      ]
     },
     "execution_count": 23,
     "metadata": {},
     "output_type": "execute_result"
    }
   ],
   "source": [
    "y_train"
   ]
  },
  {
   "cell_type": "code",
   "execution_count": 24,
   "metadata": {},
   "outputs": [],
   "source": [
    "# Create an empty sequential model\n",
    "model = Sequential()"
   ]
  },
  {
   "cell_type": "code",
   "execution_count": 25,
   "metadata": {},
   "outputs": [],
   "source": [
    "# Add the first layer where the input dimensions are the 784 pixel values\n",
    "# We can also choose our activation function. `relu` is a common\n",
    "model.add(Dense(170, activation='relu', input_dim=X_train_scaled.shape[1]))"
   ]
  },
  {
   "cell_type": "code",
   "execution_count": 26,
   "metadata": {},
   "outputs": [],
   "source": [
    "# Add a second hidden layer\n",
    "model.add(Dense(60, activation='relu'))"
   ]
  },
  {
   "cell_type": "code",
   "execution_count": 27,
   "metadata": {},
   "outputs": [],
   "source": [
    "# Add a second hidden layer\n",
    "model.add(Dense(50, activation='relu'))"
   ]
  },
  {
   "cell_type": "code",
   "execution_count": 28,
   "metadata": {},
   "outputs": [],
   "source": [
    "# Add a second hidden layer\n",
    "model.add(Dense(90, activation='relu'))"
   ]
  },
  {
   "cell_type": "code",
   "execution_count": 29,
   "metadata": {},
   "outputs": [],
   "source": [
    "# Add a second hidden layer\n",
    "model.add(Dense(50, activation='relu'))"
   ]
  },
  {
   "cell_type": "code",
   "execution_count": 30,
   "metadata": {},
   "outputs": [],
   "source": [
    "# Add our final output layer where the number of nodes \n",
    "# corresponds to the number of y labels\n",
    "model.add(Dense(num_classes, activation='softmax'))"
   ]
  },
  {
   "cell_type": "code",
   "execution_count": 31,
   "metadata": {},
   "outputs": [
    {
     "name": "stdout",
     "output_type": "stream",
     "text": [
      "Model: \"sequential\"\n",
      "_________________________________________________________________\n",
      " Layer (type)                Output Shape              Param #   \n",
      "=================================================================\n",
      " dense (Dense)               (None, 170)               8530090   \n",
      "                                                                 \n",
      " dense_1 (Dense)             (None, 60)                10260     \n",
      "                                                                 \n",
      " dense_2 (Dense)             (None, 50)                3050      \n",
      "                                                                 \n",
      " dense_3 (Dense)             (None, 90)                4590      \n",
      "                                                                 \n",
      " dense_4 (Dense)             (None, 50)                4550      \n",
      "                                                                 \n",
      " dense_5 (Dense)             (None, 8)                 408       \n",
      "                                                                 \n",
      "=================================================================\n",
      "Total params: 8,552,948\n",
      "Trainable params: 8,552,948\n",
      "Non-trainable params: 0\n",
      "_________________________________________________________________\n"
     ]
    }
   ],
   "source": [
    "# We can summarise our model\n",
    "model.summary()"
   ]
  },
  {
   "cell_type": "code",
   "execution_count": 32,
   "metadata": {},
   "outputs": [],
   "source": [
    "# Use categorical crossentropy for categorical data and mean squared error for regression\n",
    "# Hint: your output layer in this example is using software for logistic regression (categorical)\n",
    "# If your output layer activation was `linear` then you may want to use `mse` for loss\n",
    "model.compile(optimizer='adam', \n",
    "              loss='categorical_crossentropy', \n",
    "              metrics=['accuracy'])"
   ]
  },
  {
   "cell_type": "code",
   "execution_count": 34,
   "metadata": {},
   "outputs": [
    {
     "name": "stdout",
     "output_type": "stream",
     "text": [
      "Epoch 1/200\n",
      "131/131 - 27s - loss: 1.4144 - accuracy: 0.4866 - 27s/epoch - 209ms/step\n",
      "Epoch 2/200\n",
      "131/131 - 27s - loss: 1.4154 - accuracy: 0.4779 - 27s/epoch - 208ms/step\n",
      "Epoch 3/200\n",
      "131/131 - 29s - loss: 1.4083 - accuracy: 0.4894 - 29s/epoch - 220ms/step\n",
      "Epoch 4/200\n",
      "131/131 - 27s - loss: 1.4017 - accuracy: 0.4868 - 27s/epoch - 208ms/step\n",
      "Epoch 5/200\n",
      "131/131 - 29s - loss: 1.3930 - accuracy: 0.4945 - 29s/epoch - 222ms/step\n",
      "Epoch 6/200\n",
      "131/131 - 33s - loss: 1.3671 - accuracy: 0.5060 - 33s/epoch - 249ms/step\n",
      "Epoch 7/200\n",
      "131/131 - 32s - loss: 1.3401 - accuracy: 0.5079 - 32s/epoch - 241ms/step\n",
      "Epoch 8/200\n",
      "131/131 - 27s - loss: 1.4261 - accuracy: 0.4858 - 27s/epoch - 208ms/step\n",
      "Epoch 9/200\n",
      "131/131 - 28s - loss: 1.3567 - accuracy: 0.4954 - 28s/epoch - 214ms/step\n",
      "Epoch 10/200\n",
      "131/131 - 29s - loss: 1.3340 - accuracy: 0.5156 - 29s/epoch - 220ms/step\n",
      "Epoch 11/200\n",
      "131/131 - 32s - loss: 1.3543 - accuracy: 0.5072 - 32s/epoch - 242ms/step\n",
      "Epoch 12/200\n",
      "131/131 - 27s - loss: 1.3212 - accuracy: 0.5173 - 27s/epoch - 208ms/step\n",
      "Epoch 13/200\n",
      "131/131 - 30s - loss: 1.3277 - accuracy: 0.5187 - 30s/epoch - 231ms/step\n",
      "Epoch 14/200\n",
      "131/131 - 32s - loss: 1.3407 - accuracy: 0.5113 - 32s/epoch - 244ms/step\n",
      "Epoch 15/200\n",
      "131/131 - 29s - loss: 1.3222 - accuracy: 0.5125 - 29s/epoch - 222ms/step\n",
      "Epoch 16/200\n",
      "131/131 - 32s - loss: 1.3033 - accuracy: 0.5223 - 32s/epoch - 243ms/step\n",
      "Epoch 17/200\n",
      "131/131 - 34s - loss: 1.3467 - accuracy: 0.5144 - 34s/epoch - 256ms/step\n",
      "Epoch 18/200\n",
      "131/131 - 31s - loss: 1.2663 - accuracy: 0.5305 - 31s/epoch - 237ms/step\n",
      "Epoch 19/200\n",
      "131/131 - 31s - loss: 1.3130 - accuracy: 0.5240 - 31s/epoch - 239ms/step\n",
      "Epoch 20/200\n",
      "131/131 - 30s - loss: 1.2555 - accuracy: 0.5434 - 30s/epoch - 226ms/step\n",
      "Epoch 21/200\n",
      "131/131 - 33s - loss: 1.2743 - accuracy: 0.5314 - 33s/epoch - 250ms/step\n",
      "Epoch 22/200\n",
      "131/131 - 30s - loss: 1.2283 - accuracy: 0.5509 - 30s/epoch - 229ms/step\n",
      "Epoch 23/200\n",
      "131/131 - 29s - loss: 1.2257 - accuracy: 0.5463 - 29s/epoch - 220ms/step\n",
      "Epoch 24/200\n",
      "131/131 - 28s - loss: 1.2749 - accuracy: 0.5357 - 28s/epoch - 214ms/step\n",
      "Epoch 25/200\n",
      "131/131 - 28s - loss: 1.2766 - accuracy: 0.5362 - 28s/epoch - 213ms/step\n",
      "Epoch 26/200\n",
      "131/131 - 28s - loss: 1.2740 - accuracy: 0.5333 - 28s/epoch - 217ms/step\n",
      "Epoch 27/200\n",
      "131/131 - 28s - loss: 1.2464 - accuracy: 0.5444 - 28s/epoch - 217ms/step\n",
      "Epoch 28/200\n",
      "131/131 - 31s - loss: 1.2236 - accuracy: 0.5489 - 31s/epoch - 239ms/step\n",
      "Epoch 29/200\n",
      "131/131 - 35s - loss: 1.1894 - accuracy: 0.5564 - 35s/epoch - 266ms/step\n",
      "Epoch 30/200\n",
      "131/131 - 28s - loss: 1.1558 - accuracy: 0.5686 - 28s/epoch - 213ms/step\n",
      "Epoch 31/200\n",
      "131/131 - 28s - loss: 1.1538 - accuracy: 0.5708 - 28s/epoch - 210ms/step\n",
      "Epoch 32/200\n",
      "131/131 - 29s - loss: 1.1537 - accuracy: 0.5720 - 29s/epoch - 219ms/step\n",
      "Epoch 33/200\n",
      "131/131 - 28s - loss: 1.1207 - accuracy: 0.5823 - 28s/epoch - 215ms/step\n",
      "Epoch 34/200\n",
      "131/131 - 27s - loss: 1.2302 - accuracy: 0.5482 - 27s/epoch - 209ms/step\n",
      "Epoch 35/200\n",
      "131/131 - 29s - loss: 1.1833 - accuracy: 0.5590 - 29s/epoch - 220ms/step\n",
      "Epoch 36/200\n",
      "131/131 - 38s - loss: 1.2193 - accuracy: 0.5542 - 38s/epoch - 287ms/step\n",
      "Epoch 37/200\n",
      "131/131 - 35s - loss: 1.1570 - accuracy: 0.5801 - 35s/epoch - 268ms/step\n",
      "Epoch 38/200\n",
      "131/131 - 30s - loss: 1.1066 - accuracy: 0.5828 - 30s/epoch - 230ms/step\n",
      "Epoch 39/200\n",
      "131/131 - 28s - loss: 1.1019 - accuracy: 0.5950 - 28s/epoch - 214ms/step\n",
      "Epoch 40/200\n",
      "131/131 - 28s - loss: 1.1882 - accuracy: 0.5600 - 28s/epoch - 211ms/step\n",
      "Epoch 41/200\n",
      "131/131 - 29s - loss: 1.1727 - accuracy: 0.5621 - 29s/epoch - 219ms/step\n",
      "Epoch 42/200\n",
      "131/131 - 28s - loss: 1.1086 - accuracy: 0.5861 - 28s/epoch - 217ms/step\n",
      "Epoch 43/200\n",
      "131/131 - 32s - loss: 1.0913 - accuracy: 0.5948 - 32s/epoch - 244ms/step\n",
      "Epoch 44/200\n",
      "131/131 - 33s - loss: 1.1426 - accuracy: 0.5854 - 33s/epoch - 252ms/step\n",
      "Epoch 45/200\n",
      "131/131 - 28s - loss: 1.1088 - accuracy: 0.5864 - 28s/epoch - 213ms/step\n",
      "Epoch 46/200\n",
      "131/131 - 28s - loss: 1.0894 - accuracy: 0.6010 - 28s/epoch - 213ms/step\n",
      "Epoch 47/200\n",
      "131/131 - 29s - loss: 1.0508 - accuracy: 0.6094 - 29s/epoch - 221ms/step\n",
      "Epoch 48/200\n",
      "131/131 - 29s - loss: 1.0635 - accuracy: 0.6063 - 29s/epoch - 223ms/step\n",
      "Epoch 49/200\n",
      "131/131 - 28s - loss: 1.1222 - accuracy: 0.5876 - 28s/epoch - 214ms/step\n",
      "Epoch 50/200\n",
      "131/131 - 31s - loss: 1.0262 - accuracy: 0.6200 - 31s/epoch - 235ms/step\n",
      "Epoch 51/200\n",
      "131/131 - 35s - loss: 1.0382 - accuracy: 0.6132 - 35s/epoch - 267ms/step\n",
      "Epoch 52/200\n",
      "131/131 - 35s - loss: 1.2238 - accuracy: 0.5684 - 35s/epoch - 266ms/step\n",
      "Epoch 53/200\n",
      "131/131 - 35s - loss: 1.0259 - accuracy: 0.6154 - 35s/epoch - 267ms/step\n",
      "Epoch 54/200\n",
      "131/131 - 35s - loss: 1.0237 - accuracy: 0.6216 - 35s/epoch - 270ms/step\n",
      "Epoch 55/200\n",
      "131/131 - 39s - loss: 1.0623 - accuracy: 0.6032 - 39s/epoch - 296ms/step\n",
      "Epoch 56/200\n",
      "131/131 - 39s - loss: 1.0444 - accuracy: 0.6228 - 39s/epoch - 300ms/step\n",
      "Epoch 57/200\n",
      "131/131 - 37s - loss: 1.0619 - accuracy: 0.6022 - 37s/epoch - 279ms/step\n",
      "Epoch 58/200\n",
      "131/131 - 35s - loss: 1.0151 - accuracy: 0.6197 - 35s/epoch - 267ms/step\n",
      "Epoch 59/200\n",
      "131/131 - 35s - loss: 0.9522 - accuracy: 0.6468 - 35s/epoch - 266ms/step\n",
      "Epoch 60/200\n",
      "131/131 - 36s - loss: 1.0036 - accuracy: 0.6300 - 36s/epoch - 277ms/step\n",
      "Epoch 61/200\n",
      "131/131 - 36s - loss: 1.0278 - accuracy: 0.6207 - 36s/epoch - 277ms/step\n",
      "Epoch 62/200\n",
      "131/131 - 28s - loss: 1.0220 - accuracy: 0.6296 - 28s/epoch - 213ms/step\n",
      "Epoch 63/200\n",
      "131/131 - 28s - loss: 0.9639 - accuracy: 0.6437 - 28s/epoch - 216ms/step\n",
      "Epoch 64/200\n",
      "131/131 - 28s - loss: 0.9620 - accuracy: 0.6384 - 28s/epoch - 214ms/step\n",
      "Epoch 65/200\n",
      "131/131 - 29s - loss: 0.9804 - accuracy: 0.6363 - 29s/epoch - 219ms/step\n",
      "Epoch 66/200\n",
      "131/131 - 29s - loss: 1.0267 - accuracy: 0.6236 - 29s/epoch - 222ms/step\n",
      "Epoch 67/200\n",
      "131/131 - 28s - loss: 0.9941 - accuracy: 0.6322 - 28s/epoch - 215ms/step\n",
      "Epoch 68/200\n",
      "131/131 - 33s - loss: 0.9439 - accuracy: 0.6480 - 33s/epoch - 250ms/step\n",
      "Epoch 69/200\n",
      "131/131 - 32s - loss: 0.9027 - accuracy: 0.6694 - 32s/epoch - 244ms/step\n",
      "Epoch 70/200\n",
      "131/131 - 28s - loss: 0.9771 - accuracy: 0.6406 - 28s/epoch - 214ms/step\n",
      "Epoch 71/200\n",
      "131/131 - 28s - loss: 0.9301 - accuracy: 0.6521 - 28s/epoch - 211ms/step\n",
      "Epoch 72/200\n",
      "131/131 - 31s - loss: 0.9481 - accuracy: 0.6413 - 31s/epoch - 233ms/step\n",
      "Epoch 73/200\n",
      "131/131 - 29s - loss: 0.9246 - accuracy: 0.6583 - 29s/epoch - 221ms/step\n",
      "Epoch 74/200\n",
      "131/131 - 35s - loss: 0.9606 - accuracy: 0.6483 - 35s/epoch - 267ms/step\n",
      "Epoch 75/200\n",
      "131/131 - 38s - loss: 0.8433 - accuracy: 0.6859 - 38s/epoch - 291ms/step\n",
      "Epoch 76/200\n",
      "131/131 - 34s - loss: 0.9194 - accuracy: 0.6538 - 34s/epoch - 257ms/step\n",
      "Epoch 77/200\n",
      "131/131 - 27s - loss: 0.8794 - accuracy: 0.6785 - 27s/epoch - 206ms/step\n",
      "Epoch 78/200\n",
      "131/131 - 28s - loss: 0.7962 - accuracy: 0.7047 - 28s/epoch - 211ms/step\n",
      "Epoch 79/200\n",
      "131/131 - 27s - loss: 0.8995 - accuracy: 0.6691 - 27s/epoch - 205ms/step\n",
      "Epoch 80/200\n",
      "131/131 - 28s - loss: 0.8354 - accuracy: 0.6886 - 28s/epoch - 217ms/step\n",
      "Epoch 81/200\n",
      "131/131 - 28s - loss: 0.9139 - accuracy: 0.6550 - 28s/epoch - 214ms/step\n",
      "Epoch 82/200\n",
      "131/131 - 28s - loss: 0.9369 - accuracy: 0.6538 - 28s/epoch - 216ms/step\n",
      "Epoch 83/200\n",
      "131/131 - 32s - loss: 0.8116 - accuracy: 0.6958 - 32s/epoch - 247ms/step\n",
      "Epoch 84/200\n",
      "131/131 - 35s - loss: 0.8646 - accuracy: 0.6819 - 35s/epoch - 266ms/step\n",
      "Epoch 85/200\n",
      "131/131 - 29s - loss: 0.7961 - accuracy: 0.7018 - 29s/epoch - 225ms/step\n",
      "Epoch 86/200\n",
      "131/131 - 30s - loss: 0.7702 - accuracy: 0.7092 - 30s/epoch - 232ms/step\n",
      "Epoch 87/200\n",
      "131/131 - 30s - loss: 0.8720 - accuracy: 0.6706 - 30s/epoch - 232ms/step\n",
      "Epoch 88/200\n",
      "131/131 - 28s - loss: 0.7873 - accuracy: 0.7071 - 28s/epoch - 213ms/step\n",
      "Epoch 89/200\n",
      "131/131 - 29s - loss: 0.7702 - accuracy: 0.7049 - 29s/epoch - 221ms/step\n",
      "Epoch 90/200\n",
      "131/131 - 35s - loss: 0.8709 - accuracy: 0.6799 - 35s/epoch - 270ms/step\n",
      "Epoch 91/200\n",
      "131/131 - 36s - loss: 0.7076 - accuracy: 0.7274 - 36s/epoch - 272ms/step\n",
      "Epoch 92/200\n",
      "131/131 - 38s - loss: 0.9653 - accuracy: 0.6454 - 38s/epoch - 292ms/step\n",
      "Epoch 93/200\n",
      "131/131 - 35s - loss: 0.8129 - accuracy: 0.6960 - 35s/epoch - 266ms/step\n",
      "Epoch 94/200\n",
      "131/131 - 34s - loss: 0.7973 - accuracy: 0.6996 - 34s/epoch - 260ms/step\n",
      "Epoch 95/200\n",
      "131/131 - 43s - loss: 0.9864 - accuracy: 0.6392 - 43s/epoch - 328ms/step\n",
      "Epoch 96/200\n",
      "131/131 - 40s - loss: 0.7067 - accuracy: 0.7397 - 40s/epoch - 303ms/step\n",
      "Epoch 97/200\n",
      "131/131 - 38s - loss: 0.7051 - accuracy: 0.7296 - 38s/epoch - 289ms/step\n",
      "Epoch 98/200\n",
      "131/131 - 37s - loss: 0.7925 - accuracy: 0.7095 - 37s/epoch - 284ms/step\n",
      "Epoch 99/200\n",
      "131/131 - 37s - loss: 0.7531 - accuracy: 0.7176 - 37s/epoch - 285ms/step\n",
      "Epoch 100/200\n",
      "131/131 - 37s - loss: 0.7128 - accuracy: 0.7332 - 37s/epoch - 281ms/step\n",
      "Epoch 101/200\n",
      "131/131 - 37s - loss: 0.7663 - accuracy: 0.7145 - 37s/epoch - 282ms/step\n",
      "Epoch 102/200\n",
      "131/131 - 37s - loss: 0.9008 - accuracy: 0.6708 - 37s/epoch - 285ms/step\n",
      "Epoch 103/200\n",
      "131/131 - 37s - loss: 0.6896 - accuracy: 0.7457 - 37s/epoch - 284ms/step\n",
      "Epoch 104/200\n",
      "131/131 - 37s - loss: 0.6993 - accuracy: 0.7411 - 37s/epoch - 284ms/step\n",
      "Epoch 105/200\n",
      "131/131 - 38s - loss: 0.7785 - accuracy: 0.7116 - 38s/epoch - 287ms/step\n",
      "Epoch 106/200\n",
      "131/131 - 38s - loss: 0.7422 - accuracy: 0.7296 - 38s/epoch - 289ms/step\n",
      "Epoch 107/200\n",
      "131/131 - 36s - loss: 0.7199 - accuracy: 0.7320 - 36s/epoch - 279ms/step\n",
      "Epoch 108/200\n",
      "131/131 - 37s - loss: 0.6715 - accuracy: 0.7488 - 37s/epoch - 284ms/step\n",
      "Epoch 109/200\n",
      "131/131 - 37s - loss: 0.9637 - accuracy: 0.6471 - 37s/epoch - 285ms/step\n",
      "Epoch 110/200\n",
      "131/131 - 37s - loss: 0.6564 - accuracy: 0.7536 - 37s/epoch - 283ms/step\n",
      "Epoch 111/200\n",
      "131/131 - 37s - loss: 0.6606 - accuracy: 0.7490 - 37s/epoch - 282ms/step\n",
      "Epoch 112/200\n",
      "131/131 - 37s - loss: 0.7927 - accuracy: 0.7126 - 37s/epoch - 282ms/step\n",
      "Epoch 113/200\n",
      "131/131 - 36s - loss: 0.7165 - accuracy: 0.7320 - 36s/epoch - 275ms/step\n",
      "Epoch 114/200\n",
      "131/131 - 36s - loss: 0.7168 - accuracy: 0.7356 - 36s/epoch - 278ms/step\n",
      "Epoch 115/200\n",
      "131/131 - 37s - loss: 0.7696 - accuracy: 0.7150 - 37s/epoch - 279ms/step\n",
      "Epoch 116/200\n",
      "131/131 - 36s - loss: 0.6181 - accuracy: 0.7678 - 36s/epoch - 277ms/step\n",
      "Epoch 117/200\n",
      "131/131 - 36s - loss: 0.7616 - accuracy: 0.7162 - 36s/epoch - 278ms/step\n",
      "Epoch 118/200\n",
      "131/131 - 37s - loss: 0.7613 - accuracy: 0.7138 - 37s/epoch - 285ms/step\n",
      "Epoch 119/200\n",
      "131/131 - 38s - loss: 0.6371 - accuracy: 0.7656 - 38s/epoch - 292ms/step\n",
      "Epoch 120/200\n",
      "131/131 - 33s - loss: 0.6031 - accuracy: 0.7762 - 33s/epoch - 251ms/step\n",
      "Epoch 121/200\n",
      "131/131 - 28s - loss: 0.6514 - accuracy: 0.7625 - 28s/epoch - 213ms/step\n",
      "Epoch 122/200\n",
      "131/131 - 28s - loss: 0.7176 - accuracy: 0.7346 - 28s/epoch - 215ms/step\n",
      "Epoch 123/200\n",
      "131/131 - 28s - loss: 0.6347 - accuracy: 0.7630 - 28s/epoch - 212ms/step\n",
      "Epoch 124/200\n",
      "131/131 - 28s - loss: 0.7704 - accuracy: 0.7162 - 28s/epoch - 212ms/step\n",
      "Epoch 125/200\n",
      "131/131 - 28s - loss: 0.7024 - accuracy: 0.7418 - 28s/epoch - 211ms/step\n",
      "Epoch 126/200\n",
      "131/131 - 28s - loss: 0.5969 - accuracy: 0.7726 - 28s/epoch - 214ms/step\n",
      "Epoch 127/200\n",
      "131/131 - 32s - loss: 0.6870 - accuracy: 0.7438 - 32s/epoch - 245ms/step\n",
      "Epoch 128/200\n",
      "131/131 - 31s - loss: 0.8143 - accuracy: 0.7011 - 31s/epoch - 238ms/step\n",
      "Epoch 129/200\n",
      "131/131 - 28s - loss: 0.6398 - accuracy: 0.7646 - 28s/epoch - 216ms/step\n",
      "Epoch 130/200\n",
      "131/131 - 28s - loss: 0.6716 - accuracy: 0.7493 - 28s/epoch - 214ms/step\n",
      "Epoch 131/200\n",
      "131/131 - 28s - loss: 0.6868 - accuracy: 0.7524 - 28s/epoch - 214ms/step\n",
      "Epoch 132/200\n",
      "131/131 - 28s - loss: 0.7518 - accuracy: 0.7255 - 28s/epoch - 212ms/step\n",
      "Epoch 133/200\n",
      "131/131 - 30s - loss: 0.5971 - accuracy: 0.7766 - 30s/epoch - 226ms/step\n",
      "Epoch 134/200\n",
      "131/131 - 35s - loss: 0.5717 - accuracy: 0.7881 - 35s/epoch - 265ms/step\n",
      "Epoch 135/200\n",
      "131/131 - 35s - loss: 0.7233 - accuracy: 0.7426 - 35s/epoch - 266ms/step\n",
      "Epoch 136/200\n",
      "131/131 - 35s - loss: 1.0274 - accuracy: 0.6526 - 35s/epoch - 266ms/step\n",
      "Epoch 137/200\n",
      "131/131 - 35s - loss: 0.8061 - accuracy: 0.7133 - 35s/epoch - 270ms/step\n",
      "Epoch 138/200\n",
      "131/131 - 36s - loss: 0.6558 - accuracy: 0.7562 - 36s/epoch - 272ms/step\n",
      "Epoch 139/200\n",
      "131/131 - 35s - loss: 0.5919 - accuracy: 0.7786 - 35s/epoch - 266ms/step\n",
      "Epoch 140/200\n",
      "131/131 - 35s - loss: 0.7386 - accuracy: 0.7289 - 35s/epoch - 266ms/step\n",
      "Epoch 141/200\n",
      "131/131 - 35s - loss: 0.5101 - accuracy: 0.8174 - 35s/epoch - 266ms/step\n",
      "Epoch 142/200\n",
      "131/131 - 35s - loss: 0.4883 - accuracy: 0.8181 - 35s/epoch - 267ms/step\n",
      "Epoch 143/200\n",
      "131/131 - 37s - loss: 0.6593 - accuracy: 0.7622 - 37s/epoch - 279ms/step\n",
      "Epoch 144/200\n",
      "131/131 - 35s - loss: 0.6629 - accuracy: 0.7610 - 35s/epoch - 267ms/step\n",
      "Epoch 145/200\n",
      "131/131 - 38s - loss: 0.5303 - accuracy: 0.8040 - 38s/epoch - 287ms/step\n",
      "Epoch 146/200\n",
      "131/131 - 39s - loss: 0.5673 - accuracy: 0.7886 - 39s/epoch - 301ms/step\n",
      "Epoch 147/200\n",
      "131/131 - 36s - loss: 0.5521 - accuracy: 0.7934 - 36s/epoch - 279ms/step\n",
      "Epoch 148/200\n",
      "131/131 - 35s - loss: 0.7244 - accuracy: 0.7375 - 35s/epoch - 271ms/step\n",
      "Epoch 149/200\n",
      "131/131 - 35s - loss: 0.6138 - accuracy: 0.7690 - 35s/epoch - 270ms/step\n",
      "Epoch 150/200\n",
      "131/131 - 35s - loss: 0.5168 - accuracy: 0.8059 - 35s/epoch - 265ms/step\n",
      "Epoch 151/200\n",
      "131/131 - 35s - loss: 0.5654 - accuracy: 0.7889 - 35s/epoch - 267ms/step\n",
      "Epoch 152/200\n",
      "131/131 - 35s - loss: 0.5563 - accuracy: 0.7958 - 35s/epoch - 265ms/step\n",
      "Epoch 153/200\n",
      "131/131 - 35s - loss: 0.5577 - accuracy: 0.7992 - 35s/epoch - 265ms/step\n",
      "Epoch 154/200\n",
      "131/131 - 35s - loss: 0.6179 - accuracy: 0.7654 - 35s/epoch - 268ms/step\n",
      "Epoch 155/200\n",
      "131/131 - 35s - loss: 0.6407 - accuracy: 0.7610 - 35s/epoch - 268ms/step\n",
      "Epoch 156/200\n",
      "131/131 - 35s - loss: 0.6332 - accuracy: 0.7682 - 35s/epoch - 267ms/step\n",
      "Epoch 157/200\n",
      "131/131 - 35s - loss: 0.5495 - accuracy: 0.7982 - 35s/epoch - 268ms/step\n",
      "Epoch 158/200\n",
      "131/131 - 35s - loss: 0.6147 - accuracy: 0.7766 - 35s/epoch - 267ms/step\n",
      "Epoch 159/200\n",
      "131/131 - 35s - loss: 0.4846 - accuracy: 0.8241 - 35s/epoch - 264ms/step\n",
      "Epoch 160/200\n",
      "131/131 - 35s - loss: 0.6080 - accuracy: 0.7819 - 35s/epoch - 268ms/step\n",
      "Epoch 161/200\n",
      "131/131 - 35s - loss: 0.4994 - accuracy: 0.8193 - 35s/epoch - 267ms/step\n",
      "Epoch 162/200\n",
      "131/131 - 39s - loss: 0.6488 - accuracy: 0.7644 - 39s/epoch - 295ms/step\n",
      "Epoch 163/200\n",
      "131/131 - 39s - loss: 0.6328 - accuracy: 0.7711 - 39s/epoch - 299ms/step\n",
      "Epoch 164/200\n",
      "131/131 - 35s - loss: 0.4816 - accuracy: 0.8191 - 35s/epoch - 270ms/step\n",
      "Epoch 165/200\n",
      "131/131 - 35s - loss: 0.5637 - accuracy: 0.7881 - 35s/epoch - 267ms/step\n",
      "Epoch 166/200\n",
      "131/131 - 35s - loss: 0.4915 - accuracy: 0.8210 - 35s/epoch - 266ms/step\n",
      "Epoch 167/200\n",
      "131/131 - 36s - loss: 1.0872 - accuracy: 0.6380 - 36s/epoch - 274ms/step\n",
      "Epoch 168/200\n",
      "131/131 - 36s - loss: 0.5401 - accuracy: 0.8040 - 36s/epoch - 272ms/step\n",
      "Epoch 169/200\n",
      "131/131 - 35s - loss: 0.4392 - accuracy: 0.8419 - 35s/epoch - 265ms/step\n",
      "Epoch 170/200\n",
      "131/131 - 35s - loss: 0.5454 - accuracy: 0.8049 - 35s/epoch - 267ms/step\n",
      "Epoch 171/200\n",
      "131/131 - 35s - loss: 0.5726 - accuracy: 0.7855 - 35s/epoch - 268ms/step\n",
      "Epoch 172/200\n",
      "131/131 - 35s - loss: 0.4522 - accuracy: 0.8309 - 35s/epoch - 269ms/step\n",
      "Epoch 173/200\n",
      "131/131 - 35s - loss: 0.5266 - accuracy: 0.8119 - 35s/epoch - 268ms/step\n",
      "Epoch 174/200\n",
      "131/131 - 35s - loss: 0.6202 - accuracy: 0.7714 - 35s/epoch - 268ms/step\n",
      "Epoch 175/200\n",
      "131/131 - 35s - loss: 0.4141 - accuracy: 0.8436 - 35s/epoch - 269ms/step\n",
      "Epoch 176/200\n",
      "131/131 - 34s - loss: 0.7276 - accuracy: 0.7416 - 34s/epoch - 263ms/step\n",
      "Epoch 177/200\n",
      "131/131 - 35s - loss: 0.5542 - accuracy: 0.7925 - 35s/epoch - 267ms/step\n",
      "Epoch 178/200\n",
      "131/131 - 35s - loss: 0.5017 - accuracy: 0.8177 - 35s/epoch - 266ms/step\n",
      "Epoch 179/200\n",
      "131/131 - 39s - loss: 0.5256 - accuracy: 0.8033 - 39s/epoch - 296ms/step\n",
      "Epoch 180/200\n",
      "131/131 - 38s - loss: 0.3999 - accuracy: 0.8544 - 38s/epoch - 288ms/step\n",
      "Epoch 181/200\n",
      "131/131 - 35s - loss: 0.4480 - accuracy: 0.8361 - 35s/epoch - 266ms/step\n",
      "Epoch 182/200\n",
      "131/131 - 35s - loss: 0.5155 - accuracy: 0.8121 - 35s/epoch - 266ms/step\n",
      "Epoch 183/200\n",
      "131/131 - 35s - loss: 0.4977 - accuracy: 0.8143 - 35s/epoch - 264ms/step\n",
      "Epoch 184/200\n",
      "131/131 - 35s - loss: 0.4454 - accuracy: 0.8347 - 35s/epoch - 268ms/step\n",
      "Epoch 185/200\n",
      "131/131 - 34s - loss: 0.4621 - accuracy: 0.8345 - 34s/epoch - 263ms/step\n",
      "Epoch 186/200\n",
      "131/131 - 35s - loss: 0.4221 - accuracy: 0.8469 - 35s/epoch - 270ms/step\n",
      "Epoch 187/200\n",
      "131/131 - 35s - loss: 0.7731 - accuracy: 0.7265 - 35s/epoch - 265ms/step\n",
      "Epoch 188/200\n",
      "131/131 - 35s - loss: 0.6843 - accuracy: 0.7543 - 35s/epoch - 270ms/step\n",
      "Epoch 189/200\n",
      "131/131 - 37s - loss: 0.5414 - accuracy: 0.8042 - 37s/epoch - 285ms/step\n",
      "Epoch 190/200\n",
      "131/131 - 37s - loss: 0.5609 - accuracy: 0.7920 - 37s/epoch - 283ms/step\n",
      "Epoch 191/200\n",
      "131/131 - 35s - loss: 0.4386 - accuracy: 0.8383 - 35s/epoch - 267ms/step\n",
      "Epoch 192/200\n",
      "131/131 - 35s - loss: 0.4574 - accuracy: 0.8306 - 35s/epoch - 268ms/step\n",
      "Epoch 193/200\n",
      "131/131 - 36s - loss: 0.5024 - accuracy: 0.8181 - 36s/epoch - 278ms/step\n",
      "Epoch 194/200\n",
      "131/131 - 35s - loss: 0.5716 - accuracy: 0.7903 - 35s/epoch - 269ms/step\n",
      "Epoch 195/200\n",
      "131/131 - 35s - loss: 0.4611 - accuracy: 0.8357 - 35s/epoch - 270ms/step\n",
      "Epoch 196/200\n",
      "131/131 - 39s - loss: 0.4219 - accuracy: 0.8395 - 39s/epoch - 294ms/step\n",
      "Epoch 197/200\n",
      "131/131 - 38s - loss: 0.5195 - accuracy: 0.8138 - 38s/epoch - 288ms/step\n",
      "Epoch 198/200\n",
      "131/131 - 35s - loss: 0.3931 - accuracy: 0.8577 - 35s/epoch - 267ms/step\n",
      "Epoch 199/200\n",
      "131/131 - 36s - loss: 0.4318 - accuracy: 0.8426 - 36s/epoch - 271ms/step\n",
      "Epoch 200/200\n",
      "131/131 - 35s - loss: 0.4637 - accuracy: 0.8285 - 35s/epoch - 266ms/step\n"
     ]
    },
    {
     "data": {
      "text/plain": [
       "<keras.callbacks.History at 0x1f7da2957c8>"
      ]
     },
     "execution_count": 34,
     "metadata": {},
     "output_type": "execute_result"
    }
   ],
   "source": [
    "# Fit (train) the model\n",
    "model.fit(\n",
    "    X_train_scaled,\n",
    "    y_train_cat,\n",
    "    epochs=200,\n",
    "    shuffle=True,\n",
    "    verbose=2\n",
    ")"
   ]
  },
  {
   "attachments": {},
   "cell_type": "markdown",
   "metadata": {},
   "source": [
    "## Saving and Loading models\n",
    "\n",
    "We can save our trained models using the HDF5 binary format with the extension `.h5`"
   ]
  },
  {
   "cell_type": "code",
   "execution_count": 35,
   "metadata": {},
   "outputs": [],
   "source": [
    "# Save the model\n",
    "model.save(\"emotion_trained.h5\")"
   ]
  },
  {
   "cell_type": "code",
   "execution_count": 36,
   "metadata": {},
   "outputs": [],
   "source": [
    "# Load the model\n",
    "from tensorflow.keras.models import load_model\n",
    "model = load_model(\"emotion_trained.h5\")"
   ]
  },
  {
   "attachments": {},
   "cell_type": "markdown",
   "metadata": {},
   "source": [
    "## Evaluating the Model\n",
    "\n",
    "We use our testing data to validate our model. This is how we determine the validity of our model (i.e. the ability to predict new and previously unseen data points)"
   ]
  },
  {
   "cell_type": "code",
   "execution_count": 38,
   "metadata": {},
   "outputs": [
    {
     "name": "stdout",
     "output_type": "stream",
     "text": [
      "44/44 - 1s - loss: 5.0263 - accuracy: 0.3237 - 1s/epoch - 25ms/step\n",
      "Loss: 5.02626371383667, Accuracy: 0.32374101877212524\n"
     ]
    }
   ],
   "source": [
    "# Evaluate the model using the training data \n",
    "model_loss, model_accuracy = model.evaluate(X_test_scaled, y_test_cat, verbose=2)\n",
    "print(f\"Loss: {model_loss}, Accuracy: {model_accuracy}\")"
   ]
  },
  {
   "attachments": {},
   "cell_type": "markdown",
   "metadata": {},
   "source": [
    "## Making Predictions\n",
    "\n",
    "We can use our trained model to make predictions using `model.predict`"
   ]
  },
  {
   "cell_type": "code",
   "execution_count": 41,
   "metadata": {},
   "outputs": [],
   "source": [
    "# Define default image size for our model\n",
    "image_path = os.path.join(\"Images\", \"happy.jpeg\")\n",
    "image_size = (224, 224)"
   ]
  },
  {
   "cell_type": "code",
   "execution_count": 42,
   "metadata": {},
   "outputs": [
    {
     "data": {
      "image/png": "[encoded data removed]",
      "text/plain": [
       "<PIL.Image.Image image mode=L size=224x224 at 0x1F7DA11B548>"
      ]
     },
     "execution_count": 42,
     "metadata": {},
     "output_type": "execute_result"
    }
   ],
   "source": [
    "from tensorflow.keras.preprocessing import image\n",
    "im = image.load_img(image_path, target_size=image_size, color_mode=\"grayscale\")\n",
    "im"
   ]
  },
  {
   "cell_type": "code",
   "execution_count": 43,
   "metadata": {},
   "outputs": [
    {
     "data": {
      "text/plain": [
       "(224, 224, 1)"
      ]
     },
     "execution_count": 43,
     "metadata": {},
     "output_type": "execute_result"
    }
   ],
   "source": [
    "# Convert the image to a numpy array \n",
    "from tensorflow.keras.preprocessing.image import img_to_array\n",
    "image = img_to_array(im)\n",
    "image.shape"
   ]
  },
  {
   "cell_type": "code",
   "execution_count": 44,
   "metadata": {},
   "outputs": [
    {
     "data": {
      "text/plain": [
       "(1, 50176)"
      ]
     },
     "execution_count": 44,
     "metadata": {},
     "output_type": "execute_result"
    }
   ],
   "source": [
    "# Scale the image pixels by 255 (or use a scaler from sklearn here)\n",
    "image /= 255\n",
    "\n",
    "# Flatten into a 1x28*28 array \n",
    "img = image.flatten().reshape(-1, 224*224)\n",
    "img.shape"
   ]
  },
  {
   "cell_type": "code",
   "execution_count": 46,
   "metadata": {},
   "outputs": [
    {
     "data": {
      "text/plain": [
       "<matplotlib.image.AxesImage at 0x1f7da17ee08>"
      ]
     },
     "execution_count": 46,
     "metadata": {},
     "output_type": "execute_result"
    },
    {
     "data": {
      "image/png": "[encoded data removed]",
      "text/plain": [
       "<Figure size 432x288 with 1 Axes>"
      ]
     },
     "metadata": {
      "needs_background": "light"
     },
     "output_type": "display_data"
    }
   ],
   "source": [
    "plt.imshow(img.reshape(224, 224), cmap=plt.cm.Greys)"
   ]
  },
  {
   "cell_type": "code",
   "execution_count": 49,
   "metadata": {},
   "outputs": [
    {
     "data": {
      "text/plain": [
       "<matplotlib.image.AxesImage at 0x1f7da9b1788>"
      ]
     },
     "execution_count": 49,
     "metadata": {},
     "output_type": "execute_result"
    },
    {
     "data": {
      "image/png": "[encoded data removed]",
      "text/plain": [
       "<Figure size 432x288 with 1 Axes>"
      ]
     },
     "metadata": {
      "needs_background": "light"
     },
     "output_type": "display_data"
    }
   ],
   "source": [
    "# Invert the pixel values to match the original data\n",
    "img = 1 - img\n",
    "plt.imshow(img.reshape(224, 224), cmap=plt.cm.Greys)"
   ]
  },
  {
   "cell_type": "code",
   "execution_count": 53,
   "metadata": {},
   "outputs": [
    {
     "name": "stdout",
     "output_type": "stream",
     "text": [
      "1/1 [==============================] - 0s 45ms/step\n"
     ]
    },
    {
     "data": {
      "text/plain": [
       "array([[0., 0., 0., 0., 1., 0., 0., 0.]], dtype=float32)"
      ]
     },
     "execution_count": 53,
     "metadata": {},
     "output_type": "execute_result"
    }
   ],
   "source": [
    "# Make a prediction. The result should be 0000010000000 for a 5\n",
    "model.predict(img).round()"
   ]
  },
  {
   "cell_type": "code",
   "execution_count": null,
   "metadata": {},
   "outputs": [],
   "source": []
  },
  {
   "cell_type": "code",
   "execution_count": null,
   "metadata": {},
   "outputs": [],
   "source": []
  },
  {
   "cell_type": "code",
   "execution_count": 36,
   "metadata": {},
   "outputs": [
    {
     "ename": "ValueError",
     "evalue": "Input 0 of layer \"conv2d_4\" is incompatible with the layer: expected min_ndim=4, found ndim=3. Full shape received: (None, 9, 50176)",
     "output_type": "error",
     "traceback": [
      "\u001b[1;31m---------------------------------------------------------------------------\u001b[0m",
      "\u001b[1;31mValueError\u001b[0m                                Traceback (most recent call last)",
      "\u001b[1;32m~\\AppData\\Local\\Temp\\ipykernel_9360\\4246045351.py\u001b[0m in \u001b[0;36m<module>\u001b[1;34m\u001b[0m\n\u001b[0;32m     11\u001b[0m     \u001b[0mkeras\u001b[0m\u001b[1;33m.\u001b[0m\u001b[0mlayers\u001b[0m\u001b[1;33m.\u001b[0m\u001b[0mFlatten\u001b[0m\u001b[1;33m(\u001b[0m\u001b[1;33m)\u001b[0m\u001b[1;33m,\u001b[0m\u001b[1;33m\u001b[0m\u001b[1;33m\u001b[0m\u001b[0m\n\u001b[0;32m     12\u001b[0m     \u001b[0mkeras\u001b[0m\u001b[1;33m.\u001b[0m\u001b[0mlayers\u001b[0m\u001b[1;33m.\u001b[0m\u001b[0mDense\u001b[0m\u001b[1;33m(\u001b[0m\u001b[1;36m128\u001b[0m\u001b[1;33m,\u001b[0m \u001b[0mactivation\u001b[0m\u001b[1;33m=\u001b[0m\u001b[1;34m'relu'\u001b[0m\u001b[1;33m)\u001b[0m\u001b[1;33m,\u001b[0m\u001b[1;33m\u001b[0m\u001b[1;33m\u001b[0m\u001b[0m\n\u001b[1;32m---> 13\u001b[1;33m     \u001b[0mkeras\u001b[0m\u001b[1;33m.\u001b[0m\u001b[0mlayers\u001b[0m\u001b[1;33m.\u001b[0m\u001b[0mDense\u001b[0m\u001b[1;33m(\u001b[0m\u001b[1;36m3\u001b[0m\u001b[1;33m,\u001b[0m \u001b[0mactivation\u001b[0m\u001b[1;33m=\u001b[0m\u001b[1;34m'softmax'\u001b[0m\u001b[1;33m)\u001b[0m\u001b[1;33m\u001b[0m\u001b[1;33m\u001b[0m\u001b[0m\n\u001b[0m\u001b[0;32m     14\u001b[0m ])\n",
      "\u001b[1;32mc:\\Users\\User\\anaconda3\\envs\\PythonData\\lib\\site-packages\\tensorflow\\python\\trackable\\base.py\u001b[0m in \u001b[0;36m_method_wrapper\u001b[1;34m(self, *args, **kwargs)\u001b[0m\n\u001b[0;32m    203\u001b[0m     \u001b[0mself\u001b[0m\u001b[1;33m.\u001b[0m\u001b[0m_self_setattr_tracking\u001b[0m \u001b[1;33m=\u001b[0m \u001b[1;32mFalse\u001b[0m  \u001b[1;31m# pylint: disable=protected-access\u001b[0m\u001b[1;33m\u001b[0m\u001b[1;33m\u001b[0m\u001b[0m\n\u001b[0;32m    204\u001b[0m     \u001b[1;32mtry\u001b[0m\u001b[1;33m:\u001b[0m\u001b[1;33m\u001b[0m\u001b[1;33m\u001b[0m\u001b[0m\n\u001b[1;32m--> 205\u001b[1;33m       \u001b[0mresult\u001b[0m \u001b[1;33m=\u001b[0m \u001b[0mmethod\u001b[0m\u001b[1;33m(\u001b[0m\u001b[0mself\u001b[0m\u001b[1;33m,\u001b[0m \u001b[1;33m*\u001b[0m\u001b[0margs\u001b[0m\u001b[1;33m,\u001b[0m \u001b[1;33m**\u001b[0m\u001b[0mkwargs\u001b[0m\u001b[1;33m)\u001b[0m\u001b[1;33m\u001b[0m\u001b[1;33m\u001b[0m\u001b[0m\n\u001b[0m\u001b[0;32m    206\u001b[0m     \u001b[1;32mfinally\u001b[0m\u001b[1;33m:\u001b[0m\u001b[1;33m\u001b[0m\u001b[1;33m\u001b[0m\u001b[0m\n\u001b[0;32m    207\u001b[0m       \u001b[0mself\u001b[0m\u001b[1;33m.\u001b[0m\u001b[0m_self_setattr_tracking\u001b[0m \u001b[1;33m=\u001b[0m \u001b[0mprevious_value\u001b[0m  \u001b[1;31m# pylint: disable=protected-access\u001b[0m\u001b[1;33m\u001b[0m\u001b[1;33m\u001b[0m\u001b[0m\n",
      "\u001b[1;32mc:\\Users\\User\\anaconda3\\envs\\PythonData\\lib\\site-packages\\keras\\utils\\traceback_utils.py\u001b[0m in \u001b[0;36merror_handler\u001b[1;34m(*args, **kwargs)\u001b[0m\n\u001b[0;32m     68\u001b[0m             \u001b[1;31m# To get the full stack trace, call:\u001b[0m\u001b[1;33m\u001b[0m\u001b[1;33m\u001b[0m\u001b[1;33m\u001b[0m\u001b[0m\n\u001b[0;32m     69\u001b[0m             \u001b[1;31m# `tf.debugging.disable_traceback_filtering()`\u001b[0m\u001b[1;33m\u001b[0m\u001b[1;33m\u001b[0m\u001b[1;33m\u001b[0m\u001b[0m\n\u001b[1;32m---> 70\u001b[1;33m             \u001b[1;32mraise\u001b[0m \u001b[0me\u001b[0m\u001b[1;33m.\u001b[0m\u001b[0mwith_traceback\u001b[0m\u001b[1;33m(\u001b[0m\u001b[0mfiltered_tb\u001b[0m\u001b[1;33m)\u001b[0m \u001b[1;32mfrom\u001b[0m \u001b[1;32mNone\u001b[0m\u001b[1;33m\u001b[0m\u001b[1;33m\u001b[0m\u001b[0m\n\u001b[0m\u001b[0;32m     71\u001b[0m         \u001b[1;32mfinally\u001b[0m\u001b[1;33m:\u001b[0m\u001b[1;33m\u001b[0m\u001b[1;33m\u001b[0m\u001b[0m\n\u001b[0;32m     72\u001b[0m             \u001b[1;32mdel\u001b[0m \u001b[0mfiltered_tb\u001b[0m\u001b[1;33m\u001b[0m\u001b[1;33m\u001b[0m\u001b[0m\n",
      "\u001b[1;32mc:\\Users\\User\\anaconda3\\envs\\PythonData\\lib\\site-packages\\keras\\engine\\input_spec.py\u001b[0m in \u001b[0;36massert_input_compatibility\u001b[1;34m(input_spec, inputs, layer_name)\u001b[0m\n\u001b[0;32m    249\u001b[0m             \u001b[1;32mif\u001b[0m \u001b[0mndim\u001b[0m \u001b[1;32mis\u001b[0m \u001b[1;32mnot\u001b[0m \u001b[1;32mNone\u001b[0m \u001b[1;32mand\u001b[0m \u001b[0mndim\u001b[0m \u001b[1;33m<\u001b[0m \u001b[0mspec\u001b[0m\u001b[1;33m.\u001b[0m\u001b[0mmin_ndim\u001b[0m\u001b[1;33m:\u001b[0m\u001b[1;33m\u001b[0m\u001b[1;33m\u001b[0m\u001b[0m\n\u001b[0;32m    250\u001b[0m                 raise ValueError(\n\u001b[1;32m--> 251\u001b[1;33m                     \u001b[1;34mf'Input {input_index} of layer \"{layer_name}\" '\u001b[0m\u001b[1;33m\u001b[0m\u001b[1;33m\u001b[0m\u001b[0m\n\u001b[0m\u001b[0;32m    252\u001b[0m                     \u001b[1;34m\"is incompatible with the layer: \"\u001b[0m\u001b[1;33m\u001b[0m\u001b[1;33m\u001b[0m\u001b[0m\n\u001b[0;32m    253\u001b[0m                     \u001b[1;34mf\"expected min_ndim={spec.min_ndim}, \"\u001b[0m\u001b[1;33m\u001b[0m\u001b[1;33m\u001b[0m\u001b[0m\n",
      "\u001b[1;31mValueError\u001b[0m: Input 0 of layer \"conv2d_4\" is incompatible with the layer: expected min_ndim=4, found ndim=3. Full shape received: (None, 9, 50176)"
     ]
    }
   ],
   "source": [
    "# A better convolutional neural network\n",
    " \n",
    "# Model defining\n",
    "model = keras.Sequential([\n",
    "    keras.layers.AveragePooling2D(6, 3,\n",
    "                                  input_shape=(32, 50176)),\n",
    "    keras.layers.Conv2D(64, 3, activation='relu'),\n",
    "    keras.layers.Conv2D(32, 3, activation='relu'),\n",
    "    keras.layers.MaxPool2D(2, 2),\n",
    "    keras.layers.Dropout(0.5),\n",
    "    keras.layers.Flatten(),\n",
    "    keras.layers.Dense(128, activation='relu'),\n",
    "    keras.layers.Dense(3, activation='softmax')\n",
    "])\n"
   ]
  },
  {
   "cell_type": "code",
   "execution_count": 33,
   "metadata": {},
   "outputs": [],
   "source": [
    " \n",
    "# Compiling a model\n",
    "model.compile(optimizer='adam',\n",
    "              loss=keras.losses.SparseCategoricalCrossentropy(),\n",
    "              metrics=['accuracy'])\n"
   ]
  },
  {
   "cell_type": "code",
   "execution_count": 34,
   "metadata": {},
   "outputs": [
    {
     "name": "stdout",
     "output_type": "stream",
     "text": [
      "Epoch 1/5\n"
     ]
    },
    {
     "ename": "ValueError",
     "evalue": "Input 0 of layer \"sequential_1\" is incompatible with the layer: expected shape=(None, 300, 300, 1), found shape=(32, 50176)",
     "output_type": "error",
     "traceback": [
      "\u001b[1;31m---------------------------------------------------------------------------\u001b[0m",
      "\u001b[1;31mValueError\u001b[0m                                Traceback (most recent call last)",
      "\u001b[1;32m~\\AppData\\Local\\Temp\\ipykernel_9360\\3027010641.py\u001b[0m in \u001b[0;36m<module>\u001b[1;34m\u001b[0m\n\u001b[0;32m      1\u001b[0m \u001b[1;31m# Fitting the model\u001b[0m\u001b[1;33m\u001b[0m\u001b[1;33m\u001b[0m\u001b[1;33m\u001b[0m\u001b[0m\n\u001b[0;32m      2\u001b[0m model.fit(X_train_scaled, y_train_cat, epochs=5,\n\u001b[1;32m----> 3\u001b[1;33m           batch_size=32)\n\u001b[0m",
      "\u001b[1;32mc:\\Users\\User\\anaconda3\\envs\\PythonData\\lib\\site-packages\\keras\\utils\\traceback_utils.py\u001b[0m in \u001b[0;36merror_handler\u001b[1;34m(*args, **kwargs)\u001b[0m\n\u001b[0;32m     68\u001b[0m             \u001b[1;31m# To get the full stack trace, call:\u001b[0m\u001b[1;33m\u001b[0m\u001b[1;33m\u001b[0m\u001b[1;33m\u001b[0m\u001b[0m\n\u001b[0;32m     69\u001b[0m             \u001b[1;31m# `tf.debugging.disable_traceback_filtering()`\u001b[0m\u001b[1;33m\u001b[0m\u001b[1;33m\u001b[0m\u001b[1;33m\u001b[0m\u001b[0m\n\u001b[1;32m---> 70\u001b[1;33m             \u001b[1;32mraise\u001b[0m \u001b[0me\u001b[0m\u001b[1;33m.\u001b[0m\u001b[0mwith_traceback\u001b[0m\u001b[1;33m(\u001b[0m\u001b[0mfiltered_tb\u001b[0m\u001b[1;33m)\u001b[0m \u001b[1;32mfrom\u001b[0m \u001b[1;32mNone\u001b[0m\u001b[1;33m\u001b[0m\u001b[1;33m\u001b[0m\u001b[0m\n\u001b[0m\u001b[0;32m     71\u001b[0m         \u001b[1;32mfinally\u001b[0m\u001b[1;33m:\u001b[0m\u001b[1;33m\u001b[0m\u001b[1;33m\u001b[0m\u001b[0m\n\u001b[0;32m     72\u001b[0m             \u001b[1;32mdel\u001b[0m \u001b[0mfiltered_tb\u001b[0m\u001b[1;33m\u001b[0m\u001b[1;33m\u001b[0m\u001b[0m\n",
      "\u001b[1;32mc:\\Users\\User\\anaconda3\\envs\\PythonData\\lib\\site-packages\\keras\\engine\\input_spec.py\u001b[0m in \u001b[0;36massert_input_compatibility\u001b[1;34m(input_spec, inputs, layer_name)\u001b[0m\n\u001b[0;32m    294\u001b[0m                     \u001b[1;32mif\u001b[0m \u001b[0mspec_dim\u001b[0m \u001b[1;33m!=\u001b[0m \u001b[0mdim\u001b[0m\u001b[1;33m:\u001b[0m\u001b[1;33m\u001b[0m\u001b[1;33m\u001b[0m\u001b[0m\n\u001b[0;32m    295\u001b[0m                         raise ValueError(\n\u001b[1;32m--> 296\u001b[1;33m                             \u001b[1;34mf'Input {input_index} of layer \"{layer_name}\" is '\u001b[0m\u001b[1;33m\u001b[0m\u001b[1;33m\u001b[0m\u001b[0m\n\u001b[0m\u001b[0;32m    297\u001b[0m                             \u001b[1;34m\"incompatible with the layer: \"\u001b[0m\u001b[1;33m\u001b[0m\u001b[1;33m\u001b[0m\u001b[0m\n\u001b[0;32m    298\u001b[0m                             \u001b[1;34mf\"expected shape={spec.shape}, \"\u001b[0m\u001b[1;33m\u001b[0m\u001b[1;33m\u001b[0m\u001b[0m\n",
      "\u001b[1;31mValueError\u001b[0m: Input 0 of layer \"sequential_1\" is incompatible with the layer: expected shape=(None, 300, 300, 1), found shape=(32, 50176)"
     ]
    }
   ],
   "source": [
    " \n",
    "# Fitting the model\n",
    "model.fit(X_train_scaled, y_train_cat, epochs=5,\n",
    "          batch_size=32)"
   ]
  },
  {
   "cell_type": "code",
   "execution_count": null,
   "metadata": {},
   "outputs": [],
   "source": []
  },
  {
   "cell_type": "code",
   "execution_count": null,
   "metadata": {},
   "outputs": [],
   "source": []
  }
 ],
 "metadata": {
  "kernelspec": {
   "display_name": "PythonData",
   "language": "python",
   "name": "python3"
  },
  "language_info": {
   "codemirror_mode": {
    "name": "ipython",
    "version": 3
   },
   "file_extension": ".py",
   "mimetype": "text/x-python",
   "name": "python",
   "nbconvert_exporter": "python",
   "pygments_lexer": "ipython3",
   "version": "3.7.13"
  },
  "orig_nbformat": 4,
  "vscode": {
   "interpreter": {
    "hash": "9da66beca27f19bdf81de16e0121a30aa04d4edd5eb88e9a5610932102b72b6f"
   }
  }
 },
 "nbformat": 4,
 "nbformat_minor": 2
}
