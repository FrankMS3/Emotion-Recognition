{
  "cells": [
    {
      "cell_type": "code",
      "execution_count": null,
      "metadata": {
        "colab": {
          "base_uri": "https://localhost:8080/"
        },
        "id": "0OTugsGG2xIS",
        "outputId": "5843d6c6-8709-4dd6-b75b-c83a0364609d"
      },
      "outputs": [
        {
          "output_type": "stream",
          "name": "stdout",
          "text": [
            "Mounted at /content/drive\n"
          ]
        }
      ],
      "source": [
        "from google.colab import drive\n",
        "drive.mount('/content/drive')"
      ]
    },
    {
      "cell_type": "code",
      "execution_count": null,
      "metadata": {
        "id": "b6fWC2L92xIY"
      },
      "outputs": [],
      "source": [
        "# importing os module\n",
        "import os\n",
        "import numpy as np\n",
        "from PIL import Image\n",
        "from numpy import asarray\n",
        "from tensorflow import keras\n",
        "from tensorflow.keras.preprocessing import image"
      ]
    },
    {
      "cell_type": "code",
      "execution_count": null,
      "metadata": {
        "id": "0NSuL5_c2xIZ"
      },
      "outputs": [],
      "source": [
        "#Function to convert images to array\n",
        "def img_to_array(emotion):\n",
        "    #first_two = emotion[0:2]\n",
        "    x = []\n",
        "    y = []\n",
        "    #x.append([])\n",
        "    #x[0].append([])\n",
        "    folder = \"/content/drive/My Drive/archive/\"+emotion\n",
        "    for count, filename in enumerate(os.listdir(folder)):\n",
        "        # load the image\n",
        "        img = Image.open(f\"{folder}/{filename}\")\n",
        "        # Resize the image\n",
        "        img = img.resize((48, 48))\n",
        "        # asarray() class is used to convert\n",
        "        # PIL images into NumPy arrays\n",
        "        img_data = image.img_to_array(img)\n",
        "        #img_data = img_data.reshape(-1,1)\n",
        "        #np.append(X, img_data,axis=0)\n",
        "        x.append(img_data)\n",
        "        y.append(filename[0:2])\n",
        "    return x,y"
      ]
    },
    {
      "cell_type": "code",
      "execution_count": null,
      "metadata": {
        "id": "v8-YYAKN2xIa"
      },
      "outputs": [],
      "source": [
        "# Call image to array function to convert all images to array\n",
        "feature1,target1 = img_to_array(\"anger\")\n",
        "feature2,target2 = img_to_array(\"contempt\")\n",
        "feature3,target3 = img_to_array(\"disgust\")\n",
        "feature4,target4 = img_to_array(\"fear\")\n",
        "feature5,target5 = img_to_array(\"happiness\")\n",
        "feature6,target6 = img_to_array(\"neutrality\")\n",
        "feature7,target7 = img_to_array(\"sadness\")\n",
        "feature8,target8 = img_to_array(\"surprise\")\n"
      ]
    },
    {
      "cell_type": "code",
      "execution_count": null,
      "metadata": {
        "colab": {
          "base_uri": "https://localhost:8080/"
        },
        "id": "qdUY2iNk2xIb",
        "outputId": "91aad7d5-ed8e-4cb0-d98f-60f7fe9b5e12"
      },
      "outputs": [
        {
          "output_type": "execute_result",
          "data": {
            "text/plain": [
              "(5558, 48, 48, 1)"
            ]
          },
          "metadata": {},
          "execution_count": 6
        }
      ],
      "source": [
        "# Combine all features into one list\n",
        "feature = feature1 + feature2 + feature3 + feature4 + feature5 + feature6 + feature7 + feature8\n",
        "# Transforms the list into a numpy array\n",
        "feature_arr = np.array(feature)\n",
        "# Check the shape of the array\n",
        "feature_arr.shape"
      ]
    },
    {
      "cell_type": "code",
      "execution_count": null,
      "metadata": {
        "colab": {
          "base_uri": "https://localhost:8080/"
        },
        "id": "dlAgteiV2xIi",
        "outputId": "9d510138-9141-463b-ce60-6bafca074664"
      },
      "outputs": [
        {
          "output_type": "execute_result",
          "data": {
            "text/plain": [
              "(5558,)"
            ]
          },
          "metadata": {},
          "execution_count": 7
        }
      ],
      "source": [
        "# Combine all targets into one list\n",
        "target = target1 + target2 + target3 + target4 + target5 + target6 + target7 + target8\n",
        "# Transforms the list into a numpy array\n",
        "target_arr = np.array(target)\n",
        "# Check the shape of the array\n",
        "target_arr.shape"
      ]
    },
    {
      "cell_type": "code",
      "execution_count": null,
      "metadata": {
        "id": "mVie27Mp2xIk"
      },
      "outputs": [],
      "source": [
        "# Tranfer the arrays to coresponding variables\n",
        "X = feature_arr\n",
        "y= target_arr"
      ]
    },
    {
      "cell_type": "code",
      "execution_count": null,
      "metadata": {
        "colab": {
          "base_uri": "https://localhost:8080/"
        },
        "id": "HjLq8oY82xIm",
        "outputId": "875538bf-f83f-463f-a782-523778423dd7"
      },
      "outputs": [
        {
          "output_type": "execute_result",
          "data": {
            "text/plain": [
              "(5558, 48, 48, 1)"
            ]
          },
          "metadata": {},
          "execution_count": 9
        }
      ],
      "source": [
        "X.shape"
      ]
    },
    {
      "cell_type": "code",
      "source": [
        "# Dependencies to Visualise the model\n",
        "%matplotlib inline\n",
        "from IPython.display import Image, SVG\n",
        "import matplotlib.pyplot as plt\n",
        "import numpy as np\n",
        "np.random.seed(0)\n",
        "import tensorflow as tf\n",
        "# Sklearn\n",
        "from sklearn.model_selection import train_test_split\n",
        "# Sklearn scaling\n",
        "from sklearn.preprocessing import MinMaxScaler\n",
        "from sklearn.preprocessing import OneHotEncoder, LabelEncoder\n",
        "# Keras\n",
        "from tensorflow import keras\n",
        "from tensorflow.keras.models import Sequential\n",
        "from tensorflow.keras.utils import to_categorical\n",
        "from tensorflow.keras.layers import Dense, Dropout, Flatten, Conv1D, MaxPool1D, AveragePooling1D\n",
        "from keras.metrics import top_k_categorical_accuracy\n",
        "tf.config.run_functions_eagerly(True)\n",
        "tf.data.experimental.enable_debug_mode()"
      ],
      "metadata": {
        "id": "7cr-9--cBYgD"
      },
      "execution_count": null,
      "outputs": []
    },
    {
      "cell_type": "code",
      "execution_count": null,
      "metadata": {
        "id": "JJ67-CvE2xIn"
      },
      "outputs": [],
      "source": [
        "# Use sklearn to split dataset\n",
        "X_train, X_test, y_train, y_test = train_test_split(X, y, random_state=42)"
      ]
    },
    {
      "cell_type": "code",
      "execution_count": null,
      "metadata": {
        "colab": {
          "base_uri": "https://localhost:8080/"
        },
        "id": "xKgzAtrm2xIo",
        "outputId": "fbf0bcfa-cfa8-4803-efba-07496eb2a230"
      },
      "outputs": [
        {
          "output_type": "execute_result",
          "data": {
            "text/plain": [
              "(4168, 48, 48, 1)"
            ]
          },
          "metadata": {},
          "execution_count": 12
        }
      ],
      "source": [
        "# Check the shape of traing data\n",
        "X_train.shape"
      ]
    },
    {
      "cell_type": "code",
      "execution_count": null,
      "metadata": {
        "colab": {
          "base_uri": "https://localhost:8080/"
        },
        "id": "FrYjhxFU2xIq",
        "outputId": "ac38d528-5f00-45a4-f4de-8695c087f32e"
      },
      "outputs": [
        {
          "output_type": "execute_result",
          "data": {
            "text/plain": [
              "(4168,)"
            ]
          },
          "metadata": {},
          "execution_count": 13
        }
      ],
      "source": [
        "# Check the shape of testing data\n",
        "y_train.shape"
      ]
    },
    {
      "cell_type": "code",
      "source": [
        "# building the input vector from the 28x28 pixels\n",
        "X_train = X_train.reshape(X_train.shape[0], 48, 48)\n",
        "X_test = X_test.reshape(X_test.shape[0], 48, 48)\n",
        "X_train = X_train.astype('float32')\n",
        "X_test = X_test.astype('float32')"
      ],
      "metadata": {
        "id": "LHjqNMnqX8Bl"
      },
      "execution_count": null,
      "outputs": []
    },
    {
      "cell_type": "code",
      "source": [
        "# Check the shape of traing data\n",
        "X_train.shape"
      ],
      "metadata": {
        "colab": {
          "base_uri": "https://localhost:8080/"
        },
        "id": "u5jQGDWcYIcO",
        "outputId": "95b5369d-ae1b-45fe-96c4-d8f39d99b545"
      },
      "execution_count": null,
      "outputs": [
        {
          "output_type": "execute_result",
          "data": {
            "text/plain": [
              "(4168, 48, 48)"
            ]
          },
          "metadata": {},
          "execution_count": 15
        }
      ]
    },
    {
      "cell_type": "code",
      "execution_count": null,
      "metadata": {
        "id": "gUfZEFtw2xIu"
      },
      "outputs": [],
      "source": [
        "# normalizing the data to help with the training\n",
        "X_train /= 255\n",
        "X_test /= 255"
      ]
    },
    {
      "cell_type": "code",
      "execution_count": null,
      "metadata": {
        "id": "GvikaXpF2xIu"
      },
      "outputs": [],
      "source": [
        "# Sklearn scaling\n",
        "# Next, we normalise our training data to be between 0 and 1\n",
        "# scaler = MinMaxScaler().fit(X_train)\n",
        "\n",
        "# X_train_scaled = scaler.transform(X_train)\n",
        "# X_test_scaled = scaler.transform(X_test)"
      ]
    },
    {
      "cell_type": "code",
      "source": [],
      "metadata": {
        "id": "K2Nce11XX4ep"
      },
      "execution_count": null,
      "outputs": []
    },
    {
      "cell_type": "code",
      "execution_count": null,
      "metadata": {
        "colab": {
          "base_uri": "https://localhost:8080/"
        },
        "id": "DteMAEgI2xIv",
        "outputId": "050f9332-d212-4997-9d54-96d9a773b517"
      },
      "outputs": [
        {
          "output_type": "execute_result",
          "data": {
            "text/plain": [
              "array(['an', 'ne', 'fe', 'ne', 'an', 'ne', 'su', 'su', 'ha', 'ha', 'co',\n",
              "       'su', 'an', 'ha', 'fe', 'an', 'fe', 'ha', 'ha', 'ha', 'ha', 'ne',\n",
              "       'an', 'sa', 'ha', 'ha', 'ne', 'co', 'fe', 'an', 'fe', 'sa', 'ha',\n",
              "       'an', 'ne', 'su', 'ha', 'ha', 'an', 'sa', 'fe', 'di', 'ha', 'ha',\n",
              "       'ne', 'an', 'sa', 'ha', 'sa', 'an', 'su', 'an', 'ha', 'su', 'sa',\n",
              "       'ha', 'ha', 'fe', 'fe', 'su', 'di', 'ha', 'an', 'sa', 'ne', 'ne',\n",
              "       'su', 'ne', 'di', 'su', 'co', 'ha', 'ne', 'ha', 'an', 'sa', 'su',\n",
              "       'su', 'fe', 'sa', 'su', 'di', 'ha', 'sa', 'su', 'su', 'di', 'sa',\n",
              "       'sa', 'ha', 'sa', 'ha', 'ne', 'an', 'fe', 'di', 'ha', 'sa', 'ne',\n",
              "       'su', 'an', 'ha', 'an', 'sa', 'ha', 'su', 'di', 'ha', 'su', 'su',\n",
              "       'ha', 'su', 'ne', 'ha', 'an', 'ne', 'sa', 'ne', 'an', 'an', 'an',\n",
              "       'sa', 'ne', 'fe', 'co', 'di', 'ha', 'di', 'ha', 'su', 'fe', 'sa',\n",
              "       'fe', 'ne', 'sa', 'su', 'ha', 'fe', 'fe', 'su', 'an', 'ha', 'su',\n",
              "       'su', 'ha', 'an', 'fe', 'di', 'ne', 'ne', 'ha', 'su', 'ne', 'su',\n",
              "       'an', 'di', 'co', 'fe', 'an', 'ne', 'an', 'ha', 'su', 'ne', 'ha',\n",
              "       'ha', 'ha', 'an', 'di', 'su', 'an', 'di', 'di', 'ha', 'an', 'an',\n",
              "       'sa', 'an', 'ha', 'di', 'sa', 'sa', 'di', 'co', 'an', 'ha', 'sa',\n",
              "       'fe', 'an', 'di', 'di', 'sa', 'an', 'sa', 'ne', 'an', 'fe', 'di',\n",
              "       'sa', 'an'], dtype='<U2')"
            ]
          },
          "metadata": {},
          "execution_count": 17
        }
      ],
      "source": [
        "# Check the traing data\n",
        "y_train[:200]"
      ]
    },
    {
      "cell_type": "code",
      "execution_count": null,
      "metadata": {
        "colab": {
          "base_uri": "https://localhost:8080/"
        },
        "id": "USAo5Bvo2xIw",
        "outputId": "310519c2-1f18-418f-d21b-9e2aa66c833e"
      },
      "outputs": [
        {
          "output_type": "execute_result",
          "data": {
            "text/plain": [
              "array(['an', 'co', 'di', 'fe', 'ha', 'ne', 'sa', 'su'], dtype='<U2')"
            ]
          },
          "metadata": {},
          "execution_count": 18
        }
      ],
      "source": [
        "le = LabelEncoder()\n",
        "y_train_encoded = le.fit_transform(y_train)\n",
        "y_test_encoded = le.fit_transform(y_test)\n",
        "classes = le.classes_\n",
        "classes"
      ]
    },
    {
      "cell_type": "code",
      "execution_count": null,
      "metadata": {
        "colab": {
          "base_uri": "https://localhost:8080/"
        },
        "id": "hPUW8QSn2xIw",
        "outputId": "90ffc220-79ed-4119-f2e7-dcf0e9807d34"
      },
      "outputs": [
        {
          "output_type": "execute_result",
          "data": {
            "text/plain": [
              "array([1., 0., 0., 0., 0., 0., 0., 0.], dtype=float32)"
            ]
          },
          "metadata": {},
          "execution_count": 19
        }
      ],
      "source": [
        "# We need to convert our target labels (expected values) to categorical data\n",
        "num_classes = len(classes)\n",
        "y_train = to_categorical(y_train_encoded, num_classes)\n",
        "y_test = to_categorical(y_test_encoded, num_classes)\n",
        "# Original label of `Surprise` is one-hot encoded as `00000001`\n",
        "y_train[0]"
      ]
    },
    {
      "cell_type": "code",
      "execution_count": null,
      "metadata": {
        "colab": {
          "base_uri": "https://localhost:8080/"
        },
        "id": "JrXB24Si2xIx",
        "outputId": "d7507628-b4e9-4074-c001-01a44704cb85"
      },
      "outputs": [
        {
          "output_type": "execute_result",
          "data": {
            "text/plain": [
              "(4168, 48, 48)"
            ]
          },
          "metadata": {},
          "execution_count": 20
        }
      ],
      "source": [
        "X_train.shape"
      ]
    },
    {
      "cell_type": "code",
      "execution_count": null,
      "metadata": {
        "colab": {
          "base_uri": "https://localhost:8080/"
        },
        "id": "htpDpK9q2xIx",
        "outputId": "f665fb41-4319-4ca1-a8b7-e8068c12188d"
      },
      "outputs": [
        {
          "output_type": "execute_result",
          "data": {
            "text/plain": [
              "array([[1., 0., 0., ..., 0., 0., 0.],\n",
              "       [0., 0., 0., ..., 1., 0., 0.],\n",
              "       [0., 0., 0., ..., 0., 0., 0.],\n",
              "       ...,\n",
              "       [0., 0., 0., ..., 0., 0., 1.],\n",
              "       [0., 0., 0., ..., 0., 0., 1.],\n",
              "       [1., 0., 0., ..., 0., 0., 0.]], dtype=float32)"
            ]
          },
          "metadata": {},
          "execution_count": 21
        }
      ],
      "source": [
        "y_train"
      ]
    },
    {
      "cell_type": "code",
      "source": [
        "inTop2 = lambda x, y: top_k_categorical_accuracy(x, y, k=2)"
      ],
      "metadata": {
        "id": "sbwFj7HfZcSr"
      },
      "execution_count": null,
      "outputs": []
    },
    {
      "cell_type": "code",
      "execution_count": null,
      "metadata": {
        "id": "E9XV93BD2xIx"
      },
      "outputs": [],
      "source": [
        "# building a linear stack of layers with the sequential model\n",
        "model = Sequential()\n",
        "\n",
        "# convolutional layer\n",
        "model.add(Conv1D(64, 4, activation='relu', input_shape=X_train[0].shape))\n",
        "model.add(AveragePooling1D(pool_size=3))\n",
        "#model.add(Dropout(0.2))\n",
        "\n",
        "# convolutional layer\n",
        "model.add(Conv1D(125, 3, activation='relu'))\n",
        "model.add(AveragePooling1D(pool_size=2))\n",
        "#model.add(Dropout(0.2))\n",
        "\n",
        "model.add(Conv1D(175, 2, activation='relu'))\n",
        "model.add(MaxPool1D(pool_size=2))\n",
        "#model.add(Dropout(0.1))\n",
        "\n",
        "# flatten output of conv\n",
        "model.add(Flatten())\n",
        "\n",
        "# hidden layer\n",
        "model.add(Dense(100, activation='relu'))\n",
        "#model.add(Dropout(0.2))\n",
        "model.add(Dense(150, activation='relu'))\n",
        "#model.add(Dropout(0.1))\n",
        "# output layer\n",
        "model.add(Dense(8, activation='softmax'))\n",
        "\n",
        "# compiling the sequential model\n",
        "model.compile(loss='categorical_crossentropy', metrics=[inTop2], optimizer='adam')"
      ]
    },
    {
      "cell_type": "code",
      "source": [
        "model.summary()"
      ],
      "metadata": {
        "colab": {
          "base_uri": "https://localhost:8080/"
        },
        "id": "0c8FeHivT1cJ",
        "outputId": "623fb6d7-c47e-40ea-b1eb-28bf05fb794d"
      },
      "execution_count": null,
      "outputs": [
        {
          "output_type": "stream",
          "name": "stdout",
          "text": [
            "Model: \"sequential_6\"\n",
            "_________________________________________________________________\n",
            " Layer (type)                Output Shape              Param #   \n",
            "=================================================================\n",
            " conv1d_18 (Conv1D)          (None, 45, 64)            12352     \n",
            "                                                                 \n",
            " average_pooling1d_11 (Avera  (None, 15, 64)           0         \n",
            " gePooling1D)                                                    \n",
            "                                                                 \n",
            " conv1d_19 (Conv1D)          (None, 13, 125)           24125     \n",
            "                                                                 \n",
            " average_pooling1d_12 (Avera  (None, 6, 125)           0         \n",
            " gePooling1D)                                                    \n",
            "                                                                 \n",
            " conv1d_20 (Conv1D)          (None, 5, 175)            43925     \n",
            "                                                                 \n",
            " max_pooling1d_6 (MaxPooling  (None, 2, 175)           0         \n",
            " 1D)                                                             \n",
            "                                                                 \n",
            " flatten_6 (Flatten)         (None, 350)               0         \n",
            "                                                                 \n",
            " dense_18 (Dense)            (None, 100)               35100     \n",
            "                                                                 \n",
            " dense_19 (Dense)            (None, 150)               15150     \n",
            "                                                                 \n",
            " dense_20 (Dense)            (None, 8)                 1208      \n",
            "                                                                 \n",
            "=================================================================\n",
            "Total params: 131,860\n",
            "Trainable params: 131,860\n",
            "Non-trainable params: 0\n",
            "_________________________________________________________________\n"
          ]
        }
      ]
    },
    {
      "cell_type": "code",
      "source": [
        "# training the model for 10 epochs\n",
        "model.fit(X_train, y_train, batch_size=4, epochs=20, validation_data=(X_test, y_test))"
      ],
      "metadata": {
        "colab": {
          "base_uri": "https://localhost:8080/"
        },
        "id": "1-FRRuQYu3u_",
        "outputId": "d1f66b52-60ce-4362-b9a3-f5f26b6b66c4"
      },
      "execution_count": null,
      "outputs": [
        {
          "output_type": "stream",
          "name": "stdout",
          "text": [
            "Epoch 1/20\n",
            "1042/1042 [==============================] - 38s 36ms/step - loss: 1.9807 - <lambda>: 0.4000 - val_loss: 1.9737 - val_<lambda>: 0.4245\n",
            "Epoch 2/20\n",
            "1042/1042 [==============================] - 37s 36ms/step - loss: 1.9699 - <lambda>: 0.4091 - val_loss: 1.9676 - val_<lambda>: 0.3899\n",
            "Epoch 3/20\n",
            "1042/1042 [==============================] - 38s 37ms/step - loss: 1.9634 - <lambda>: 0.4232 - val_loss: 1.9674 - val_<lambda>: 0.4000\n",
            "Epoch 4/20\n",
            "1042/1042 [==============================] - 37s 35ms/step - loss: 1.9608 - <lambda>: 0.4160 - val_loss: 1.9628 - val_<lambda>: 0.4266\n",
            "Epoch 5/20\n",
            "1042/1042 [==============================] - 37s 35ms/step - loss: 1.9450 - <lambda>: 0.4292 - val_loss: 1.9480 - val_<lambda>: 0.4209\n",
            "Epoch 6/20\n",
            "1042/1042 [==============================] - 36s 35ms/step - loss: 1.9024 - <lambda>: 0.4717 - val_loss: 1.9044 - val_<lambda>: 0.4705\n",
            "Epoch 7/20\n",
            "1042/1042 [==============================] - 37s 35ms/step - loss: 1.8707 - <lambda>: 0.4789 - val_loss: 1.8507 - val_<lambda>: 0.4835\n",
            "Epoch 8/20\n",
            "1042/1042 [==============================] - 37s 35ms/step - loss: 1.8467 - <lambda>: 0.4947 - val_loss: 1.8610 - val_<lambda>: 0.4899\n",
            "Epoch 9/20\n",
            "1042/1042 [==============================] - 37s 36ms/step - loss: 1.8273 - <lambda>: 0.5096 - val_loss: 1.8352 - val_<lambda>: 0.5079\n",
            "Epoch 10/20\n",
            "1042/1042 [==============================] - 37s 36ms/step - loss: 1.8169 - <lambda>: 0.5118 - val_loss: 1.8023 - val_<lambda>: 0.5115\n",
            "Epoch 11/20\n",
            "1042/1042 [==============================] - 37s 35ms/step - loss: 1.7985 - <lambda>: 0.5254 - val_loss: 1.8163 - val_<lambda>: 0.5158\n",
            "Epoch 12/20\n",
            "1042/1042 [==============================] - 37s 36ms/step - loss: 1.7922 - <lambda>: 0.5190 - val_loss: 1.8150 - val_<lambda>: 0.5173\n",
            "Epoch 13/20\n",
            "1042/1042 [==============================] - 36s 35ms/step - loss: 1.7751 - <lambda>: 0.5271 - val_loss: 1.7829 - val_<lambda>: 0.5180\n",
            "Epoch 14/20\n",
            "1042/1042 [==============================] - 37s 35ms/step - loss: 1.7633 - <lambda>: 0.5360 - val_loss: 1.7867 - val_<lambda>: 0.5101\n",
            "Epoch 15/20\n",
            "1042/1042 [==============================] - 37s 35ms/step - loss: 1.7405 - <lambda>: 0.5446 - val_loss: 1.7953 - val_<lambda>: 0.5187\n",
            "Epoch 16/20\n",
            "1042/1042 [==============================] - 37s 35ms/step - loss: 1.7322 - <lambda>: 0.5624 - val_loss: 1.7740 - val_<lambda>: 0.5245\n",
            "Epoch 17/20\n",
            "1042/1042 [==============================] - 37s 35ms/step - loss: 1.7016 - <lambda>: 0.5677 - val_loss: 1.7970 - val_<lambda>: 0.5223\n",
            "Epoch 18/20\n",
            "1042/1042 [==============================] - 36s 35ms/step - loss: 1.6826 - <lambda>: 0.5792 - val_loss: 1.7424 - val_<lambda>: 0.5367\n",
            "Epoch 19/20\n",
            "1042/1042 [==============================] - 37s 35ms/step - loss: 1.6568 - <lambda>: 0.5883 - val_loss: 1.7964 - val_<lambda>: 0.5324\n",
            "Epoch 20/20\n",
            "1042/1042 [==============================] - 36s 35ms/step - loss: 1.6459 - <lambda>: 0.5902 - val_loss: 1.7407 - val_<lambda>: 0.5317\n"
          ]
        },
        {
          "output_type": "execute_result",
          "data": {
            "text/plain": [
              "<keras.callbacks.History at 0x7f6518fda880>"
            ]
          },
          "metadata": {},
          "execution_count": 42
        }
      ]
    },
    {
      "cell_type": "code",
      "source": [
        "#  \"Accuracy\"\n",
        "plt.plot(model.history.history['<lambda>'])\n",
        "plt.plot(model.history.history['val_<lambda>'])\n",
        "plt.title('model accuracy')\n",
        "plt.ylabel('accuracy')\n",
        "plt.xlabel('epoch')\n",
        "plt.legend(['train', 'validation'], loc='upper left')\n",
        "plt.show()\n"
      ],
      "metadata": {
        "colab": {
          "base_uri": "https://localhost:8080/",
          "height": 295
        },
        "id": "cKRw-T2yvQeI",
        "outputId": "13727b11-aad1-4885-82b0-ebae00352728"
      },
      "execution_count": null,
      "outputs": [
        {
          "output_type": "display_data",
          "data": {
            "text/plain": [
              "<Figure size 432x288 with 1 Axes>"
            ],
            "image/png": "[encoded data removed]"
          },
          "metadata": {
            "needs_background": "light"
          }
        }
      ]
    },
    {
      "cell_type": "code",
      "source": [
        "# \"Loss\"\n",
        "plt.plot(model.history.history['loss'])\n",
        "plt.plot(model.history.history['val_loss'])\n",
        "plt.title('model loss')\n",
        "plt.ylabel('loss')\n",
        "plt.xlabel('epoch')\n",
        "plt.legend(['train', 'validation'], loc='upper left')\n",
        "plt.show()"
      ],
      "metadata": {
        "colab": {
          "base_uri": "https://localhost:8080/",
          "height": 295
        },
        "id": "XY4mKd_kvQgq",
        "outputId": "4695f6e8-9a28-4a8a-e244-da8536d51c76"
      },
      "execution_count": null,
      "outputs": [
        {
          "output_type": "display_data",
          "data": {
            "text/plain": [
              "<Figure size 432x288 with 1 Axes>"
            ],
            "image/png": "[encoded data removed]"
          },
          "metadata": {
            "needs_background": "light"
          }
        }
      ]
    },
    {
      "cell_type": "code",
      "source": [
        "# Evaluate the model using the training data \n",
        "model_loss, model_accuracy = model.evaluate(X_test, y_test, verbose=2)\n",
        "print(f\"Loss: {model_loss}, Accuracy: {model_accuracy}\")"
      ],
      "metadata": {
        "colab": {
          "base_uri": "https://localhost:8080/"
        },
        "id": "NapaFCs4YvLe",
        "outputId": "24fe81e6-a5ab-4750-be06-744e2d89a4b6"
      },
      "execution_count": null,
      "outputs": [
        {
          "output_type": "stream",
          "name": "stdout",
          "text": [
            "44/44 - 1s - loss: 1.9195 - top_k_categorical_accuracy: 0.8640 - 661ms/epoch - 15ms/step\n",
            "Loss: 1.919500708580017, Accuracy: 0.8640287518501282\n"
          ]
        }
      ]
    },
    {
      "cell_type": "markdown",
      "metadata": {
        "id": "-BBj2QrH2xI0"
      },
      "source": [
        "## Saving and Loading models\n",
        "\n",
        "We can save our trained models using the HDF5 binary format with the extension `.h5`"
      ]
    },
    {
      "cell_type": "code",
      "execution_count": null,
      "metadata": {
        "id": "KRmQr7bJ2xI2"
      },
      "outputs": [],
      "source": [
        "# Save the model\n",
        "model.save(\"emotion_cnn1D_k5_86.4.h5\")"
      ]
    },
    {
      "cell_type": "code",
      "source": [],
      "metadata": {
        "id": "QrPu4SaqBr1w"
      },
      "execution_count": null,
      "outputs": []
    },
    {
      "cell_type": "code",
      "execution_count": null,
      "metadata": {
        "id": "SN6eFVgE2xI3"
      },
      "outputs": [],
      "source": [
        "# Load the model\n",
        "from tensorflow.keras.models import load_model\n",
        "model = load_model(\"emotion_cnn1D_k5_86.4.h5\")"
      ]
    },
    {
      "cell_type": "code",
      "source": [
        "model"
      ],
      "metadata": {
        "colab": {
          "base_uri": "https://localhost:8080/"
        },
        "id": "HpVuCxFaBtP6",
        "outputId": "ea249948-e913-42ad-ffee-377dd509924b"
      },
      "execution_count": null,
      "outputs": [
        {
          "output_type": "execute_result",
          "data": {
            "text/plain": [
              "<keras.engine.sequential.Sequential at 0x7f9556656a30>"
            ]
          },
          "metadata": {},
          "execution_count": 63
        }
      ]
    },
    {
      "cell_type": "markdown",
      "metadata": {
        "id": "xCPuXKW_2xI3"
      },
      "source": [
        "## Evaluating the Model\n",
        "\n",
        "We use our testing data to validate our model. This is how we determine the validity of our model (i.e. the ability to predict new and previously unseen data points)"
      ]
    },
    {
      "cell_type": "code",
      "execution_count": null,
      "metadata": {
        "colab": {
          "base_uri": "https://localhost:8080/"
        },
        "id": "T8Y7mTCL2xI3",
        "outputId": "7be3159d-43e5-4378-a4a4-a77144e91f75"
      },
      "outputs": [
        {
          "output_type": "stream",
          "name": "stdout",
          "text": [
            "Loss: 1.919500708580017, Accuracy: 0.8640287518501282\n"
          ]
        }
      ],
      "source": [
        "# Evaluate the model using the training data \n",
        "model_loss, model_accuracy = model.evaluate(X_test, y_test, verbose=2)\n",
        "print(f\"Loss: {model_loss}, Accuracy: {model_accuracy}\")"
      ]
    },
    {
      "cell_type": "markdown",
      "metadata": {
        "id": "DjvfZFqi2xI4"
      },
      "source": [
        "## Making Predictions\n",
        "\n",
        "We can use our trained model to make predictions using `model.predict`"
      ]
    },
    {
      "cell_type": "code",
      "execution_count": null,
      "metadata": {
        "id": "YcRexD_Y2xI4"
      },
      "outputs": [],
      "source": [
        "# Define default image size for our model\n",
        "image_path = os.path.join(\"Images\", \"happy.jpeg\")\n",
        "image_size = (48, 48)"
      ]
    },
    {
      "cell_type": "code",
      "execution_count": null,
      "metadata": {
        "colab": {
          "base_uri": "https://localhost:8080/",
          "height": 321
        },
        "id": "nxXt0p5u2xI4",
        "outputId": "8b4b52ba-424a-4056-fd62-41a96086c150"
      },
      "outputs": [
        {
          "output_type": "error",
          "ename": "FileNotFoundError",
          "evalue": "ignored",
          "traceback": [
            "\u001b[0;31m---------------------------------------------------------------------------\u001b[0m",
            "\u001b[0;31mFileNotFoundError\u001b[0m                         Traceback (most recent call last)",
            "\u001b[0;32m<ipython-input-43-70804e96ad6a>\u001b[0m in \u001b[0;36m<module>\u001b[0;34m\u001b[0m\n\u001b[1;32m      1\u001b[0m \u001b[0;32mfrom\u001b[0m \u001b[0mtensorflow\u001b[0m\u001b[0;34m.\u001b[0m\u001b[0mkeras\u001b[0m\u001b[0;34m.\u001b[0m\u001b[0mpreprocessing\u001b[0m \u001b[0;32mimport\u001b[0m \u001b[0mimage\u001b[0m\u001b[0;34m\u001b[0m\u001b[0;34m\u001b[0m\u001b[0m\n\u001b[0;32m----> 2\u001b[0;31m \u001b[0mim\u001b[0m \u001b[0;34m=\u001b[0m \u001b[0mimage\u001b[0m\u001b[0;34m.\u001b[0m\u001b[0mload_img\u001b[0m\u001b[0;34m(\u001b[0m\u001b[0mimage_path\u001b[0m\u001b[0;34m,\u001b[0m \u001b[0mtarget_size\u001b[0m\u001b[0;34m=\u001b[0m\u001b[0mimage_size\u001b[0m\u001b[0;34m,\u001b[0m \u001b[0mcolor_mode\u001b[0m\u001b[0;34m=\u001b[0m\u001b[0;34m\"grayscale\"\u001b[0m\u001b[0;34m)\u001b[0m\u001b[0;34m\u001b[0m\u001b[0;34m\u001b[0m\u001b[0m\n\u001b[0m\u001b[1;32m      3\u001b[0m \u001b[0mim\u001b[0m\u001b[0;34m\u001b[0m\u001b[0;34m\u001b[0m\u001b[0m\n",
            "\u001b[0;32m/usr/local/lib/python3.8/dist-packages/keras/utils/image_utils.py\u001b[0m in \u001b[0;36mload_img\u001b[0;34m(path, grayscale, color_mode, target_size, interpolation, keep_aspect_ratio)\u001b[0m\n\u001b[1;32m    391\u001b[0m     \u001b[0;32mif\u001b[0m \u001b[0misinstance\u001b[0m\u001b[0;34m(\u001b[0m\u001b[0mpath\u001b[0m\u001b[0;34m,\u001b[0m \u001b[0mpathlib\u001b[0m\u001b[0;34m.\u001b[0m\u001b[0mPath\u001b[0m\u001b[0;34m)\u001b[0m\u001b[0;34m:\u001b[0m\u001b[0;34m\u001b[0m\u001b[0;34m\u001b[0m\u001b[0m\n\u001b[1;32m    392\u001b[0m       \u001b[0mpath\u001b[0m \u001b[0;34m=\u001b[0m \u001b[0mstr\u001b[0m\u001b[0;34m(\u001b[0m\u001b[0mpath\u001b[0m\u001b[0;34m.\u001b[0m\u001b[0mresolve\u001b[0m\u001b[0;34m(\u001b[0m\u001b[0;34m)\u001b[0m\u001b[0;34m)\u001b[0m\u001b[0;34m\u001b[0m\u001b[0;34m\u001b[0m\u001b[0m\n\u001b[0;32m--> 393\u001b[0;31m     \u001b[0;32mwith\u001b[0m \u001b[0mopen\u001b[0m\u001b[0;34m(\u001b[0m\u001b[0mpath\u001b[0m\u001b[0;34m,\u001b[0m \u001b[0;34m'rb'\u001b[0m\u001b[0;34m)\u001b[0m \u001b[0;32mas\u001b[0m \u001b[0mf\u001b[0m\u001b[0;34m:\u001b[0m\u001b[0;34m\u001b[0m\u001b[0;34m\u001b[0m\u001b[0m\n\u001b[0m\u001b[1;32m    394\u001b[0m       \u001b[0mimg\u001b[0m \u001b[0;34m=\u001b[0m \u001b[0mpil_image\u001b[0m\u001b[0;34m.\u001b[0m\u001b[0mopen\u001b[0m\u001b[0;34m(\u001b[0m\u001b[0mio\u001b[0m\u001b[0;34m.\u001b[0m\u001b[0mBytesIO\u001b[0m\u001b[0;34m(\u001b[0m\u001b[0mf\u001b[0m\u001b[0;34m.\u001b[0m\u001b[0mread\u001b[0m\u001b[0;34m(\u001b[0m\u001b[0;34m)\u001b[0m\u001b[0;34m)\u001b[0m\u001b[0;34m)\u001b[0m\u001b[0;34m\u001b[0m\u001b[0;34m\u001b[0m\u001b[0m\n\u001b[1;32m    395\u001b[0m   \u001b[0;32melse\u001b[0m\u001b[0;34m:\u001b[0m\u001b[0;34m\u001b[0m\u001b[0;34m\u001b[0m\u001b[0m\n",
            "\u001b[0;31mFileNotFoundError\u001b[0m: [Errno 2] No such file or directory: 'Images/happy.jpeg'"
          ]
        }
      ],
      "source": [
        "from tensorflow.keras.preprocessing import image\n",
        "im = image.load_img(image_path, target_size=image_size, color_mode=\"grayscale\")\n",
        "im"
      ]
    },
    {
      "cell_type": "code",
      "execution_count": null,
      "metadata": {
        "id": "CmhYzSeF2xI5",
        "outputId": "a7e51be5-e794-429f-b2b9-5c53a5864a79"
      },
      "outputs": [
        {
          "data": {
            "text/plain": [
              "(224, 224, 1)"
            ]
          },
          "execution_count": 43,
          "metadata": {},
          "output_type": "execute_result"
        }
      ],
      "source": [
        "# Convert the image to a numpy array \n",
        "from tensorflow.keras.preprocessing.image import img_to_array\n",
        "image = img_to_array(im)\n",
        "image.shape"
      ]
    },
    {
      "cell_type": "code",
      "execution_count": null,
      "metadata": {
        "id": "2HKOeBaj2xI5",
        "outputId": "1d88d9c3-b330-4a8e-9a4c-55b6fc3473b3"
      },
      "outputs": [
        {
          "data": {
            "text/plain": [
              "(1, 50176)"
            ]
          },
          "execution_count": 44,
          "metadata": {},
          "output_type": "execute_result"
        }
      ],
      "source": [
        "# Scale the image pixels by 255 (or use a scaler from sklearn here)\n",
        "image /= 255\n",
        "\n",
        "# Flatten into a 1x28*28 array \n",
        "img = image.flatten().reshape(-1, 224*224)\n",
        "img.shape"
      ]
    },
    {
      "cell_type": "code",
      "execution_count": null,
      "metadata": {
        "id": "MdqzD5RP2xI6",
        "outputId": "78037af6-ae21-47d1-8cb4-a75e079c9d4b"
      },
      "outputs": [
        {
          "data": {
            "text/plain": [
              "<matplotlib.image.AxesImage at 0x1f7da17ee08>"
            ]
          },
          "execution_count": 46,
          "metadata": {},
          "output_type": "execute_result"
        },
        {
          "data": {
            "image/png": "[encoded data removed]",
            "text/plain": [
              "<Figure size 432x288 with 1 Axes>"
            ]
          },
          "metadata": {
            "needs_background": "light"
          },
          "output_type": "display_data"
        }
      ],
      "source": [
        "plt.imshow(img.reshape(224, 224), cmap=plt.cm.Greys)"
      ]
    },
    {
      "cell_type": "code",
      "execution_count": null,
      "metadata": {
        "id": "UgF3PPR22xI6",
        "outputId": "76f6d38b-fc06-4e01-e378-95b7efe48d92"
      },
      "outputs": [
        {
          "data": {
            "text/plain": [
              "<matplotlib.image.AxesImage at 0x1f7da9b1788>"
            ]
          },
          "execution_count": 49,
          "metadata": {},
          "output_type": "execute_result"
        },
        {
          "data": {
            "image/png": "[encoded data removed]",
            "text/plain": [
              "<Figure size 432x288 with 1 Axes>"
            ]
          },
          "metadata": {
            "needs_background": "light"
          },
          "output_type": "display_data"
        }
      ],
      "source": [
        "# Invert the pixel values to match the original data\n",
        "img = 1 - img\n",
        "plt.imshow(img.reshape(224, 224), cmap=plt.cm.Greys)"
      ]
    },
    {
      "cell_type": "code",
      "execution_count": null,
      "metadata": {
        "id": "09ddIPnm2xI6",
        "outputId": "6ffe7626-7967-443f-89a7-89939e024ab4"
      },
      "outputs": [
        {
          "name": "stdout",
          "output_type": "stream",
          "text": [
            "1/1 [==============================] - 0s 45ms/step\n"
          ]
        },
        {
          "data": {
            "text/plain": [
              "array([[0., 0., 0., 0., 1., 0., 0., 0.]], dtype=float32)"
            ]
          },
          "execution_count": 53,
          "metadata": {},
          "output_type": "execute_result"
        }
      ],
      "source": [
        "# Make a prediction. The result should be 0000010000000 for a 5\n",
        "model.predict(img).round()"
      ]
    },
    {
      "cell_type": "code",
      "execution_count": null,
      "metadata": {
        "id": "rczwJLt82xI7"
      },
      "outputs": [],
      "source": []
    },
    {
      "cell_type": "code",
      "execution_count": null,
      "metadata": {
        "id": "sHacwnQ_2xI7"
      },
      "outputs": [],
      "source": []
    },
    {
      "cell_type": "code",
      "execution_count": null,
      "metadata": {
        "id": "K0APfupa2xI7"
      },
      "outputs": [],
      "source": []
    },
    {
      "cell_type": "code",
      "execution_count": null,
      "metadata": {
        "id": "KMeKGZzY2xI7"
      },
      "outputs": [],
      "source": []
    }
  ],
  "metadata": {
    "kernelspec": {
      "display_name": "PythonData",
      "language": "python",
      "name": "python3"
    },
    "language_info": {
      "codemirror_mode": {
        "name": "ipython",
        "version": 3
      },
      "file_extension": ".py",
      "mimetype": "text/x-python",
      "name": "python",
      "nbconvert_exporter": "python",
      "pygments_lexer": "ipython3",
      "version": "3.7.13"
    },
    "orig_nbformat": 4,
    "vscode": {
      "interpreter": {
        "hash": "9da66beca27f19bdf81de16e0121a30aa04d4edd5eb88e9a5610932102b72b6f"
      }
    },
    "colab": {
      "provenance": []
    }
  },
  "nbformat": 4,
  "nbformat_minor": 0
}