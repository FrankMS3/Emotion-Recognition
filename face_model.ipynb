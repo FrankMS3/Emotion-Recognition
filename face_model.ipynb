{
  "cells": [
    {
      "cell_type": "code",
      "execution_count": null,
      "metadata": {
        "colab": {
          "base_uri": "https://localhost:8080/"
        },
        "id": "0OTugsGG2xIS",
        "outputId": "a843b663-ebab-47fa-f633-aba8f66e67ba"
      },
      "outputs": [
        {
          "name": "stdout",
          "output_type": "stream",
          "text": [
            "Drive already mounted at /content/drive; to attempt to forcibly remount, call drive.mount(\"/content/drive\", force_remount=True).\n"
          ]
        }
      ],
      "source": [
        "from google.colab import drive\n",
        "drive.mount('/content/drive')"
      ]
    },
    {
      "cell_type": "code",
      "execution_count": 1,
      "metadata": {
        "id": "b6fWC2L92xIY"
      },
      "outputs": [],
      "source": [
        "# importing os module\n",
        "import os\n",
        "import numpy as np\n",
        "from PIL import Image, ImageOps\n",
        "from numpy import asarray\n",
        "from tensorflow import keras\n",
        "from tensorflow.keras.preprocessing import image"
      ]
    },
    {
      "cell_type": "code",
      "execution_count": 2,
      "metadata": {
        "id": "7HWgNWP5u3na"
      },
      "outputs": [],
      "source": [
        "# Dependencies to Visualise the model\n",
        "%matplotlib inline\n",
        "from IPython.display import Image, SVG\n",
        "import matplotlib.pyplot as plt\n",
        "import numpy as np\n",
        "np.random.seed(0)\n",
        "import tensorflow as tf\n",
        "# Sklearn scaling\n",
        "from sklearn.preprocessing import MinMaxScaler\n",
        "from sklearn.preprocessing import OneHotEncoder, LabelEncoder\n",
        "# Keras\n",
        "from tensorflow import keras\n",
        "from tensorflow.keras.models import Sequential\n",
        "from tensorflow.keras.utils import to_categorical\n",
        "from tensorflow.keras.layers import Dense, Dropout, Flatten, Conv2D, MaxPool2D, AveragePooling2D, BatchNormalization\n",
        "#tf.config.run_functions_eagerly(True)\n",
        "#tf.data.experimental.enable_debug_mode()"
      ]
    },
    {
      "cell_type": "code",
      "execution_count": 3,
      "metadata": {
        "id": "0NSuL5_c2xIZ"
      },
      "outputs": [],
      "source": [
        "#Function to convert images to array\n",
        "def img_to_array(target_folder, img_size):\n",
        "    x = []\n",
        "    y = []\n",
        "    path = \"/content/drive/My Drive/archive/face/\"\n",
        "    main_folder = path + target_folder\n",
        "    for count, foldername in enumerate(os.listdir(main_folder)):\n",
        "        print(foldername)\n",
        "        folder = main_folder + \"/\" + foldername\n",
        "        for count, filename in enumerate(os.listdir(folder)):\n",
        "            # load convert and resize the image\n",
        "            img_path = os.path.join(folder, filename)\n",
        "            img = image.load_img(img_path, \n",
        "                                 target_size=(img_size, img_size, 1), \n",
        "                                 color_mode=\"grayscale\")\n",
        "            \n",
        "            # PIL images into NumPy arrays\n",
        "            img_data = image.img_to_array(img)#asarray(img)\n",
        "            x.append(img_data)\n",
        "            y.append(target_folder)\n",
        "    return x,y"
      ]
    },
    {
      "cell_type": "code",
      "execution_count": 4,
      "metadata": {
        "id": "v8-YYAKN2xIa"
      },
      "outputs": [
        {
          "name": "stdout",
          "output_type": "stream",
          "text": [
            "anger\n",
            "disgust\n",
            "fear\n",
            "happyness\n",
            "neutrality\n",
            "person\n",
            "sadness\n",
            "surprise\n",
            "6343\n",
            "6343\n"
          ]
        }
      ],
      "source": [
        "\n",
        "target_folder1= \"human_face\"\n",
        "target_folder2 = \"others\"\n",
        "img_size = 48\n",
        "# Call image to array function to convert all Human Face images to array\n",
        "face_feature,face_target = img_to_array(target_folder1, img_size)\n",
        "print(len(face_feature))\n",
        "print(len(face_target))"
      ]
    },
    {
      "cell_type": "code",
      "execution_count": 5,
      "metadata": {
        "colab": {
          "base_uri": "https://localhost:8080/"
        },
        "id": "qdUY2iNk2xIb",
        "outputId": "a9a7f3ff-5193-4b9d-fbdb-e265cfd14a0e"
      },
      "outputs": [
        {
          "name": "stdout",
          "output_type": "stream",
          "text": [
            "car\n",
            "cat\n",
            "dog\n",
            "emoji\n",
            "flower\n",
            "fruit\n",
            "wild\n",
            "7921\n",
            "7921\n"
          ]
        }
      ],
      "source": [
        "others_feature,others_target = img_to_array(target_folder2, img_size)\n",
        "print(len(others_feature))\n",
        "print(len(others_target))"
      ]
    },
    {
      "cell_type": "code",
      "execution_count": 6,
      "metadata": {
        "colab": {
          "base_uri": "https://localhost:8080/"
        },
        "id": "dlAgteiV2xIi",
        "outputId": "725dd31d-a939-4d3f-b4de-ee5554c938a7"
      },
      "outputs": [
        {
          "name": "stdout",
          "output_type": "stream",
          "text": [
            "(14264, 48, 48, 1)\n",
            "(14264,)\n"
          ]
        }
      ],
      "source": [
        "#For Face Models only\n",
        "features1 = others_feature + face_feature\n",
        "target1 = others_target + face_target\n",
        "\n",
        "features1_arr = np.array(features1)\n",
        "target1_arr = np.array(target1)\n",
        "print(features1_arr.shape)\n",
        "print(target1_arr.shape)"
      ]
    },
    {
      "cell_type": "code",
      "execution_count": 7,
      "metadata": {
        "id": "mVie27Mp2xIk"
      },
      "outputs": [
        {
          "name": "stdout",
          "output_type": "stream",
          "text": [
            "(14264, 48, 48, 1)\n",
            "(14264,)\n"
          ]
        }
      ],
      "source": [
        "# Tranfer the arrays to coresponding variables\n",
        "X = features1_arr\n",
        "y= target1_arr\n",
        "print(X.shape)\n",
        "print(y.shape)"
      ]
    },
    {
      "cell_type": "code",
      "execution_count": 8,
      "metadata": {
        "id": "JJ67-CvE2xIn"
      },
      "outputs": [
        {
          "name": "stdout",
          "output_type": "stream",
          "text": [
            "(10698, 48, 48, 1)\n",
            "(10698,)\n"
          ]
        }
      ],
      "source": [
        "# Use sklearn to split dataset\n",
        "from sklearn.model_selection import train_test_split\n",
        "X_train, X_test, y_train, y_test = train_test_split(X, y, random_state=73)\n",
        "# Check the shape of traing data\n",
        "print(X_train.shape)\n",
        "# Check the shape of testing data\n",
        "print(y_train.shape)"
      ]
    },
    {
      "cell_type": "code",
      "execution_count": 9,
      "metadata": {
        "id": "gUfZEFtw2xIu"
      },
      "outputs": [],
      "source": [
        "X_train = X_train.astype('float32')\n",
        "X_test = X_test.astype('float32')\n",
        "# normalizing the data to help with the training\n",
        "X_train /= 255\n",
        "X_test /= 255"
      ]
    },
    {
      "cell_type": "code",
      "execution_count": 10,
      "metadata": {
        "colab": {
          "base_uri": "https://localhost:8080/"
        },
        "id": "USAo5Bvo2xIw",
        "outputId": "75e34111-70b8-4d7c-9dd1-ad40bcda1b47"
      },
      "outputs": [
        {
          "data": {
            "text/plain": [
              "array(['human_face', 'others'], dtype='<U10')"
            ]
          },
          "execution_count": 10,
          "metadata": {},
          "output_type": "execute_result"
        }
      ],
      "source": [
        "# Encode the labels to numeric form\n",
        "le = LabelEncoder()\n",
        "y_train_encoded = le.fit_transform(y_train)\n",
        "y_test_encoded = le.fit_transform(y_test)\n",
        "classes = le.classes_\n",
        "classes"
      ]
    },
    {
      "cell_type": "code",
      "execution_count": 11,
      "metadata": {
        "colab": {
          "base_uri": "https://localhost:8080/"
        },
        "id": "hPUW8QSn2xIw",
        "outputId": "69f2bab7-87d0-4f0c-b76d-69273599dbcd"
      },
      "outputs": [
        {
          "data": {
            "text/plain": [
              "array([0., 1.], dtype=float32)"
            ]
          },
          "execution_count": 11,
          "metadata": {},
          "output_type": "execute_result"
        }
      ],
      "source": [
        "# We need to convert our target labels (expected values) to categorical data\n",
        "num_classes = 2 #len(classes)\n",
        "y_train = to_categorical(y_train_encoded, num_classes)\n",
        "y_test = to_categorical(y_test_encoded, num_classes)\n",
        "\n",
        "y_train[0]"
      ]
    },
    {
      "cell_type": "code",
      "execution_count": 12,
      "metadata": {
        "colab": {
          "base_uri": "https://localhost:8080/"
        },
        "id": "JrXB24Si2xIx",
        "outputId": "c6cb32a0-6fd3-4ce4-9587-4e82f139544d"
      },
      "outputs": [
        {
          "data": {
            "text/plain": [
              "array([[0.43529412],\n",
              "       [0.4117647 ],\n",
              "       [0.49019608],\n",
              "       [0.32941177],\n",
              "       [0.3137255 ],\n",
              "       [0.33333334],\n",
              "       [0.28627452],\n",
              "       [0.24705882],\n",
              "       [0.28627452],\n",
              "       [0.27058825],\n",
              "       [0.2627451 ],\n",
              "       [0.41568628],\n",
              "       [0.6117647 ],\n",
              "       [0.6313726 ],\n",
              "       [0.6745098 ],\n",
              "       [0.69411767],\n",
              "       [0.67058825],\n",
              "       [0.67058825],\n",
              "       [0.6       ],\n",
              "       [0.6       ],\n",
              "       [0.59607846],\n",
              "       [0.58431375],\n",
              "       [0.58431375],\n",
              "       [0.5764706 ],\n",
              "       [0.4117647 ],\n",
              "       [0.21176471],\n",
              "       [0.23529412],\n",
              "       [0.06666667],\n",
              "       [0.07450981],\n",
              "       [0.08235294],\n",
              "       [0.09411765],\n",
              "       [0.04705882],\n",
              "       [0.02745098],\n",
              "       [0.03137255],\n",
              "       [0.02352941],\n",
              "       [0.01568628],\n",
              "       [0.11372549],\n",
              "       [0.03529412],\n",
              "       [0.03529412],\n",
              "       [0.03137255],\n",
              "       [0.02745098],\n",
              "       [0.03137255],\n",
              "       [0.02745098],\n",
              "       [0.02745098],\n",
              "       [0.03137255],\n",
              "       [0.02745098],\n",
              "       [0.03137255],\n",
              "       [0.01960784]], dtype=float32)"
            ]
          },
          "execution_count": 12,
          "metadata": {},
          "output_type": "execute_result"
        }
      ],
      "source": [
        "X_train[0][0]"
      ]
    },
    {
      "cell_type": "code",
      "execution_count": 13,
      "metadata": {
        "id": "E9XV93BD2xIx"
      },
      "outputs": [],
      "source": [
        "# building a linear stack of layers with the sequential model\n",
        "model = Sequential()\n",
        "activ = 'relu'\n",
        "\n",
        "# convolutional layer\n",
        "model.add(Conv2D(32, kernel_size=3, padding='valid', \n",
        "                 activation=activ, \n",
        "                 input_shape=X_train[0].shape))\n",
        "model.add(BatchNormalization())\n",
        "model.add(MaxPool2D(pool_size=(2, 2)))\n",
        "model.add(Dropout(0.25))\n",
        "\n",
        "model.add(Conv2D(64, kernel_size=3, padding='valid', \n",
        "                 activation=activ))\n",
        "model.add(BatchNormalization())\n",
        "model.add(MaxPool2D(pool_size=(2, 2)))\n",
        "model.add(Dropout(0.25))\n",
        "\n",
        "# flatten output of conv\n",
        "model.add(Flatten())\n",
        "\n",
        "# hidden layer\n",
        "model.add(Dense(128, activation= activ))\n",
        "model.add(BatchNormalization())\n",
        "model.add(Dropout(0.5))\n",
        "\n",
        "model.add(Dense(64, activation= activ))\n",
        "model.add(BatchNormalization())\n",
        "model.add(Dropout(0.5))\n",
        "\n",
        "# output layer\n",
        "model.add(Dense(2, activation='sigmoid'))\n",
        "\n",
        "# compiling the sequential model\n",
        "model.compile(loss='binary_crossentropy', \n",
        "              metrics=['accuracy'], optimizer= 'sgd')"
      ]
    },
    {
      "cell_type": "code",
      "execution_count": 24,
      "metadata": {},
      "outputs": [
        {
          "name": "stdout",
          "output_type": "stream",
          "text": [
            "Model: \"sequential\"\n",
            "_________________________________________________________________\n",
            " Layer (type)                Output Shape              Param #   \n",
            "=================================================================\n",
            " conv2d (Conv2D)             (None, 46, 46, 32)        320       \n",
            "                                                                 \n",
            " batch_normalization (BatchN  (None, 46, 46, 32)       128       \n",
            " ormalization)                                                   \n",
            "                                                                 \n",
            " max_pooling2d (MaxPooling2D  (None, 23, 23, 32)       0         \n",
            " )                                                               \n",
            "                                                                 \n",
            " dropout (Dropout)           (None, 23, 23, 32)        0         \n",
            "                                                                 \n",
            " conv2d_1 (Conv2D)           (None, 21, 21, 64)        18496     \n",
            "                                                                 \n",
            " batch_normalization_1 (Batc  (None, 21, 21, 64)       256       \n",
            " hNormalization)                                                 \n",
            "                                                                 \n",
            " max_pooling2d_1 (MaxPooling  (None, 10, 10, 64)       0         \n",
            " 2D)                                                             \n",
            "                                                                 \n",
            " dropout_1 (Dropout)         (None, 10, 10, 64)        0         \n",
            "                                                                 \n",
            " flatten (Flatten)           (None, 6400)              0         \n",
            "                                                                 \n",
            " dense (Dense)               (None, 128)               819328    \n",
            "                                                                 \n",
            " batch_normalization_2 (Batc  (None, 128)              512       \n",
            " hNormalization)                                                 \n",
            "                                                                 \n",
            " dropout_2 (Dropout)         (None, 128)               0         \n",
            "                                                                 \n",
            " dense_1 (Dense)             (None, 64)                8256      \n",
            "                                                                 \n",
            " batch_normalization_3 (Batc  (None, 64)               256       \n",
            " hNormalization)                                                 \n",
            "                                                                 \n",
            " dropout_3 (Dropout)         (None, 64)                0         \n",
            "                                                                 \n",
            " dense_2 (Dense)             (None, 2)                 130       \n",
            "                                                                 \n",
            "=================================================================\n",
            "Total params: 847,682\n",
            "Trainable params: 847,106\n",
            "Non-trainable params: 576\n",
            "_________________________________________________________________\n"
          ]
        }
      ],
      "source": [
        "model.summary()"
      ]
    },
    {
      "cell_type": "code",
      "execution_count": 15,
      "metadata": {
        "colab": {
          "base_uri": "https://localhost:8080/"
        },
        "id": "1-FRRuQYu3u_",
        "outputId": "027352a7-4fe6-450a-f8a8-c26bcadddc3f"
      },
      "outputs": [
        {
          "name": "stdout",
          "output_type": "stream",
          "text": [
            "Epoch 1/5\n",
            "168/168 [==============================] - 62s 333ms/step - loss: 0.4405 - accuracy: 0.8351 - val_loss: 0.8861 - val_accuracy: 0.4302\n",
            "Epoch 2/5\n",
            "168/168 [==============================] - 49s 290ms/step - loss: 0.2187 - accuracy: 0.9319 - val_loss: 0.6287 - val_accuracy: 0.6105\n",
            "Epoch 3/5\n",
            "168/168 [==============================] - 59s 348ms/step - loss: 0.1691 - accuracy: 0.9450 - val_loss: 0.1894 - val_accuracy: 0.9596\n",
            "Epoch 4/5\n",
            "168/168 [==============================] - 54s 321ms/step - loss: 0.1538 - accuracy: 0.9475 - val_loss: 0.3086 - val_accuracy: 0.8393\n",
            "Epoch 5/5\n",
            "168/168 [==============================] - 46s 274ms/step - loss: 0.1426 - accuracy: 0.9520 - val_loss: 0.0978 - val_accuracy: 0.9680\n"
          ]
        },
        {
          "data": {
            "text/plain": [
              "<keras.callbacks.History at 0x1e35cf81a08>"
            ]
          },
          "execution_count": 15,
          "metadata": {},
          "output_type": "execute_result"
        }
      ],
      "source": [
        "# training the model for 10 epochs\n",
        "model.fit(X_train, y_train, batch_size=64, epochs=5, validation_data=(X_test, y_test))"
      ]
    },
    {
      "cell_type": "code",
      "execution_count": 16,
      "metadata": {
        "colab": {
          "base_uri": "https://localhost:8080/",
          "height": 295
        },
        "id": "cKRw-T2yvQeI",
        "outputId": "187b8481-4530-433e-fd01-782c0c9f1656"
      },
      "outputs": [
        {
          "data": {
            "image/png": "[encoded data removed]",
            "text/plain": [
              "<Figure size 432x288 with 1 Axes>"
            ]
          },
          "metadata": {
            "needs_background": "light"
          },
          "output_type": "display_data"
        }
      ],
      "source": [
        "#  \"Accuracy\"\n",
        "plt.plot(model.history.history['accuracy'])\n",
        "plt.plot(model.history.history['val_accuracy'])\n",
        "plt.title('model accuracy')\n",
        "plt.ylabel('accuracy')\n",
        "plt.xlabel('epoch')\n",
        "plt.legend(['train', 'validation'], loc='upper left')\n",
        "plt.show()\n"
      ]
    },
    {
      "cell_type": "code",
      "execution_count": 17,
      "metadata": {
        "colab": {
          "base_uri": "https://localhost:8080/",
          "height": 295
        },
        "id": "XY4mKd_kvQgq",
        "outputId": "54cbc416-a5f1-4f2c-d971-c0b3c2dd485c"
      },
      "outputs": [
        {
          "data": {
            "image/png": "[encoded data removed]",
            "text/plain": [
              "<Figure size 432x288 with 1 Axes>"
            ]
          },
          "metadata": {
            "needs_background": "light"
          },
          "output_type": "display_data"
        }
      ],
      "source": [
        "# \"Loss\"\n",
        "plt.plot(model.history.history['loss'])\n",
        "plt.plot(model.history.history['val_loss'])\n",
        "plt.title('model loss')\n",
        "plt.ylabel('loss')\n",
        "plt.xlabel('epoch')\n",
        "plt.legend(['train', 'validation'], loc='upper left')\n",
        "plt.show()"
      ]
    },
    {
      "cell_type": "markdown",
      "metadata": {
        "id": "-BBj2QrH2xI0"
      },
      "source": [
        "## Saving and Loading models\n",
        "\n",
        "We can save our trained models using the HDF5 binary format with the extension `.h5`"
      ]
    },
    {
      "cell_type": "code",
      "execution_count": 18,
      "metadata": {
        "id": "KRmQr7bJ2xI2"
      },
      "outputs": [],
      "source": [
        "# Save the model\n",
        "model.save(\"trained_models/face_model.h5\")"
      ]
    },
    {
      "cell_type": "code",
      "execution_count": null,
      "metadata": {
        "id": "QrPu4SaqBr1w"
      },
      "outputs": [],
      "source": []
    },
    {
      "cell_type": "code",
      "execution_count": 19,
      "metadata": {
        "id": "SN6eFVgE2xI3"
      },
      "outputs": [],
      "source": [
        "# Load the model\n",
        "from tensorflow.keras.models import load_model\n",
        "model = load_model(\"trained_models/face_model.h5\")"
      ]
    },
    {
      "cell_type": "code",
      "execution_count": 20,
      "metadata": {
        "colab": {
          "base_uri": "https://localhost:8080/"
        },
        "id": "HpVuCxFaBtP6",
        "outputId": "b6b871a1-47b9-4795-e0ce-7c322e2f2d2e"
      },
      "outputs": [
        {
          "data": {
            "text/plain": [
              "<keras.engine.sequential.Sequential at 0x1e35d618a08>"
            ]
          },
          "execution_count": 20,
          "metadata": {},
          "output_type": "execute_result"
        }
      ],
      "source": [
        "model"
      ]
    },
    {
      "cell_type": "markdown",
      "metadata": {
        "id": "xCPuXKW_2xI3"
      },
      "source": [
        "## Evaluating the Model\n",
        "\n",
        "We use our testing data to validate our model. This is how we determine the validity of our model (i.e. the ability to predict new and previously unseen data points)"
      ]
    },
    {
      "cell_type": "code",
      "execution_count": 21,
      "metadata": {
        "colab": {
          "base_uri": "https://localhost:8080/",
          "height": 200
        },
        "id": "T8Y7mTCL2xI3",
        "outputId": "debbfa58-25de-4959-bf09-bf0bc871c802"
      },
      "outputs": [
        {
          "name": "stdout",
          "output_type": "stream",
          "text": [
            "112/112 - 7s - loss: 0.0978 - accuracy: 0.9680 - 7s/epoch - 58ms/step\n",
            "Loss: 0.09782330691814423, Accuracy: 0.9680314064025879\n"
          ]
        }
      ],
      "source": [
        "# Evaluate the model using the training data \n",
        "model_loss, model_accuracy = model.evaluate(X_test, y_test, verbose=2)\n",
        "print(f\"Loss: {model_loss}, Accuracy: {model_accuracy}\")"
      ]
    },
    {
      "cell_type": "markdown",
      "metadata": {
        "id": "DjvfZFqi2xI4"
      },
      "source": [
        "## Making Predictions\n",
        "\n",
        "We can use our trained model to make predictions using `model.predict`"
      ]
    },
    {
      "cell_type": "code",
      "execution_count": 22,
      "metadata": {
        "id": "YcRexD_Y2xI4"
      },
      "outputs": [],
      "source": [
        "# Define default image size for our model\n",
        "image_path = os.path.join(\"test_image\", \"emoji1.jpeg\").replace(\"\\\\\", \"/\")"
      ]
    },
    {
      "cell_type": "code",
      "execution_count": 23,
      "metadata": {},
      "outputs": [
        {
          "data": {
            "image/png": "[encoded data removed]",
            "text/plain": [
              "<Figure size 432x288 with 1 Axes>"
            ]
          },
          "metadata": {
            "needs_background": "light"
          },
          "output_type": "display_data"
        },
        {
          "name": "stdout",
          "output_type": "stream",
          "text": [
            "1/1 [==============================] - 1s 1s/step\n",
            "others\n"
          ]
        }
      ],
      "source": [
        "import matplotlib.pyplot as plt\n",
        "from PIL import Image, ImageOps\n",
        "from tensorflow.keras.preprocessing import image\n",
        "im = Image.open(image_path)\n",
        "plt.imshow(im)\n",
        "plt.show()\n",
        "# Resize\n",
        "img = im.resize((img_size, img_size))\n",
        "# Grayscale\n",
        "imgGray = img.convert('L')\n",
        "# Convert the image to a numpy array \n",
        "image = image.img_to_array(imgGray)\n",
        "# Scale the image pixels by 255 (or use a scaler from sklearn here)\n",
        "image /= 255\n",
        "# building the input vector from the 28x28 pixels\n",
        "f_data = image.reshape(1,img_size, img_size,1) #con1D\n",
        "# f_data = image.reshape(1,size* size) #dense\n",
        "# Make a prediction\n",
        "face_result = model.predict(f_data).round()\n",
        "face_index = np.argmax(face_result)\n",
        "face = classes[face_index]\n",
        "print(face)"
      ]
    }
  ],
  "metadata": {
    "colab": {
      "provenance": []
    },
    "kernelspec": {
      "display_name": "PythonData",
      "language": "python",
      "name": "python3"
    },
    "language_info": {
      "codemirror_mode": {
        "name": "ipython",
        "version": 3
      },
      "file_extension": ".py",
      "mimetype": "text/x-python",
      "name": "python",
      "nbconvert_exporter": "python",
      "pygments_lexer": "ipython3",
      "version": "3.7.13 (default, Mar 28 2022, 08:03:21) [MSC v.1916 64 bit (AMD64)]"
    },
    "orig_nbformat": 4,
    "vscode": {
      "interpreter": {
        "hash": "9da66beca27f19bdf81de16e0121a30aa04d4edd5eb88e9a5610932102b72b6f"
      }
    }
  },
  "nbformat": 4,
  "nbformat_minor": 0
}
